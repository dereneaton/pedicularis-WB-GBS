{
 "cells": [
  {
   "cell_type": "markdown",
   "metadata": {},
   "source": [
    "# Assembly of *Pedicularis* PE-GBS data set\n",
    "\n",
    "A library for 48 samples was prepared following the protocol described in Escudero et al. 2013 with the PstI restriction enzyme, followed by PCR amplification of primer ligated fragments. The library prep lacked a size selection step, which we discuss in the methods below.  The library was sequenced on one lane of an Illumina HiSeq 2000 yielding xxx reads."
   ]
  },
  {
   "cell_type": "markdown",
   "metadata": {},
   "source": [
    "### This notebook\n",
    "This notebook provides a fully reproducible workflow to assemble the Yu-Eaton-Ree (2012) *Pedicularis* GBS data set. This notebook and its results files are stored in the following github repo [see git repo here](https://github.com/dereneaton/pedicularis-WB-GBS). Starting from the raw data files, we denovo assemble the data in *ipyrad* to demultiplex,  filter, and cluster reads within Samples, before clustering conensus reads between samples to identify homology, and finally filtering and formating to create output files. Analysis of the resulting files is shown in separate notebooks, again available in the [git repo](https://github.com/dereneaton/pedicularis-WB-GBS)."
   ]
  },
  {
   "cell_type": "code",
   "execution_count": 1,
   "metadata": {
    "collapsed": false
   },
   "outputs": [
    {
     "name": "stdout",
     "output_type": "stream",
     "text": [
      "https://github.com/dereneaton/pedicularis-WB-GBS.git\r\n"
     ]
    }
   ],
   "source": [
    "## show that this dir is a git repo (has .git file mapping to the address shown)\n",
    "## this allows me to push updates to this notebook directly to github, \n",
    "## to easily share its conents with others.\n",
    "! git config --get remote.origin.url"
   ]
  },
  {
   "cell_type": "markdown",
   "metadata": {},
   "source": [
    "### Import ipyrad and other common modules"
   ]
  },
  {
   "cell_type": "code",
   "execution_count": 15,
   "metadata": {
    "collapsed": false
   },
   "outputs": [
    {
     "name": "stdout",
     "output_type": "stream",
     "text": [
      "ipyrad v.0.4.9\n",
      "ipyparallel v.5.2.0\n",
      "numpy v.1.11.2\n"
     ]
    }
   ],
   "source": [
    "## all necessary software is installed alongside ipyrad, \n",
    "## and can be installed by uncommenting the command below\n",
    "# conda install -c ipyrad ipyrad -y\n",
    "\n",
    "## import basic modules and ipyrad and print version\n",
    "import os\n",
    "import socket\n",
    "import glob\n",
    "import subprocess as sps\n",
    "import numpy as np\n",
    "import ipyparallel as ipp\n",
    "import ipyrad as ip\n",
    "\n",
    "print \"ipyrad v.{}\".format(ip.__version__)\n",
    "print \"ipyparallel v.{}\".format(ipp.__version__)\n",
    "print \"numpy v.{}\".format(np.__version__)"
   ]
  },
  {
   "cell_type": "markdown",
   "metadata": {},
   "source": [
    "### The cluster\n",
    "This notebook is connected to 80 cores on 5 nodes of the Farnam HPC cluster at Yale. SSH Tunneling was set up following [this tutorial](http://ipyrad.readthedocs.io/HPC_Tunnel.html). Below I use the ipyparallel Python module to show explicitly which host nodes we are connected to, and which *ipyrad* will make use of. "
   ]
  },
  {
   "cell_type": "code",
   "execution_count": 4,
   "metadata": {
    "collapsed": false
   },
   "outputs": [
    {
     "name": "stdout",
     "output_type": "stream",
     "text": [
      "80 total cores\n",
      "host compute node: [16 cores] on c13n02.farnam.hpc.yale.internal\n",
      "host compute node: [16 cores] on c13n05.farnam.hpc.yale.internal\n",
      "host compute node: [16 cores] on c13n04.farnam.hpc.yale.internal\n",
      "host compute node: [16 cores] on c13n01.farnam.hpc.yale.internal\n",
      "host compute node: [16 cores] on c13n03.farnam.hpc.yale.internal\n"
     ]
    }
   ],
   "source": [
    "## open direct and load-balanced views to the client\n",
    "ipyclient = ipp.Client()\n",
    "lbview = ipyclient.load_balanced_view()\n",
    "print \"{} total cores\".format(len(ipyclient.ids))\n",
    "\n",
    "## confirm we are connected to 4 8-core nodes\n",
    "hosts = ipyclient[:].apply_sync(socket.gethostname)\n",
    "for hostname in set(hosts):\n",
    "    print(\"host compute node: [{} cores] on {}\"\\\n",
    "          .format(hosts.count(hostname), hostname))"
   ]
  },
  {
   "cell_type": "markdown",
   "metadata": {},
   "source": [
    "### Set up a working directory\n",
    "This notebook is run from a local directory on the HPC cluster, while the scratch dir will be used as a working directory in which all big seq files will be stored. We will transfer a few files to the local dir in the end to save them for downstream analyses and to upload to github. "
   ]
  },
  {
   "cell_type": "code",
   "execution_count": 5,
   "metadata": {
    "collapsed": false
   },
   "outputs": [
    {
     "name": "stdout",
     "output_type": "stream",
     "text": [
      "working directory (WORK) = /ysm-gpfs/scratch60/de243/WB-PED\n",
      "current directory (NBDIR) = /ysm-gpfs/home/de243/pedicularis-WB-GBS\n"
     ]
    }
   ],
   "source": [
    "## create a new directory in HPC scratch dir\n",
    "WORK = \"/ysm-gpfs/scratch60/de243/WB-PED\"\n",
    "if not os.path.exists(WORK):\n",
    "    os.mkdir(WORK)\n",
    "\n",
    "## the current dir (./) in which this notebook resides\n",
    "NBDIR = os.path.realpath(os.curdir)\n",
    "\n",
    "## print both\n",
    "print \"working directory (WORK) = {}\".format(WORK)\n",
    "print \"current directory (NBDIR) = {}\".format(NBDIR)"
   ]
  },
  {
   "cell_type": "markdown",
   "metadata": {},
   "source": [
    "### The raw data\n",
    "The raw R1 and R2 data are each split into 59 gzipped files approximately 300MB in size. The barcodes file maps sample names to barcodes that are contained inline in the R1 sequences, and are 4-8bp in length. The barcodes are printed a little further below. "
   ]
  },
  {
   "cell_type": "code",
   "execution_count": 6,
   "metadata": {
    "collapsed": false
   },
   "outputs": [],
   "source": [
    "## Locations of the raw data stored temporarily on Yale's Louise HPC cluster\n",
    "## Data are also stored more permanently on local computer tinus at Yale\n",
    "RAWREADS = \"/ysm-gpfs/project/de243/RADSEQ_RAWS/WB-PEDICULARIS/*.fastq.gz\"\n",
    "BARCODES = \"/ysm-gpfs/project/de243/BARCODES/WB-PED_barcodes.txt\""
   ]
  },
  {
   "cell_type": "markdown",
   "metadata": {},
   "source": [
    "### Fastqc quality check\n",
    "\n",
    "I ran the program *fastQC* on the raw data files to do a quality check, the results of which are available here [fastqc_dir](https://github.com/dereneaton/pedicularis-WB-GBS/tree/master/tmp_fastqc). Overall, quality scores were not terrible, but also not great, our biggest problem was very high adapter contamination. I will filter this out using the program *cutadapt* implemented in step2 of *ipyrad*, and discussed further below."
   ]
  },
  {
   "cell_type": "code",
   "execution_count": null,
   "metadata": {
    "collapsed": true
   },
   "outputs": [],
   "source": [
    "## if needed, uncomment and run the command below to install fastqc\n",
    "#conda install -c bioconda fastqc -q "
   ]
  },
  {
   "cell_type": "code",
   "execution_count": 7,
   "metadata": {
    "collapsed": false
   },
   "outputs": [
    {
     "name": "stdout",
     "output_type": "stream",
     "text": [
      " 119/119 tasks finished after 1137 s\n",
      "done\n"
     ]
    }
   ],
   "source": [
    "## create a tmp directory for fastqc outfiles (./tmp_fastqc)\n",
    "QUALDIR = os.path.join(NBDIR, \"fastqc\")\n",
    "if not os.path.exists(QUALDIR):\n",
    "    os.mkdir(QUALDIR)\n",
    "    \n",
    "## run fastqc on all raw data files and write outputs to fastqc.\n",
    "## This is parallelized by load-balancing by lbview \n",
    "jobs = {}\n",
    "for infile in glob.glob(RAWREADS):\n",
    "    cmd = ['fastqc', infile, '--outdir', QUALDIR, '-t', '1', '-q']\n",
    "    jobs[infile] = lbview.apply_async(sps.check_output, cmd)\n",
    "    \n",
    "## block until all finished and print progress\n",
    "ipyclient.wait_interactive()\n",
    "\n",
    "## check for fails\n",
    "for key in jobs:\n",
    "    if not jobs[key].successful():\n",
    "        print jobs[key].exception()"
   ]
  },
  {
   "cell_type": "markdown",
   "metadata": {},
   "source": [
    "### Create demultiplexed files for each Sample in *ipyrad*\n",
    "We set the location to the data and barcodes info for each object, and set the max barcode mismatch parameter to zero (strict), allowing no mismatches. "
   ]
  },
  {
   "cell_type": "code",
   "execution_count": 8,
   "metadata": {
    "collapsed": false
   },
   "outputs": [
    {
     "name": "stdout",
     "output_type": "stream",
     "text": [
      "  New Assembly: WB-PED_demux\n",
      "  0   assembly_name               WB-PED_demux                                 \n",
      "  1   project_dir                 /ysm-gpfs/scratch60/de243/WB-PED/demux_reads \n",
      "  2   raw_fastq_path              /ysm-gpfs/project/de243/RADSEQ_RAWS/WB-PEDICULARIS/*.fastq.gz\n",
      "  3   barcodes_path               /ysm-gpfs/project/de243/BARCODES/WB-PED_barcodes.txt\n",
      "  4   sorted_fastq_path                                                        \n",
      "  5   assembly_method             denovo                                       \n",
      "  6   reference_sequence                                                       \n",
      "  7   datatype                    pairgbs                                      \n",
      "  8   restriction_overhang        ('TGCAG', 'TGCAG')                           \n",
      "  9   max_low_qual_bases          5                                            \n",
      "  10  phred_Qscore_offset         33                                           \n",
      "  11  mindepth_statistical        6                                            \n",
      "  12  mindepth_majrule            6                                            \n",
      "  13  maxdepth                    10000                                        \n",
      "  14  clust_threshold             0.85                                         \n",
      "  15  max_barcode_mismatch        0                                            \n",
      "  16  filter_adapters             0                                            \n",
      "  17  filter_min_trim_len         35                                           \n",
      "  18  max_alleles_consens         2                                            \n",
      "  19  max_Ns_consens              (5, 5)                                       \n",
      "  20  max_Hs_consens              (8, 8)                                       \n",
      "  21  min_samples_locus           4                                            \n",
      "  22  max_SNPs_locus              (20, 20)                                     \n",
      "  23  max_Indels_locus            (8, 8)                                       \n",
      "  24  max_shared_Hs_locus         0.5                                          \n",
      "  25  edit_cutsites               (0, 0)                                       \n",
      "  26  trim_overhang               (0, 0, 0, 0)                                 \n",
      "  27  output_formats              *                                            \n",
      "  28  pop_assign_file                                                          \n"
     ]
    }
   ],
   "source": [
    "## create an object to demultiplex each lane\n",
    "demux = ip.Assembly(\"WB-PED_demux\")\n",
    "\n",
    "## set basic derep parameters for the two objects\n",
    "demux.set_params(\"project_dir\", os.path.join(WORK, \"demux_reads\"))\n",
    "demux.set_params(\"raw_fastq_path\", RAWREADS)\n",
    "demux.set_params(\"barcodes_path\", BARCODES)\n",
    "demux.set_params(\"max_barcode_mismatch\", 0)\n",
    "demux.set_params(\"datatype\", \"pairgbs\")\n",
    "demux.set_params(\"restriction_overhang\", (\"TGCAG\", \"TGCAG\"))\n",
    "\n",
    "## print params\n",
    "demux.get_params()"
   ]
  },
  {
   "cell_type": "code",
   "execution_count": 9,
   "metadata": {
    "collapsed": false
   },
   "outputs": [
    {
     "name": "stdout",
     "output_type": "stream",
     "text": [
      "\n",
      "  Assembly: WB-PED_demux\n",
      "  [####################] 100%  chunking large files  | 0:00:00 | s1 | \n",
      "  [####################] 100%  sorting reads         | 0:50:52 | s1 | \n",
      "  [####################] 100%  writing/compressing   | 0:42:32 | s1 | \n"
     ]
    }
   ],
   "source": [
    "demux.run(\"1\")"
   ]
  },
  {
   "cell_type": "markdown",
   "metadata": {},
   "source": [
    "### Look at demux results \n",
    "Showing just a few lines of the results below, you can see that a *ton* of reads did not match to a barcode due to Ns in the barcode region of reads for files numbered 041-050. We should allow for a mismatch in the barcode sequence to recover many of these. So we reran step 1 allowing for one bp difference. "
   ]
  },
  {
   "cell_type": "code",
   "execution_count": 10,
   "metadata": {
    "collapsed": false,
    "scrolled": false
   },
   "outputs": [
    {
     "name": "stdout",
     "output_type": "stream",
     "text": [
      "total reads recovered: 182369514\n",
      "\n",
      "raw_file                               total_reads    cut_found  bar_matched\n",
      "lane2_NoIndex_L002_R1_040.fastq            4000000      3998844      3288695\n",
      "lane2_NoIndex_L002_R2_040.fastq            4000000      3998844      3288695\n",
      "lane2_NoIndex_L002_R1_041.fastq            4000000      3999819       978178\n",
      "lane2_NoIndex_L002_R2_041.fastq            4000000      3999819       978178\n",
      "lane2_NoIndex_L002_R1_042.fastq            4000000      3999912       538103\n",
      "lane2_NoIndex_L002_R2_042.fastq            4000000      3999912       538103\n",
      "lane2_NoIndex_L002_R1_043.fastq            4000000      4000000            0\n",
      "lane2_NoIndex_L002_R2_043.fastq            4000000      4000000            0\n",
      "lane2_NoIndex_L002_R1_044.fastq            4000000      4000000            0\n",
      "lane2_NoIndex_L002_R2_044.fastq            4000000      4000000            0\n",
      "lane2_NoIndex_L002_R1_045.fastq            4000000      4000000            0\n",
      "lane2_NoIndex_L002_R2_045.fastq            4000000      4000000            0\n",
      "lane2_NoIndex_L002_R1_046.fastq            4000000      4000000            0\n",
      "lane2_NoIndex_L002_R2_046.fastq            4000000      4000000            0\n",
      "lane2_NoIndex_L002_R1_047.fastq            4000000      4000000            0\n",
      "lane2_NoIndex_L002_R2_047.fastq            4000000      4000000            0\n",
      "lane2_NoIndex_L002_R1_048.fastq            4000000      4000000            0\n",
      "lane2_NoIndex_L002_R2_048.fastq            4000000      4000000            0\n",
      "lane2_NoIndex_L002_R1_049.fastq            4000000      4000000            0\n",
      "lane2_NoIndex_L002_R2_049.fastq            4000000      4000000            0\n",
      "lane2_NoIndex_L002_R1_050.fastq            4000000      3999399      2039300\n",
      "lane2_NoIndex_L002_R2_050.fastq            4000000      3999399      2039300\n",
      "lane2_NoIndex_L002_R1_051.fastq            4000000      3998782      3754015\n",
      "lane2_NoIndex_L002_R2_051.fastq            4000000      3998782      3754015\n",
      "lane2_NoIndex_L002_R1_052.fastq            4000000      3998858      3749135\n",
      "lane2_NoIndex_L002_R2_052.fastq            4000000      3998858      3749135\n",
      "lane2_NoIndex_L002_R1_053.fastq            4000000      3998922      3738752\n",
      "lane2_NoIndex_L002_R2_053.fastq            4000000      3998922      3738752\n",
      "lane2_NoIndex_L002_R1_054.fastq            4000000      3998831      3730847\n",
      "lane2_NoIndex_L002_R2_054.fastq            4000000      3998831      3730847\n",
      "lane2_NoIndex_L002_R1_055.fastq            4000000      3998765      3686866\n",
      "lane2_NoIndex_L002_R2_055.fastq            4000000      3998765      3686866\n",
      "lane2_NoIndex_L002_R1_056.fastq            4000000      3998782      3682624\n",
      "lane2_NoIndex_L002_R2_056.fastq            4000000      3998782      3682624\n",
      "lane2_NoIndex_L002_R1_057.fastq            4000000      3998800      3640227\n",
      "lane2_NoIndex_L002_R2_057.fastq            4000000      3998800      3640227\n",
      "lane2_NoIndex_L002_R1_058.fastq            4000000      3998770      3644126\n",
      "lane2_NoIndex_L002_R2_058.fastq            4000000      3998770      3644126\n",
      "lane2_NoIndex_L002_R1_059.fastq            4000000      3998811      3265886\n",
      "lane2_NoIndex_L002_R2_059.fastq            4000000      3998811      3265886\n"
     ]
    }
   ],
   "source": [
    "## print total\n",
    "print \"total reads recovered: {}\\n\".format(demux.stats.reads_raw.sum())\n",
    "\n",
    "## print header, and then selected results across raw files\n",
    "! head -n 1 $demux.stats_files.s1\n",
    "! cat $demux.stats_files.s1 | grep 0[4-5][0-9].fastq"
   ]
  },
  {
   "cell_type": "code",
   "execution_count": 11,
   "metadata": {
    "collapsed": false,
    "scrolled": true
   },
   "outputs": [
    {
     "name": "stdout",
     "output_type": "stream",
     "text": [
      "\n",
      "  Assembly: WB-PED_demux\n",
      "    [force] overwriting fastq files previously *created by ipyrad* in:\n",
      "    /ysm-gpfs/scratch60/de243/WB-PED/demux_reads/WB-PED_demux_fastqs\n",
      "    This does not affect your *original/raw data files*\n",
      "  [####################] 100%  chunking large files  | 0:00:00 | s1 | \n",
      "  [####################] 100%  sorting reads         | 0:52:39 | s1 | \n",
      "  [####################] 100%  writing/compressing   | 0:59:53 | s1 | \n"
     ]
    }
   ],
   "source": [
    "## run with one bp mismatch\n",
    "demux.set_params(\"max_barcode_mismatch\", 1)\n",
    "## the force flag tells it to overwrite the previous data\n",
    "demux.run(\"1\", force=True)"
   ]
  },
  {
   "cell_type": "code",
   "execution_count": 12,
   "metadata": {
    "collapsed": false
   },
   "outputs": [
    {
     "name": "stdout",
     "output_type": "stream",
     "text": [
      "total reads recovered: 221196301\n",
      "\n",
      "raw_file                               total_reads    cut_found  bar_matched\n",
      "lane2_NoIndex_L002_R1_040.fastq            4000000      3998844      3722871\n",
      "lane2_NoIndex_L002_R2_040.fastq            4000000      3998844      3722871\n",
      "lane2_NoIndex_L002_R1_041.fastq            4000000      3999819      3790942\n",
      "lane2_NoIndex_L002_R2_041.fastq            4000000      3999819      3790942\n",
      "lane2_NoIndex_L002_R1_042.fastq            4000000      3999912      3761225\n",
      "lane2_NoIndex_L002_R2_042.fastq            4000000      3999912      3761225\n",
      "lane2_NoIndex_L002_R1_043.fastq            4000000      4000000      3744178\n",
      "lane2_NoIndex_L002_R2_043.fastq            4000000      4000000      3744178\n",
      "lane2_NoIndex_L002_R1_044.fastq            4000000      4000000      3661280\n",
      "lane2_NoIndex_L002_R2_044.fastq            4000000      4000000      3661280\n",
      "lane2_NoIndex_L002_R1_045.fastq            4000000      4000000      3593439\n",
      "lane2_NoIndex_L002_R2_045.fastq            4000000      4000000      3593439\n",
      "lane2_NoIndex_L002_R1_046.fastq            4000000      4000000      3717015\n",
      "lane2_NoIndex_L002_R2_046.fastq            4000000      4000000      3717015\n",
      "lane2_NoIndex_L002_R1_047.fastq            4000000      4000000      3607287\n",
      "lane2_NoIndex_L002_R2_047.fastq            4000000      4000000      3607287\n",
      "lane2_NoIndex_L002_R1_048.fastq            4000000      4000000      3623573\n",
      "lane2_NoIndex_L002_R2_048.fastq            4000000      4000000      3623573\n",
      "lane2_NoIndex_L002_R1_049.fastq            4000000      4000000      3563002\n",
      "lane2_NoIndex_L002_R2_049.fastq            4000000      4000000      3563002\n",
      "lane2_NoIndex_L002_R1_050.fastq            4000000      3999399      3651403\n",
      "lane2_NoIndex_L002_R2_050.fastq            4000000      3999399      3651403\n",
      "lane2_NoIndex_L002_R1_051.fastq            4000000      3998782      3814341\n",
      "lane2_NoIndex_L002_R2_051.fastq            4000000      3998782      3814341\n",
      "lane2_NoIndex_L002_R1_052.fastq            4000000      3998858      3810195\n",
      "lane2_NoIndex_L002_R2_052.fastq            4000000      3998858      3810195\n",
      "lane2_NoIndex_L002_R1_053.fastq            4000000      3998922      3803281\n",
      "lane2_NoIndex_L002_R2_053.fastq            4000000      3998922      3803281\n",
      "lane2_NoIndex_L002_R1_054.fastq            4000000      3998831      3798334\n",
      "lane2_NoIndex_L002_R2_054.fastq            4000000      3998831      3798334\n",
      "lane2_NoIndex_L002_R1_055.fastq            4000000      3998765      3767662\n",
      "lane2_NoIndex_L002_R2_055.fastq            4000000      3998765      3767662\n",
      "lane2_NoIndex_L002_R1_056.fastq            4000000      3998782      3779830\n",
      "lane2_NoIndex_L002_R2_056.fastq            4000000      3998782      3779830\n",
      "lane2_NoIndex_L002_R1_057.fastq            4000000      3998800      3719182\n",
      "lane2_NoIndex_L002_R2_057.fastq            4000000      3998800      3719182\n",
      "lane2_NoIndex_L002_R1_058.fastq            4000000      3998770      3729803\n",
      "lane2_NoIndex_L002_R2_058.fastq            4000000      3998770      3729803\n",
      "lane2_NoIndex_L002_R1_059.fastq            4000000      3998811      3719652\n",
      "lane2_NoIndex_L002_R2_059.fastq            4000000      3998811      3719652\n"
     ]
    }
   ],
   "source": [
    "## print total\n",
    "print \"total reads recovered: {}\\n\".format(demux.stats.reads_raw.sum())\n",
    "\n",
    "## print header, and then selected results across raw files\n",
    "! head -n 1 $demux.stats_files.s1\n",
    "! cat $demux.stats_files.s1 | grep 0[4-5][0-9].fastq"
   ]
  },
  {
   "cell_type": "markdown",
   "metadata": {},
   "source": [
    "### copy the results txt file back to the local dir (git repo)\n",
    "I then pushed it to the repo [(view the full results here)](https://github.com/dereneaton/pedicularis-WB-GBS/blob/master/s1_demultiplex_stats.txt)"
   ]
  },
  {
   "cell_type": "code",
   "execution_count": 13,
   "metadata": {
    "collapsed": true
   },
   "outputs": [],
   "source": [
    "## the result of this demux look better, so I copied the step1\n",
    "## stats file to the local dir and pushed it to the git repo.\n",
    "! cp $demux.stats_files.s1 $NBDIR"
   ]
  },
  {
   "cell_type": "markdown",
   "metadata": {},
   "source": [
    "### Start an assembly of the data set\n",
    "I usually prefer to start my analyses from data that are already de-multiplexed, since the demux fastq files are typically what is available to others after a study is published and that data are made available online. So here we will create an Assembly object and read in the demultiplexed data. Then we will run step 2 to filter the data and take a close look at the results. "
   ]
  },
  {
   "cell_type": "code",
   "execution_count": null,
   "metadata": {
    "collapsed": false
   },
   "outputs": [],
   "source": [
    "## this will be our assembly object for steps 1-6\n",
    "data = ip.Assembly(\"c85d5f2h5\")\n",
    "\n",
    "## (optional) set a more fine-tuned threading for our cluster\n",
    "data._ipcluster[\"threads\"] = 4\n",
    "\n",
    "## demux data location\n",
    "DEMUX = os.path.join(demux.dirs.fastqs, \"*gz\")\n",
    "\n",
    "## set parameters for this assembly and print them \n",
    "data.set_params(\"project_dir\", os.path.join(WORK, data.name))\n",
    "data.set_params(\"sorted_fastq_path\", DEMUX)\n",
    "data.set_params(\"barcodes_path\", BARCODES)\n",
    "data.set_params(\"filter_adapters\", 2)\n",
    "data.set_params(\"datatype\", \"pairgbs\")\n",
    "data.set_params(\"restriction_overhang\", (\"TGCAG\", \"TGCAG\"))\n",
    "data.set_params(\"max_Hs_consens\", (5, 5))\n",
    "data.set_params(\"max_SNPs_locus\", (10, 10))\n",
    "data.set_params(\"trim_overhang\", (5, 5, 5, 5))\n",
    "data.get_params()"
   ]
  },
  {
   "cell_type": "code",
   "execution_count": 24,
   "metadata": {
    "collapsed": false,
    "scrolled": false
   },
   "outputs": [
    {
     "name": "stdout",
     "output_type": "stream",
     "text": [
      "\n",
      "  Assembly: c85d5f2h5\n",
      "  [####################] 100%  processing reads      | 1:56:35 | s2 | \n"
     ]
    }
   ],
   "source": [
    "## run steps 1-6\n",
    "data.run(\"12\", force=True)"
   ]
  },
  {
   "cell_type": "code",
   "execution_count": 25,
   "metadata": {
    "collapsed": false
   },
   "outputs": [
    {
     "name": "stdout",
     "output_type": "stream",
     "text": [
      "       state  reads_raw  reads_passed_filter\n",
      "count     48         48                   48\n",
      "mean       2    4608256              3373635\n",
      "std        0    2749596              2021110\n",
      "min        2     778354               512561\n",
      "25%        2    3209073              2230412\n",
      "50%        2    4055004              3017553\n",
      "75%        2    5111423              3787007\n",
      "max        2   17032493             11951396\n"
     ]
    }
   ],
   "source": [
    "print data.stats.describe().astype(int)"
   ]
  },
  {
   "cell_type": "markdown",
   "metadata": {},
   "source": [
    "### Filtering stats\n",
    "I pushed the full step 2 stats file to github [(see it here)](https://github.com/dereneaton/pedicularis-WB-GBS/blob/master/s2_rawedit_stats.txt). As you can tell from this little snippet, tons of reads were trimmed of adapters, and trimmed for quality scores."
   ]
  },
  {
   "cell_type": "code",
   "execution_count": 26,
   "metadata": {
    "collapsed": false,
    "scrolled": true
   },
   "outputs": [
    {
     "name": "stdout",
     "output_type": "stream",
     "text": [
      "           reads_raw  trim_adapter_bp_read1  trim_adapter_bp_read2  \\\n",
      "L20090356    4143404                1836178                1983663   \n",
      "L2DZ0984     4646226                1890089                2095516   \n",
      "L2DZ0988     4948408                2195090                2371398   \n",
      "L2DZ0989     4209024                1803353                1950326   \n",
      "L2DZ0990     4621835                1962933                2150203   \n",
      "\n",
      "           trim_quality_bp_read1  trim_quality_bp_read2  reads_filtered_by_Ns  \\\n",
      "L20090356               63255677               59275618                  1484   \n",
      "L2DZ0984                74989294               69346878                  1654   \n",
      "L2DZ0988                71173489               62383199                  1935   \n",
      "L2DZ0989                62485246               60599462                  1577   \n",
      "L2DZ0990                72114365               66128652                  1712   \n",
      "\n",
      "           reads_filtered_by_minlen  reads_passed_filter  \n",
      "L20090356                   1052632              3089288  \n",
      "L2DZ0984                    1202751              3441821  \n",
      "L2DZ0988                    1213140              3733333  \n",
      "L2DZ0989                    1024033              3183414  \n",
      "L2DZ0990                    1159538              3460585  \n"
     ]
    }
   ],
   "source": [
    "## print just the first few samples\n",
    "print data.stats_dfs.s2.head()"
   ]
  },
  {
   "cell_type": "markdown",
   "metadata": {},
   "source": [
    "### Run remaining steps of Assembly"
   ]
  },
  {
   "cell_type": "code",
   "execution_count": 13,
   "metadata": {
    "collapsed": false,
    "scrolled": true
   },
   "outputs": [
    {
     "name": "stdout",
     "output_type": "stream",
     "text": [
      "\n",
      "  Assembly: c85d5f2h5\n",
      "  [####################] 100%  dereplicating         | 0:11:03 | s3 | \n",
      "  [####################] 100%  clustering            | 9:16:24 | s3 | \n",
      "  [####################] 100%  building clusters     | 0:02:00 | s3 | \n",
      "  [####################] 100%  chunking              | 0:00:03 | s3 | \n",
      "  [####################] 100%  aligning              | 10:42:51 | s3 | \n",
      "  [####################] 100%  concatenating         | 0:01:59 | s3 | \n",
      "  [####################] 100%  inferring [H, E]      | 3:34:46 | s4 | \n",
      "  [####################] 100%  chunking clusters     | 0:01:22 | s5 | \n",
      "  [####################] 100%  consens calling       | 0:42:29 | s5 | \n",
      "  [####################] 100%  concat/shuffle input  | 0:00:15 | s6 | \n",
      "  [####################] 100%  clustering across     | 0:28:47 | s6 | \n",
      "  [####################] 100%  building clusters     | 0:00:11 | s6 | \n",
      "  [####################] 100%  aligning clusters     | 0:12:19 | s6 | \n",
      "  [####################] 100%  database indels       | 0:02:43 | s6 | \n",
      "  [####################] 100%  indexing clusters     | 0:01:21 | s6 | \n",
      "  [####################] 100%  building database     | 0:09:49 | s6 | \n"
     ]
    }
   ],
   "source": [
    "data.run(\"3456\")"
   ]
  },
  {
   "cell_type": "code",
   "execution_count": 11,
   "metadata": {
    "collapsed": false
   },
   "outputs": [
    {
     "name": "stdout",
     "output_type": "stream",
     "text": [
      "       clusters_total  filtered_by_depth  filtered_by_maxH  filtered_by_maxN  \\\n",
      "count              48                 48                48                48   \n",
      "mean           388877              85148              1859              1063   \n",
      "std            208509              48816              1335               667   \n",
      "min             54200              10918               165                85   \n",
      "25%            236413              50829               856               499   \n",
      "50%            361790              79171              1606               968   \n",
      "75%            497653             110681              2466              1442   \n",
      "max           1037905             257291              6632              3083   \n",
      "\n",
      "       reads_consens   nsites  nhetero  heterozygosity  \n",
      "count             48       48       48              48  \n",
      "mean           29256  3065792    39580               0  \n",
      "std            16764  1831307    23804               0  \n",
      "min             5323   474566     4597               0  \n",
      "25%            15586  1603669    20923               0  \n",
      "50%            25541  2840841    36482               0  \n",
      "75%            41032  4421219    50616               0  \n",
      "max            74723  7829306   115085               0  \n"
     ]
    }
   ],
   "source": [
    "## quick look at which filters applied most in step 5\n",
    "print data.stats_dfs.s5.describe().astype(int)"
   ]
  },
  {
   "cell_type": "markdown",
   "metadata": {},
   "source": [
    "### Create final output files\n",
    "We will do this for several values of `min_samples_locus`, and provide unique names for each resulting assembly. "
   ]
  },
  {
   "cell_type": "code",
   "execution_count": 12,
   "metadata": {
    "collapsed": false,
    "scrolled": true
   },
   "outputs": [
    {
     "name": "stdout",
     "output_type": "stream",
     "text": [
      "\n",
      "  Assembly: min4_c85d5f2h5\n",
      "  [####################] 100%  filtering loci        | 0:01:41 | s7 | \n",
      "  [####################] 100%  building loci/stats   | 0:00:08 | s7 | \n",
      "  [####################] 100%  building vcf file     | 0:00:51 | s7 | \n",
      "  [####################] 100%  writing vcf file      | 0:00:01 | s7 | \n",
      "  [####################] 100%  writing outfiles      | 0:00:08 | s7 | \n",
      "  Outfiles written to: /ysm-gpfs/scratch60/de243/WB-PED/c85d5f2h5/min4_c85d5f2h5_outfiles\n",
      "\n",
      "  Assembly: min10_c85d5f2h5\n",
      "  [####################] 100%  filtering loci        | 0:00:31 | s7 | \n",
      "  [####################] 100%  building loci/stats   | 0:00:08 | s7 | \n",
      "  [####################] 100%  building vcf file     | 0:00:28 | s7 | \n",
      "  [####################] 100%  writing vcf file      | 0:00:00 | s7 | \n",
      "  [####################] 100%  writing outfiles      | 0:00:01 | s7 | \n",
      "  Outfiles written to: /ysm-gpfs/scratch60/de243/WB-PED/c85d5f2h5/min10_c85d5f2h5_outfiles\n"
     ]
    }
   ],
   "source": [
    "## create named branches for final assemblies\n",
    "min4 = data.branch(\"min4_c85d5f2h5\")\n",
    "min4.set_params(\"min_samples_locus\", 4)\n",
    "\n",
    "min10 = data.branch(\"min10_c85d5f2h5\")\n",
    "min10.set_params(\"min_samples_locus\", 10)\n",
    "\n",
    "## assemble outfiles\n",
    "min4.run(\"7\", force=True)\n",
    "min10.run(\"7\", force=True)"
   ]
  },
  {
   "cell_type": "markdown",
   "metadata": {},
   "source": [
    "### Print final stats for the min4 assembly"
   ]
  },
  {
   "cell_type": "code",
   "execution_count": 13,
   "metadata": {
    "collapsed": false,
    "scrolled": false
   },
   "outputs": [
    {
     "name": "stdout",
     "output_type": "stream",
     "text": [
      "\r\n",
      "\r\n",
      "## The number of loci caught by each filter.\r\n",
      "## ipyrad API location: [assembly].statsfiles.s7_filters\r\n",
      "\r\n",
      "                            total_filters  applied_order  retained_loci\r\n",
      "total_prefiltered_loci             191873              0         191873\r\n",
      "filtered_by_rm_duplicates           11199          11199         180674\r\n",
      "filtered_by_max_indels               2155           1607         179067\r\n",
      "filtered_by_max_snps                22951          18514         160553\r\n",
      "filtered_by_max_shared_het             49              6         160547\r\n",
      "filtered_by_min_sample             128346         123369          37178\r\n",
      "filtered_by_max_alleles             60455          15075          22103\r\n",
      "total_filtered_loci                 22103              0          22103\r\n",
      "\r\n",
      "\r\n",
      "## The number of loci recovered for each Sample.\r\n",
      "## ipyrad API location: [assembly].stats_dfs.s7_samples\r\n",
      "\r\n",
      "            sample_coverage\r\n",
      "L20090356              1869\r\n",
      "L2DZ0984               3361\r\n",
      "L2DZ0988               2983\r\n",
      "L2DZ0989               2905\r\n",
      "L2DZ0990               3386\r\n",
      "L2DZ1006               4587\r\n",
      "L2DZ1007               6577\r\n",
      "L2DZ1011               3465\r\n",
      "L2DZ1016               1653\r\n",
      "L2DZ1019               2020\r\n",
      "L2DZ1027               4107\r\n",
      "L2DZ1060               5217\r\n",
      "L2DZ1070               5631\r\n",
      "L2DZ1180               2958\r\n",
      "L2DZ1204               2228\r\n",
      "L2DZ1243               3796\r\n",
      "L2DZ1266               1942\r\n",
      "L2DZ1268               1632\r\n",
      "L2DZ1282_1             1882\r\n",
      "LHW10069               3438\r\n",
      "LHW10071               2976\r\n",
      "LHW10074               4367\r\n",
      "LHW10346               1965\r\n",
      "LJ-118                 2598\r\n",
      "d19long1                659\r\n",
      "d30181                 3542\r\n",
      "d30695                 4773\r\n",
      "d31733                 3248\r\n",
      "d33291                  994\r\n",
      "d34041                 2085\r\n",
      "d35178                 1891\r\n",
      "d35320                  904\r\n",
      "d35371                  809\r\n",
      "d35422                 1195\r\n",
      "d39103                 4455\r\n",
      "d39104                  604\r\n",
      "d39114                 2522\r\n",
      "d39187                 1223\r\n",
      "d39253                 4447\r\n",
      "d39404                 2700\r\n",
      "d39531                 3204\r\n",
      "d39968                 3819\r\n",
      "d40328                 1988\r\n",
      "d41058                  920\r\n",
      "d41237                  427\r\n",
      "d41389                 2466\r\n",
      "d41732                 1665\r\n",
      "decor21                3646\r\n",
      "\r\n",
      "\r\n",
      "## The number of loci for which N taxa have data.\r\n",
      "## ipyrad API location: [assembly].stats_dfs.s7_loci\r\n",
      "\r\n",
      "    locus_coverage  sum_coverage\r\n",
      "1                0             0\r\n",
      "2                0             0\r\n",
      "3                0             0\r\n",
      "4             9593          9593\r\n",
      "5             4739         14332\r\n",
      "6             2538         16870\r\n",
      "7             1528         18398\r\n",
      "8              982         19380\r\n",
      "9              763         20143\r\n",
      "10             444         20587\r\n",
      "11             309         20896\r\n",
      "12             202         21098\r\n",
      "13             154         21252\r\n",
      "14             145         21397\r\n",
      "15             110         21507\r\n",
      "16              96         21603\r\n",
      "17              81         21684\r\n",
      "18              67         21751\r\n",
      "19              49         21800\r\n",
      "20              34         21834\r\n",
      "21              39         21873\r\n",
      "22              35         21908\r\n",
      "23              30         21938\r\n",
      "24              43         21981\r\n",
      "25              23         22004\r\n",
      "26               7         22011\r\n",
      "27              11         22022\r\n",
      "28               7         22029\r\n",
      "29               5         22034\r\n",
      "30               4         22038\r\n",
      "31              10         22048\r\n",
      "32               6         22054\r\n",
      "33               3         22057\r\n",
      "34               4         22061\r\n",
      "35               4         22065\r\n",
      "36               3         22068\r\n",
      "37               2         22070\r\n",
      "38               4         22074\r\n",
      "39               1         22075\r\n",
      "40               1         22076\r\n",
      "41               0         22076\r\n",
      "42               3         22079\r\n",
      "43               4         22083\r\n",
      "44               2         22085\r\n",
      "45               5         22090\r\n",
      "46               4         22094\r\n",
      "47               3         22097\r\n",
      "48               6         22103\r\n",
      "\r\n",
      "\r\n",
      "## The distribution of SNPs (var and pis) across loci.\r\n",
      "## var = all variable sites (pis + autapomorphies)\r\n",
      "## pis = parsimony informative site (minor allele in >1 sample)\r\n",
      "## ipyrad API location: [assembly].stats_dfs.s7_snps\r\n",
      "\r\n",
      "     var  sum_var   pis  sum_pis\r\n",
      "0   3433        0  9479        0\r\n",
      "1   3045     3045  4821     4821\r\n",
      "2   2573     8191  2719    10259\r\n",
      "3   2245    14926  1811    15692\r\n",
      "4   2015    22986  1117    20160\r\n",
      "5   1781    31891   827    24295\r\n",
      "6   1486    40807   540    27535\r\n",
      "7   1408    50663   358    30041\r\n",
      "8   1157    59919   210    31721\r\n",
      "9   1068    69531   107    32684\r\n",
      "10   964    79171    52    33204\r\n",
      "11   160    80931    21    33435\r\n",
      "12   152    82755    16    33627\r\n",
      "13   125    84380     7    33718\r\n",
      "14   136    86284    12    33886\r\n",
      "15   108    87904     2    33916\r\n",
      "16    90    89344     3    33964\r\n",
      "17    64    90432     1    33981\r\n",
      "18    55    91422     0    33981\r\n",
      "19    27    91935     0    33981\r\n",
      "20    11    92155     0    33981"
     ]
    }
   ],
   "source": [
    "!cat $min4.stats_files.s7"
   ]
  },
  {
   "cell_type": "markdown",
   "metadata": {},
   "source": [
    "### A quick view of the first few loci"
   ]
  },
  {
   "cell_type": "code",
   "execution_count": 14,
   "metadata": {
    "collapsed": false
   },
   "outputs": [
    {
     "name": "stdout",
     "output_type": "stream",
     "text": [
      "d19long1       CTACGAATTGTGTTTCGTTGGCGGACnnnnAGGAAGAAGGGTTTGACGAGGCTGAGCCATCGGTG\r\n",
      "d30181         CTAGGTATTGTGTTTCGTTGGCGGGCnnnnAGGAAGAAGGGTTTGACGAGGCTGAGCCATCGGTG\r\n",
      "d31733         CTAGGTATTGTGTTTCGTTGGCAGGCnnnnAGGAAGAAGGGTTTGACGAGGCTGAGCCATCGGTG\r\n",
      "d39253         CTAGGTATTGTGTTTCGTTGGCGGACnnnnAGGAAGAAGNGTTTGACAAGGCTGAGCCATCGGTG\r\n",
      "//                - -                - *                      -                 \r\n",
      "d19long1       AGCATGCTNGAGTCGGGTTCGTCNTCGAGCACYTCGTTCTCNANGTCGCCGGTGCCCACCCATTG\r\n",
      "d30695         AGCATGCTGGAGTCGGGTTCGTCGTCGAGCACYTCGTTCTCCACGTCGCCGGTGCCSACCNATTG\r\n",
      "d41389         AGCATGCTCGAGTCGGGTTCGTCGTCGAGCACCTCGTTCTCCACGTCGCCGGTGCCGACCCATTG\r\n",
      "decor21        AGCATGCTGGAGTCGGGTTCGTCGTCGAGCACCTCGTTCTCCACGTCGCCGGTGCCCACCCATTG\r\n",
      "//                     -                       *                       *        \r\n",
      "d19long1       ACTTATTCATCATCCAACGGGCGGCCTTAC\r\n",
      "d34041         ACTTRTTCATCATCCAACGGGCGGCCTTAC\r\n",
      "d39103         ACTTATTCATCATCCAACGGGCGGCCTTAC\r\n",
      "d39253         ACTTATTCATCATCCAACGGGCGGCCTTAC\r\n",
      "decor21        ACTTATTCATCATCCAACGGGCGGCCTTAC\r\n",
      "//                 -                         |14|\r\n",
      "d19long1       GAGAAGCTATTGGATGCCACGAGGGAGGAATTACCCGACAnnnnGATCTTGGGTTAGTATT-AAA\r\n",
      "d39104         GAGAAGCTATTGGATGCCACGAGGGNGGAATTACCCGACAnnnnGATCTTGGGTTAGTATT-AAA\r\n",
      "d39187         GAGAAGCTATTGGATGCCACGAGGGNGGAATTACCCGACAnnnnGATCTTGNGTTAGTTTT-GAA\r\n",
      "d39531         GAGAAGCTATTGGATGCCACGAGGGAGGAATTACCCGACAnnnnGATCTTGGGTTAGTAT--AAA\r\n",
      "d40328         GAGAAGCTATTGGATGCCACGAGGGAGGANTTACCCGACAnnnn--TCTTGGGTTAGTATTAAAA\r\n",
      "//                                                                       -   -  \r\n",
      "L2DZ0988       CTCGTCCGTGTCGAACACGTCGCACGCGCTCCTGCACCCCACCGTCCGCCCGCCGCTCYTnnnnT\r\n",
      "d19long1       CTCGTCCGTGTCGAACACGTCGCACGCGCTCCGGCACCCCACCGTCCGACCGCCGCTCCTnnnnT\r\n",
      "d31733         CTCGTCCGTGTCGAACACGTCGCACGCGCTCCGGCACCCCACCGTCCGACCGCCGCTCCTnnnnT\r\n",
      "d35422         CTCGTCCGTGTCGAACACGTCGCACGCGCTCCGGCACCCCACCGTCCGACCGCCGCTCCTnnnn-\r\n",
      "d39968         CTCGTCCGTGTCGAACACGNCGNNCGCGCTCCGGCACCCCACCGTCCGACCGCCGCTCCTnnnnT\r\n",
      "d41058         CTCGTCCGTGTCGAACACGNCGCACGCNCTCCGGCACCCCACCGTCCGACCGCCGCTCCTnnnnT\r\n",
      "//                                             -               -         -      \r\n",
      "d19long1       TAAGTAGCATGTAAGTTTCCTTATATAGATATATGTTAACATGTTAATAATAAYAATTAATCTTA\r\n",
      "d35422         TAAGTAGCATGTAAGTTTCCTTATATAGATATATGTTAACATGTTAATAATAATAATTAATCTTA\r\n",
      "d39103         TAAGTAGCATGTAAGTTTCCTTATATAGANANATGTTAACATGTTAANAANAATAATTAATCTTA\r\n",
      "d39104         TAAGTAGCATGTAAGTTTCCTTATATAGATATATGTTAACATGTTAATAATAATAATTAATCTTA\r\n",
      "d39114         TAAGTAGCATGTAAGTTTCCTTATGTAGATATATGTTAACATGTTAATAATAATAATTAATCCTA\r\n",
      "d39253         TAAGTAGCATGTAAGTTTCCTTATATAGATATATGTTAACATGTTAATAATAATAATTAATCTTA\r\n",
      "d39404         TAAGTAGCATGTAAGTTTCCTTATGTAGATATANGTTAACATGTTAATAATAATAATTAATCCTA\r\n",
      "d41058         TAAGTAGCATGTAAGTTTCCTTATATAGATATATGTTAACATGTTAATAATAAYAATTAATCTTA\r\n",
      "//                                     *                            *        *  \r\n",
      "L2DZ1007       AGCGTCGTGACGACGACGATGAAnnnnTGAGGGGNCTGTNGGCGCTCCACGCGCCG\r\n",
      "L2DZ1060       AGYGTCGTGACGACGACGATGAAnnnnTGAGGGGGCTGTTGGCGCTCCACGCGCCG\r\n",
      "d19long1       AGCGTCGTGACGACGACGATGAAnnnnTGAGGGGGCTGTTGGCGCTCCACGCGCCG\r\n",
      "d39253         AGCGTCGTGACGACGACGATGAAnnnnTGAGGGGGCTGTTGGGNCNCCNCGCGCCN\r\n",
      "//               -                                       -             |54|\r\n",
      "L2DZ1011       ATGACGAGTCCATACAGAAGGCGAA\r\n",
      "L2DZ1060       ATGACGAGTCCATACAGAAGGCGAA\r\n",
      "LHW10071       ATGACGAGTCCATACAGAAGGNGNN\r\n",
      "d19long1       ATGACGAGTCCATACAGAAGGCGAA\r\n",
      "//                                      |58|\r\n",
      "L2DZ0989       CCAGCCCACCATCAGTCCAACGAAGGGGGAGATGGTACGGTCTGCGCGTGGCATGATTGAGTTCA\r\n",
      "L2DZ1006       CCAGCCCACCATCAGTCCAACGAAGGGGGAGATGGTACGGTCTGCGCGTGGCATGATTGAGTTCA\r\n"
     ]
    }
   ],
   "source": [
    "! head -n 50 $min4.outfiles.loci | cut -c 1-80"
   ]
  },
  {
   "cell_type": "markdown",
   "metadata": {},
   "source": [
    "## Analysis methods"
   ]
  },
  {
   "cell_type": "code",
   "execution_count": 30,
   "metadata": {
    "collapsed": false
   },
   "outputs": [
    {
     "name": "stdout",
     "output_type": "stream",
     "text": [
      "  loading Assembly: min4_c85d5f2h5\n",
      "  from saved path: /fastscratch/de243/WB-PED/c85d5f2h5/min4_c85d5f2h5.json\n"
     ]
    },
    {
     "data": {
      "text/plain": [
       "'/fastscratch/de243/WB-PED/c85d5f2h5/min4_c85d5f2h5_outfiles/min4_c85d5f2h5.phy'"
      ]
     },
     "execution_count": 30,
     "metadata": {},
     "output_type": "execute_result"
    }
   ],
   "source": [
    "## reload, b/c I disconnected and came back.\n",
    "min10 = ip.load_json(\"/fastscratch/de243/WB-PED/c85d5f2h5/min10_c85d5f2h5.json\")\n",
    "min10.outfiles.loci[:-5]+'.phy'"
   ]
  },
  {
   "cell_type": "code",
   "execution_count": 20,
   "metadata": {
    "collapsed": false
   },
   "outputs": [],
   "source": []
  },
  {
   "cell_type": "code",
   "execution_count": 78,
   "metadata": {
    "collapsed": false
   },
   "outputs": [
    {
     "name": "stdout",
     "output_type": "stream",
     "text": [
      "still running. \n",
      "tail: \n"
     ]
    }
   ],
   "source": [
    "## ask if it's still running in background\n",
    "if proc.poll():\n",
    "    print proc.returncode\n",
    "else:\n",
    "    tail = ! tail $RAXDIR/RAxML_info.min10*\n",
    "    print \"still running. \\ntail:\", tail[-1]"
   ]
  },
  {
   "cell_type": "markdown",
   "metadata": {
    "collapsed": false
   },
   "source": [
    "### Transfer output files to the git repo for downstream analyses"
   ]
  },
  {
   "cell_type": "code",
   "execution_count": 17,
   "metadata": {
    "collapsed": false
   },
   "outputs": [
    {
     "name": "stdout",
     "output_type": "stream",
     "text": [
      "/ysm-gpfs/scratch60/de243/WB-PED\n",
      "/ysm-gpfs/home/de243/pedicularis-WB-GBS\n"
     ]
    }
   ],
   "source": [
    "## move data from WORK to NBDIR\n",
    "print WORK\n",
    "print NBDIR\n",
    "\n",
    "! cp -r  $WORK/c85d5f2h5/min4_c85d5f2h5_outfiles/ $NBDIR\n",
    "! cp -r  $WORK/c85d5f2h5/min10_c85d5f2h5_outfiles/ $NBDIR\n"
   ]
  },
  {
   "cell_type": "code",
   "execution_count": 6,
   "metadata": {
    "collapsed": false
   },
   "outputs": [
    {
     "name": "stdout",
     "output_type": "stream",
     "text": [
      "\n",
      "                   /-L2DZ1204, 1.0\n",
      "            /, 100.0\n",
      "           |       \\-L2DZ1180, 1.0\n",
      "           |\n",
      "           |                   /-L2DZ1027, 1.0\n",
      "           |            /, 100.0\n",
      "     /, 100.0          |       \\-L2DZ1006, 1.0\n",
      "    |      |      /, 95.0\n",
      "    |      |     |     |      /-L2DZ1268, 1.0\n",
      "    |      |     |      \\, 95.0\n",
      "    |      |     |           |       /-L2DZ1266, 1.0\n",
      "    |      |     |            \\, 100.0\n",
      "    |       \\, 95.0                  \\-L2DZ1007, 1.0\n",
      "    |            |\n",
      "    |            |       /-L2DZ1011, 1.0\n",
      "    |            |      |\n",
      "    |            |      |            /-L2DZ1070, 1.0\n",
      "    |             \\, 100.0     /, 97.0\n",
      "    |                   |     |     |       /-LHW10346, 1.0\n",
      "    |                   |     |      \\, 100.0\n",
      "    |                   |     |             \\-L2DZ1060, 1.0\n",
      "    |                    \\, 83.0\n",
      "    |                         |             /-L2DZ0988, 1.0\n",
      "    |                         |       /, 96.0\n",
      "    |                         |      |      \\-LHW10074, 1.0\n",
      "    |                         |      |\n",
      "    |                          \\, 100.0     /-LHW10069, 1.0\n",
      "    |                                |     |\n",
      "    |                                |     |             /-L2DZ1282_1, 1.0\n",
      "-, 1.0                                \\, 99.0     /, 100.0\n",
      "    |                                      |     |      |       /-L2DZ0990, 1.0\n",
      "    |                                      |     |       \\, 100.0\n",
      "    |                                      |     |             |       /-L2DZ1243, 1.0\n",
      "    |                                       \\, 99.0             \\, 100.0\n",
      "    |                                            |                     \\-L2DZ1016, 1.0\n",
      "    |                                            |\n",
      "    |                                            |      /-LJ-118, 1.0\n",
      "    |                                            |     |\n",
      "    |                                             \\, 91.0           /-L2DZ0989, 1.0\n",
      "    |                                                  |      /, 78.0\n",
      "    |                                                  |     |      \\-LHW10071, 1.0\n",
      "    |                                                   \\, 65.0\n",
      "    |                                                        |      /-L2DZ0984, 1.0\n",
      "    |                                                         \\, 74.0\n",
      "    |                                                              |       /-L2DZ1019, 1.0\n",
      "    |                                                               \\, 100.0\n",
      "    |                                                                      \\-L20090356, 1.0\n",
      "    |\n",
      "    |       /-P. fletcheri 30181, 1.0\n",
      "    |      |\n",
      "    |      |      /-P. cephalantha 35320, 1.0\n",
      "    |      |     |\n",
      "     \\, 100.0    |                    /-P. siphonantha 35371, 1.0\n",
      "           |     |             /, 100.0\n",
      "           |     |            |       \\-P. siphonantha 35178, 1.0\n",
      "           |     |      /, 100.0\n",
      "            \\, 86.0    |      |       /-P. siphonantha 41732, 1.0\n",
      "                 |     |       \\, 100.0\n",
      "                 |     |              \\-P. siphonantha 30695, 1.0\n",
      "                 |     |\n",
      "                 |     |             /-P. longiflora 35422, 1.0\n",
      "                 |     |      /, 100.0\n",
      "                  \\, 68.0    |      |       /-P. longiflora var. tubiformis 41058, 1.0\n",
      "                       |     |       \\, 100.0\n",
      "                       |     |             |       /-P. longiflora var. tubiformis 39104, 1.0\n",
      "                       |     |              \\, 100.0\n",
      "                       |     |                     \\-P. longiflora XX-DE19, 1.0\n",
      "                       |     |\n",
      "                       |     |            /-P. davidii 39968, 1.0\n",
      "                        \\, 89.0          |\n",
      "                             |           |             /-P. armata var. trimaculata 39404, 1.0\n",
      "                             |      /, 87.0     /, 100.0\n",
      "                             |     |     |     |       \\-P. armata var. trimaculata 39114, 1.0\n",
      "                             |     |     |     |\n",
      "                             |     |      \\, 89.0           /-P. decorissima 34041, 1.0\n",
      "                             |     |           |      /, 97.0\n",
      "                             |     |           |     |      \\-P. decorissima XX-DE21, 1.0\n",
      "                             |     |            \\, 90.0\n",
      "                              \\, 58.0                |      /-P. decorissima 39253, 1.0\n",
      "                                   |                  \\, 65.0\n",
      "                                   |                        \\-P. decorissima 39103, 1.0\n",
      "                                   |\n",
      "                                   |            /-P. oxycarpa 33291, 1.0\n",
      "                                   |      /, 65.0\n",
      "                                   |     |      \\-P. souliei 39187, 1.0\n",
      "                                    \\, 66.0\n",
      "                                         |      /-P. latituba 31733, 1.0\n",
      "                                          \\, 64.0\n",
      "                                               |       /-P. cranolopha 41389, 1.0\n",
      "                                                \\, 100.0\n",
      "                                                      |      /-P. cranolopha 41237, 1.0\n",
      "                                                       \\, 99.0\n",
      "                                                            |       /-P. bidentata 40328, 1.0\n",
      "                                                             \\, 100.0\n",
      "                                                                    \\-P. cranolpha 39531, 1.0\n"
     ]
    }
   ],
   "source": [
    "import ete3 as ete\n",
    "\n",
    "## load tree\n",
    "tre = ete.Tree(\"analysis_raxml/RAxML_bipartitions.min4_tree\", format=0)\n",
    "\n",
    "## sub in names\n",
    "for node in tre.traverse():\n",
    "    if node.name in NAMES:\n",
    "        node.name = NAMES[node.name]\n",
    "\n",
    "\n",
    "#print tre.get_ascii(attributes=[\"name\", \"color\"], show_internal=False)\n",
    "tre.ladderize()\n",
    "print tre.get_ascii(attributes=[\"name\", \"support\"])"
   ]
  },
  {
   "cell_type": "markdown",
   "metadata": {},
   "source": [
    "### Plot the tree in R"
   ]
  },
  {
   "cell_type": "code",
   "execution_count": 46,
   "metadata": {
    "collapsed": false
   },
   "outputs": [
    {
     "name": "stdout",
     "output_type": "stream",
     "text": [
      "  loading Assembly: c85d5f2h5\n",
      "  from saved path: /fastscratch/de243/WB-PED/c85d5f2h5/c85d5f2h5.json\n"
     ]
    }
   ],
   "source": [
    "test = ip.load_json(\"/fastscratch/de243/WB-PED/c85d5f2h5/c85d5f2h5.json\")\n",
    "sample = test.samples[\"d19long1\"]"
   ]
  }
 ],
 "metadata": {
  "anaconda-cloud": {},
  "kernelspec": {
   "display_name": "Python [conda root]",
   "language": "python",
   "name": "conda-root-py"
  },
  "language_info": {
   "codemirror_mode": {
    "name": "ipython",
    "version": 2
   },
   "file_extension": ".py",
   "mimetype": "text/x-python",
   "name": "python",
   "nbconvert_exporter": "python",
   "pygments_lexer": "ipython2",
   "version": "2.7.12"
  }
 },
 "nbformat": 4,
 "nbformat_minor": 0
}
