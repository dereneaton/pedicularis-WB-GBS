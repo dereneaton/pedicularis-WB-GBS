{
 "cells": [
  {
   "cell_type": "markdown",
   "metadata": {},
   "source": [
    "# Analysis of *Pedicularis* PE-GBS data set\n",
    "\n",
    "Notebook 1 associated with this study shows how we assembled this data set using *ipyrad*. The data set is composed of PE GBS data from 48 individuals of *Pedicularis* spanning two distinct clades. Here we will apply several phylogenetic methods to study each clade individually and the two together. "
   ]
  },
  {
   "cell_type": "markdown",
   "metadata": {},
   "source": [
    "### This notebook\n",
    "This is a jupyter notebook showing IPython code to fully reproduce phylogenetic analyses from Yu-Eaton-Ree (2012) *Pedicularis* GBS data set. This notebook and its results files are stored in the following github repo [see git repo here](https://github.com/dereneaton/pedicularis-WB-GBS). "
   ]
  },
  {
   "cell_type": "code",
   "execution_count": 1,
   "metadata": {
    "collapsed": false
   },
   "outputs": [
    {
     "name": "stdout",
     "output_type": "stream",
     "text": [
      "https://github.com/dereneaton/pedicularis-WB-GBS.git\r\n"
     ]
    }
   ],
   "source": [
    "## show the address of this git repo\n",
    "! git config --get remote.origin.url"
   ]
  },
  {
   "cell_type": "markdown",
   "metadata": {},
   "source": [
    "### Import ipyrad and other common modules"
   ]
  },
  {
   "cell_type": "code",
   "execution_count": 4,
   "metadata": {
    "collapsed": false
   },
   "outputs": [
    {
     "name": "stdout",
     "output_type": "stream",
     "text": [
      "ipyrad v.0.4.9\n",
      "ipyparallel v.5.2.0\n",
      "numpy v.1.11.2\n"
     ]
    }
   ],
   "source": [
    "## all necessary software is installed alongside ipyrad, \n",
    "## and can be installed by uncommenting the command below\n",
    "# conda install -c ipyrad ipyrad -y\n",
    "\n",
    "## import basic modules and ipyrad and print version\n",
    "import os\n",
    "import socket\n",
    "import glob\n",
    "import subprocess as sps\n",
    "import numpy as np\n",
    "import ipyparallel as ipp\n",
    "import ipyrad as ip\n",
    "\n",
    "print \"ipyrad v.{}\".format(ip.__version__)\n",
    "print \"ipyparallel v.{}\".format(ipp.__version__)\n",
    "print \"numpy v.{}\".format(np.__version__)"
   ]
  },
  {
   "cell_type": "markdown",
   "metadata": {},
   "source": [
    "### The cluster\n",
    "This notebook is connected to 80 cores on 5 nodes of the Farnam HPC cluster at Yale. SSH Tunneling was set up following [this tutorial](http://ipyrad.readthedocs.io/HPC_Tunnel.html). Below I use the ipyparallel Python module to show explicitly which host nodes we are connected to, and which *ipyrad* will make use of. "
   ]
  },
  {
   "cell_type": "code",
   "execution_count": 11,
   "metadata": {
    "collapsed": false
   },
   "outputs": [
    {
     "name": "stdout",
     "output_type": "stream",
     "text": [
      "80 total cores\n",
      "c13n02.farnam.hpc.yale.internal [63, 64, 65, 66, 67, 69, 70, 71, 72, 73, 74, 75, 76, 77, 78, 79]\n",
      "c13n05.farnam.hpc.yale.internal [16, 17, 18, 19, 20, 21, 22, 23, 24, 25, 26, 27, 28, 29, 30, 31]\n",
      "c13n04.farnam.hpc.yale.internal [40, 47, 48, 50, 51, 52, 53, 55, 56, 57, 58, 59, 60, 61, 62, 68]\n",
      "c13n01.farnam.hpc.yale.internal [0, 1, 2, 3, 4, 5, 6, 7, 8, 9, 10, 11, 12, 13, 14, 15]\n",
      "c13n03.farnam.hpc.yale.internal [32, 33, 34, 35, 36, 37, 38, 39, 41, 42, 43, 44, 45, 46, 49, 54]\n"
     ]
    }
   ],
   "source": [
    "## open direct and load-balanced views to the client\n",
    "ipyclient = ipp.Client()\n",
    "lbview = ipyclient.load_balanced_view()\n",
    "print \"{} total cores\".format(len(ipyclient.ids))\n",
    "\n",
    "## confirm we are connected to 5 8-core nodes\n",
    "hosts = ipyclient[:].apply_sync(socket.gethostname)\n",
    "\n",
    "## get an engine id from each host to send threaded jobs to\n",
    "threaded = {host:[] for host in set(hosts)}\n",
    "for hid, host in enumerate(hosts):\n",
    "    threaded[host].append(hid)\n",
    "    \n",
    "## print threaded setup, and save as threaded-views\n",
    "tview = {}\n",
    "idx = 0\n",
    "for host, ids in threaded.items():\n",
    "    print host, ids\n",
    "    ## threaded-views\n",
    "    tview[idx] = ipyclient.load_balanced_view(targets=ids)\n",
    "    idx += 1"
   ]
  },
  {
   "cell_type": "markdown",
   "metadata": {},
   "source": [
    "### Paths to working directories\n",
    "This notebook is run from a local directory (NBDIR) on the HPC cluster, while the scratch dir contains the large raw data and assembly files. For this notebook everything will be done in our notebook directory (NBDIR)."
   ]
  },
  {
   "cell_type": "code",
   "execution_count": 12,
   "metadata": {
    "collapsed": false
   },
   "outputs": [
    {
     "name": "stdout",
     "output_type": "stream",
     "text": [
      "working directory (WORK) = /ysm-gpfs/scratch60/de243/WB-PED\n",
      "current directory (NBDIR) = /ysm-gpfs/home/de243/pedicularis-WB-GBS\n"
     ]
    }
   ],
   "source": [
    "## create a new directory in HPC scratch dir\n",
    "WORK = \"/ysm-gpfs/scratch60/de243/WB-PED\"\n",
    "if not os.path.exists(WORK):\n",
    "    os.mkdir(WORK)\n",
    "\n",
    "## the current dir (./) in which this notebook resides\n",
    "NBDIR = os.path.realpath(os.curdir)\n",
    "\n",
    "## print both\n",
    "print \"working directory (WORK) = {}\".format(WORK)\n",
    "print \"current directory (NBDIR) = {}\".format(NBDIR)"
   ]
  },
  {
   "cell_type": "markdown",
   "metadata": {},
   "source": [
    "### A dictionary to map accession IDSs to taxon names + IDs"
   ]
  },
  {
   "cell_type": "code",
   "execution_count": 13,
   "metadata": {
    "collapsed": true
   },
   "outputs": [],
   "source": [
    "NAMES = {\"d33291\": \"P. oxycarpa 33291\", \n",
    "         \"d41389\": \"P. cranolopha 41389\", \n",
    "         \"d41237\": \"P. cranolopha 41237\", \n",
    "         \"d40328\": \"P. bidentata 40328\",\n",
    "         \"d39531\": \"P. cranolpha 39531\",\n",
    "         \"d31733\": \"P. latituba 31733\",\n",
    "         \"d33291\": \"P. oxycarpa 33291\", \n",
    "         \"d39187\": \"P. souliei 39187\", \n",
    "         \"d39103\": \"P. decorissima 39103\", \n",
    "         \"d39253\": \"P. decorissima 39253\",\n",
    "         \"decor21\": \"P. decorissima XX-DE21\", \n",
    "         \"d34041\": \"P. decorissima 34041\",\n",
    "         \"d39114\": \"P. armata var. trimaculata 39114\", \n",
    "         \"d39404\": \"P. armata var. trimaculata 39404\", \n",
    "         \"d39968\": \"P. davidii 39968\", \n",
    "         \"d35422\": \"P. longiflora 35422\", \n",
    "         \"d41058\": \"P. longiflora var. tubiformis 41058\", \n",
    "         \"d39104\": \"P. longiflora var. tubiformis 39104\", \n",
    "         \"d19long1\": \"P. longiflora XX-DE19\", \n",
    "         \"d30695\": \"P. siphonantha 30695\", \n",
    "         \"d41732\": \"P. siphonantha 41732\", \n",
    "         \"d35178\": \"P. siphonantha 35178\", \n",
    "         \"d35371\": \"P. siphonantha 35371\", \n",
    "         \"d35320\": \"P. cephalantha 35320\", \n",
    "         \"d30181\": \"P. fletcheri 30181\"\n",
    "        }"
   ]
  },
  {
   "cell_type": "markdown",
   "metadata": {},
   "source": [
    "### Run raxml on the supermatrix alignments (.phy files)"
   ]
  },
  {
   "cell_type": "code",
   "execution_count": 14,
   "metadata": {
    "collapsed": false
   },
   "outputs": [
    {
     "name": "stdout",
     "output_type": "stream",
     "text": [
      "  loading Assembly: min4_c85d5f2h5\n",
      "  from saved path: /ysm-gpfs/scratch60/de243/WB-PED/c85d5f2h5/min4_c85d5f2h5.json\n"
     ]
    }
   ],
   "source": [
    "## make raxml dir\n",
    "RAXDIR = os.path.join(os.curdir, \"analysis_raxml\")\n",
    "RAXDIR = os.path.realpath(RAXDIR)\n",
    "if not os.path.exists(RAXDIR):\n",
    "    os.mkdir(RAXDIR)\n",
    "    \n",
    "## get outgroup string from assembly object, or wherever\n",
    "min4 = ip.load_json(os.path.join(WORK, \"c85d5f2h5/min4_c85d5f2h5.json\"))\n",
    "OUT = \",\".join([i for i in min4.samples.keys() if i[0] == \"d\"])\n",
    "\n",
    "## run raxml in the background\n",
    "cmd4 = [\"/home2/de243/miniconda2/bin/raxmlHPC-PTHREADS\", \n",
    "        \"-f\", \"a\", \n",
    "        \"-m\", \"GTRGAMMA\", \n",
    "        \"-N\", \"100\", \n",
    "        \"-T\", \"16\", \n",
    "        \"-x\", \"12345\", \n",
    "        \"-p\", \"54321\",\n",
    "        \"-o\", OUT, \n",
    "        \"-w\", RAXDIR, \n",
    "        \"-n\", \"min4_tree\",\n",
    "        \"-s\", os.path.join(NBDIR, \"min4_c85d5f2h5_outfiles/min4_c85d5f2h5.phy\")]\n",
    "        \n",
    "cmd10 = [\"/home2/de243/miniconda2/bin/raxmlHPC-PTHREADS\", \n",
    "        \"-f\", \"a\", \n",
    "        \"-m\", \"GTRGAMMA\", \n",
    "        \"-N\", \"100\", \n",
    "        \"-T\", \"16\", \n",
    "        \"-x\", \"12345\", \n",
    "        \"-p\", \"54321\",\n",
    "        \"-o\", OUT, \n",
    "        \"-w\", RAXDIR, \n",
    "        \"-n\", \"min10_tree\",\n",
    "        \"-s\", os.path.join(NBDIR, \"min10_c85d5f2h5_outfiles/min10_c85d5f2h5.phy\")]\n",
    "        \n",
    "## Send jobs to different hosts\n",
    "asyncs = {}\n",
    "asyncs[\"min4\"] = tview[0].apply(sps.check_output, cmd4)\n",
    "asyncs[\"min10\"] = tview[1].apply(sps.check_output, cmd10)"
   ]
  },
  {
   "cell_type": "code",
   "execution_count": 28,
   "metadata": {
    "collapsed": false
   },
   "outputs": [
    {
     "name": "stdout",
     "output_type": "stream",
     "text": [
      "job: [min10]\t Elapsed: 5365s\n",
      "job: [min4]\t Elapsed: 5365s\n"
     ]
    }
   ],
   "source": [
    "## Check whether jobs have finished\n",
    "for job, async in asyncs.items():\n",
    "    if async.ready():\n",
    "        if async.successful():\n",
    "            print \"job: [{}] finished.\".format(job)\n",
    "            print async.result()\n",
    "        else:\n",
    "            print async.exception()\n",
    "    else:\n",
    "        print \"job: [{}]\\t Elapsed: {:.0f}s\".format(job, async.elapsed)"
   ]
  },
  {
   "cell_type": "code",
   "execution_count": null,
   "metadata": {
    "collapsed": true
   },
   "outputs": [],
   "source": []
  }
 ],
 "metadata": {
  "anaconda-cloud": {},
  "kernelspec": {
   "display_name": "Python [conda root]",
   "language": "python",
   "name": "conda-root-py"
  },
  "language_info": {
   "codemirror_mode": {
    "name": "ipython",
    "version": 2
   },
   "file_extension": ".py",
   "mimetype": "text/x-python",
   "name": "python",
   "nbconvert_exporter": "python",
   "pygments_lexer": "ipython2",
   "version": "2.7.12"
  }
 },
 "nbformat": 4,
 "nbformat_minor": 1
}
