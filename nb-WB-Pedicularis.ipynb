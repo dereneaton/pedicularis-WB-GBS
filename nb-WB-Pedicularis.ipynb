{
 "cells": [
  {
   "cell_type": "markdown",
   "metadata": {},
   "source": [
    "# Assembly and analysis of *Pedicularis* PE-GBS data set\n",
    "\n",
    "A library for 48 samples was prepared following the protocol described in Escudero et al. 2013 with the PstI restriction enzyme, followed by PCR amplification of primer ligated fragments. The library prep lacked a size selection step, which we discuss in the methods below.  The library was sequenced on one lane of an Illumina HiSeq 2000 yielding xxx reads."
   ]
  },
  {
   "cell_type": "markdown",
   "metadata": {},
   "source": [
    "### This notebook\n",
    "This notebook provides a fully reproducible workflow to assemble and analyze the Yu-Eaton-Ree 2012 Pedicularis GBS data set, and to save the results into a github repo with this notebook [see git repo here](https://github.com/dereneaton/pedicularis-WB-GBS). Starting from the raw data files, we denovo assemble the data in *ipyrad*, which involves demultiplexing and filtering reads, and then clustering within and between samples to identify homology, followed by final filtering and formating to create output files. Analysis of the resulting files is shown in separate notebooks, again available in the [git repo](https://github.com/dereneaton/pedicularis-WB-GBS)."
   ]
  },
  {
   "cell_type": "code",
   "execution_count": 109,
   "metadata": {
    "collapsed": false
   },
   "outputs": [
    {
     "name": "stdout",
     "output_type": "stream",
     "text": [
      "https://github.com/dereneaton/pedicularis-WB-GBS.git\r\n"
     ]
    }
   ],
   "source": [
    "## show that this dir is a git repo (has .git file mapping to the address shown)\n",
    "## this allows me to push updates to this notebook directly to github, \n",
    "## to easily share its conents with others.\n",
    "! git config --get remote.origin.url"
   ]
  },
  {
   "cell_type": "markdown",
   "metadata": {},
   "source": [
    "### Import ipyrad and other common modules"
   ]
  },
  {
   "cell_type": "code",
   "execution_count": 110,
   "metadata": {
    "collapsed": false
   },
   "outputs": [
    {
     "name": "stdout",
     "output_type": "stream",
     "text": [
      "ipyrad v.0.4.4\n",
      "ipyparallel v.5.0.1\n",
      "numpy v.1.11.0\n"
     ]
    }
   ],
   "source": [
    "## all necessary software can be installed by uncommenting the command below\n",
    "# conda install -c ipyrad ipyrad -y\n",
    "\n",
    "## import basic modules and ipyrad and print version\n",
    "import os\n",
    "import socket\n",
    "import glob\n",
    "import subprocess as sps\n",
    "import numpy as np\n",
    "import ipyparallel as ipp\n",
    "import ipyrad as ip\n",
    "\n",
    "print \"ipyrad v.{}\".format(ip.__version__)\n",
    "print \"ipyparallel v.{}\".format(ipp.__version__)\n",
    "print \"numpy v.{}\".format(np.__version__)"
   ]
  },
  {
   "cell_type": "markdown",
   "metadata": {},
   "source": [
    "### The cluster\n",
    "This notebook is connected to 32 cores on 4 nodes of the Louise HPC cluster at Yale. SSH Tunneling was set up following [this tutorial](http://ipyrad.readthedocs.io/HPC_Tunnel.html) to launch an *ipcluster* instance. Below I use the ipyparallel Python module to show that we are connected to all cores. "
   ]
  },
  {
   "cell_type": "code",
   "execution_count": 113,
   "metadata": {
    "collapsed": false
   },
   "outputs": [
    {
     "name": "stdout",
     "output_type": "stream",
     "text": [
      "host compute node: [8 cores] on compute-24-14.local\n",
      "host compute node: [16 cores] on compute-22-10.local\n",
      "host compute node: [8 cores] on compute-20-15.local\n"
     ]
    }
   ],
   "source": [
    "## open a view to the client\n",
    "ipyclient = ipp.Client()\n",
    "\n",
    "## confirm we are connected to 4 8-core nodes\n",
    "hosts = ipyclient[:].apply_sync(socket.gethostname)\n",
    "for hostname in set(hosts):\n",
    "    print(\"host compute node: [{} cores] on {}\"\\\n",
    "          .format(hosts.count(hostname), hostname))"
   ]
  },
  {
   "cell_type": "markdown",
   "metadata": {},
   "source": [
    "### Set up a working directory"
   ]
  },
  {
   "cell_type": "code",
   "execution_count": 116,
   "metadata": {
    "collapsed": false
   },
   "outputs": [
    {
     "name": "stdout",
     "output_type": "stream",
     "text": [
      "working directory (WORK) = /fastscratch/de243/WB-PED\n",
      "current directory (NBDIR) = /home2/de243/pedicularis-WB-GBS\n"
     ]
    }
   ],
   "source": [
    "## create a new working directory in HPC scratch dir\n",
    "WORK = \"/fastscratch/de243/WB-PED\"\n",
    "if not os.path.exists(WORK):\n",
    "    os.mkdir(WORK)\n",
    "\n",
    "## the current dir (./) in which this notebook resides\n",
    "NBDIR = os.path.realpath(os.curdir)\n",
    "\n",
    "## print it\n",
    "print \"working directory (WORK) = {}\".format(WORK)\n",
    "print \"current directory (NBDIR) = {}\".format(NBDIR)"
   ]
  },
  {
   "cell_type": "markdown",
   "metadata": {},
   "source": [
    "### The raw data\n",
    "The raw R1 and R2 data are each split into 59 gzipped files approximately 300MB in size. The barcodes file maps sample names to barcodes that are contained inline in the R1 sequences, and are 4-8bp in length. The barcodes are printed a little further below. "
   ]
  },
  {
   "cell_type": "code",
   "execution_count": 117,
   "metadata": {
    "collapsed": false
   },
   "outputs": [],
   "source": [
    "## Locations of the raw data stored temporarily on Yale's Louise HPC cluster\n",
    "## Data are also stored more permanently on local computer tinus at Yale\n",
    "RAWREADS = \"/fastscratch/de243/TMP_RAWS/*.fastq.gz\"\n",
    "BARCODES = \"/fastscratch/de243/TMP_RAWS/WB-PED_barcodes.txt\""
   ]
  },
  {
   "cell_type": "markdown",
   "metadata": {},
   "source": [
    "### Fastqc quality check\n",
    "\n",
    "I ran the program *fastQC* on the raw data files to do a quality check, the results of which are available here [fastqc_dir](https://github.com/dereneaton/pedicularis-WB-GBS/blob/master/fastqc). Overall, quality scores were not terrible, but also not great, our biggest problem was very high adapter contamination. I will filter this out using the program *cutadapt* implemented in step2 of *ipyrad*, and discussed further below."
   ]
  },
  {
   "cell_type": "code",
   "execution_count": 104,
   "metadata": {
    "collapsed": false
   },
   "outputs": [
    {
     "name": "stdout",
     "output_type": "stream",
     "text": [
      " 118/118 tasks finished after  153 s\n",
      "done\n"
     ]
    }
   ],
   "source": [
    "## uncomment this to install fastqc with conda\n",
    "#conda install -c bioconda fastqc -q \n",
    "\n",
    "## create a tmp directory for fastqc outfiles (./tmp_fastqc)\n",
    "QUALDIR = os.path.join(NBDIR, \"tmp_fastqc\")\n",
    "if not os.path.exists(QUALDIR):\n",
    "    os.mkdir(QUALDIR)\n",
    "    \n",
    "## run fastqc on all raw data files and write outputs to fastqc tmpdir.\n",
    "## This is parallelized by load-balancing with ipyclient\n",
    "lbview = ipyclient.load_balanced_view()\n",
    "for rawfile in glob.glob(RAWREADS):\n",
    "    cmd = ['fastqc', rawfile, '--outdir', QUALDIR, '-t', '1', '-q']\n",
    "    lbview.apply_async(sps.check_output, cmd)\n",
    "    \n",
    "## block until finished and print progress\n",
    "ipyclient.wait_interactive()\n",
    "\n",
    "## I then pushed the tmp_fastq dir to the git repo\n",
    "## and then deleted the tmpdir\n",
    "! rm -r $QUALDIR"
   ]
  },
  {
   "cell_type": "markdown",
   "metadata": {},
   "source": [
    "### Create demultiplexed files for each Sample in *ipyrad*\n",
    "We set the location to the data and barcodes info for each object, and set the max barcode mismatch parameter to zero (strict), allowing no mismatches. "
   ]
  },
  {
   "cell_type": "code",
   "execution_count": 118,
   "metadata": {
    "collapsed": false
   },
   "outputs": [
    {
     "name": "stdout",
     "output_type": "stream",
     "text": [
      "  New Assembly: WB-PED_demux\n"
     ]
    }
   ],
   "source": [
    "## create an object to demultiplex each lane\n",
    "demux = ip.Assembly(\"WB-PED_demux\")\n",
    "\n",
    "## set basic derep parameters for the two objects\n",
    "demux.set_params(\"project_dir\", os.path.join(WORK, \"demux_reads\"))\n",
    "demux.set_params(\"raw_fastq_path\", RAWREADS)\n",
    "demux.set_params(\"barcodes_path\", BARCODES)\n",
    "demux.set_params(\"max_barcode_mismatch\", 0)\n",
    "demux.set_params(\"datatype\", \"pairgbs\")\n",
    "demux.set_params(\"restriction_overhang\", (\"TGCAG\", \"TGCAG\"))"
   ]
  },
  {
   "cell_type": "code",
   "execution_count": 7,
   "metadata": {
    "collapsed": false
   },
   "outputs": [
    {
     "name": "stdout",
     "output_type": "stream",
     "text": [
      "\n",
      "  Assembly: WB-PED_demux\n",
      "  [####################] 100%  chunking large files  | 0:01:46 | s1 | \n",
      "  [####################] 100%  sorting reads         | 0:00:40 | s1 | \n",
      "  [####################] 100%  writing/compressing   | 0:02:00 | s1 | \n"
     ]
    }
   ],
   "source": [
    "demux.run(\"1\", force=True)"
   ]
  },
  {
   "cell_type": "markdown",
   "metadata": {},
   "source": [
    "### Some quick summary stats, we'll look more in depth later"
   ]
  },
  {
   "cell_type": "code",
   "execution_count": 8,
   "metadata": {
    "collapsed": false
   },
   "outputs": [
    {
     "name": "stdout",
     "output_type": "stream",
     "text": [
      "raw_file                               total_reads    cut_found  bar_matched\r\n",
      "lane2_NoIndex_L002_R1_001.fastq            4000000      3998858      3761574\r\n",
      "lane2_NoIndex_L002_R2_001.fastq            4000000      3998858      3761574\r\n",
      "lane2_NoIndex_L002_R1_002.fastq            4000000      3998854      3745260\r\n",
      "lane2_NoIndex_L002_R2_002.fastq            4000000      3998854      3745260\r\n",
      "lane2_NoIndex_L002_R1_003.fastq            4000000      3998872      3739970\r\n",
      "lane2_NoIndex_L002_R2_003.fastq            4000000      3998872      3739970\r\n",
      "\r\n",
      "sample_name                            total_reads\r\n",
      "L20090356                                   210432\r\n",
      "L2DZ0984                                    236276\r\n",
      "L2DZ0988                                    251031\r\n",
      "L2DZ0989                                    218117\r\n",
      "L2DZ0990                                    229001\r\n",
      "L2DZ1006                                    273899\r\n",
      "L2DZ1007                                    605837\r\n",
      "L2DZ1011                                    338422\r\n",
      "L2DZ1016                                    180016\r\n",
      "L2DZ1019                                    178359\r\n",
      "L2DZ1027                                    244863\r\n",
      "L2DZ1060                                    874698\r\n",
      "L2DZ1070                                    251629\r\n",
      "L2DZ1180                                    255598\r\n",
      "L2DZ1204                                    161805\r\n",
      "L2DZ1243                                    365060\r\n",
      "L2DZ1266                                    179139\r\n",
      "L2DZ1268                                    153988\r\n",
      "L2DZ1282_1                                  252918\r\n",
      "LHW10069                                    200568\r\n",
      "LHW10071                                    198077\r\n",
      "LHW10074                                    434154\r\n",
      "LHW10346                                    387948\r\n",
      "LJ-118                                      224611\r\n",
      "d19long1                                    184615\r\n",
      "d30181                                      270951\r\n",
      "d30695                                      317195\r\n",
      "d31733                                      309074\r\n",
      "d33291                                       58596\r\n",
      "d34041                                       71829\r\n",
      "d35178                                      166321\r\n",
      "d35320                                       82297\r\n",
      "d35371                                       39178\r\n",
      "d35422                                      192027\r\n",
      "d39103                                      190063\r\n",
      "d39104                                      200959\r\n",
      "d39114                                      143834\r\n",
      "d39187                                       60867\r\n",
      "d39253                                      383082\r\n",
      "d39404                                      167867\r\n",
      "d39531                                      214060\r\n",
      "d39968                                      241734\r\n",
      "d40328                                      108758\r\n",
      "d41058                                      153527\r\n",
      "d41237                                      121392\r\n",
      "d41389                                      164129\r\n",
      "d41732                                      164746\r\n",
      "decor21                                     333257\r\n",
      "\r\n",
      "sample_name                               true_bar       obs_bar     N_records\r\n",
      "L20090356                                    ACAAA         ACAAA        210432\r\n",
      "L2DZ0984                                    TAGGAA        TAGGAA        236276\r\n",
      "L2DZ0988                                    TTCAGA        TTCAGA        251031\r\n",
      "L2DZ0989                                    CCAGCT        CCAGCT        218117\r\n",
      "L2DZ0990                                     GGTGT         GGTGT        229001\r\n",
      "L2DZ1006                                     GCTTA         GCTTA        273899\r\n",
      "L2DZ1007                                     CGCTT         CGCTT        605837\r\n",
      "L2DZ1011                                   GTCGATT       GTCGATT        338422\r\n",
      "L2DZ1016                                   GGACCTA       GGACCTA        180016\r\n",
      "L2DZ1019                                   GAACTTG       GAACTTG        178359\r\n",
      "L2DZ1027                                   GAATTCA       GAATTCA        244863\r\n",
      "L2DZ1060                                  CGCCTTAT      CGCCTTAT        874698\r\n",
      "L2DZ1070                                  CCGGATAT      CCGGATAT        251629\r\n",
      "L2DZ1180                                  TCTCAGTG      TCTCAGTG        255598\r\n",
      "L2DZ1204                                  TGGTACGT      TGGTACGT        161805\r\n",
      "L2DZ1243                                  TTCCTGGA      TTCCTGGA        365060\r\n",
      "L2DZ1266                                  TAGGCCAT      TAGGCCAT        179139\r\n",
      "L2DZ1268                                    GGTTGT        GGTTGT        153988\r\n",
      "L2DZ1282_1                                TAGCATGG      TAGCATGG        252918\r\n",
      "LHW10069                                     CTAGG         CTAGG        200568\r\n",
      "LHW10071                                     TCACG         TCACG        198077\r\n",
      "LHW10074                                     ACCGT         ACCGT        434154\r\n",
      "LHW10346                                    CCACAA        CCACAA        387948\r\n",
      "LJ-118                                      GCTCTA        GCTCTA        224611\r\n",
      "d19long1                                      TGCA          TGCA        184615\r\n",
      "d30181                                      ATGCCT        ATGCCT        270951\r\n",
      "d30695                                       TGCGA         TGCGA        317195\r\n",
      "d31733                                     AAAAGTT       AAAAGTT        309074\r\n",
      "d33291                                     AACGCCT       AACGCCT         58596\r\n",
      "d34041                                        CGAT          CGAT         71829\r\n",
      "d35178                                       GTATT         GTATT        166321\r\n",
      "d35320                                     AATATGG       AATATGG         82297\r\n",
      "d35371                                       AGCCG         AGCCG         39178\r\n",
      "d35422                                        CAGA          CAGA        192027\r\n",
      "d39103                                      CTTCCA        CTTCCA        190063\r\n",
      "d39104                                        GTAA          GTAA        200959\r\n",
      "d39114                                     CTTGCTT       CTTGCTT        143834\r\n",
      "d39187                                       TTCTG         TTCTG         60867\r\n",
      "d39253                                      AGTGGA        AGTGGA        383082\r\n",
      "d39404                                     TATTTTT       TATTTTT        167867\r\n",
      "d39531                                     ATGAAAG       ATGAAAG        214060\r\n",
      "d39968                                      GAGATA        GAGATA        241734\r\n",
      "d40328                                    ACGACTAG      ACGACTAG        108758\r\n",
      "d41058                                        ACTA          ACTA        153527\r\n",
      "d41237                                        AACT          AACT        121392\r\n",
      "d41389                                        GCGT          GCGT        164129\r\n",
      "d41732                                        CTCG          CTCG        164746\r\n",
      "decor21                                      CTGTA         CTGTA        333257\r\n",
      "no_match                                         _            _       753196\r\n"
     ]
    }
   ],
   "source": [
    "! cat $demux.stats_files.s1"
   ]
  },
  {
   "cell_type": "markdown",
   "metadata": {},
   "source": [
    "### Start an assembly of the data set\n",
    "I usually prefer to start my analyses from data that are already de-multiplexed, since the demux fastq files are typically what is available to others after a study is published and that data are made available online. So here we will create an Assembly object and read in the demultiplexed data. Then we will run step 2 to filter the data and take a close look at the results. "
   ]
  },
  {
   "cell_type": "code",
   "execution_count": 9,
   "metadata": {
    "collapsed": false,
    "scrolled": false
   },
   "outputs": [
    {
     "name": "stdout",
     "output_type": "stream",
     "text": [
      "  New Assembly: c85d5f2h5\n",
      "  0   assembly_name               c85d5f2h5                                    \n",
      "  1   project_dir                 /fastscratch/de243/WB-PED/c85d5f2h5          \n",
      "  2   raw_fastq_path                                                           \n",
      "  3   barcodes_path               /fastscratch/de243/TMP_RAWS/WB-PED_barcodes.txt\n",
      "  4   sorted_fastq_path           /fastscratch/de243/WB-PED/demux_reads/WB-PED_demux_fastqs/*gz\n",
      "  5   assembly_method             denovo                                       \n",
      "  6   reference_sequence                                                       \n",
      "  7   datatype                    pairgbs                                      \n",
      "  8   restriction_overhang        ('TGCAG', 'TGCAG')                           \n",
      "  9   max_low_qual_bases          5                                            \n",
      "  10  phred_Qscore_offset         33                                           \n",
      "  11  mindepth_statistical        6                                            \n",
      "  12  mindepth_majrule            6                                            \n",
      "  13  maxdepth                    10000                                        \n",
      "  14  clust_threshold             0.85                                         \n",
      "  15  max_barcode_mismatch        0                                            \n",
      "  16  filter_adapters             2                                            \n",
      "  17  filter_min_trim_len         35                                           \n",
      "  18  max_alleles_consens         2                                            \n",
      "  19  max_Ns_consens              (5, 5)                                       \n",
      "  20  max_Hs_consens              (5, 5)                                       \n",
      "  21  min_samples_locus           4                                            \n",
      "  22  max_SNPs_locus              (20, 20)                                     \n",
      "  23  max_Indels_locus            (8, 8)                                       \n",
      "  24  max_shared_Hs_locus         0.5                                          \n",
      "  25  edit_cutsites               (0, 0)                                       \n",
      "  26  trim_overhang               (0, 0, 0, 0)                                 \n",
      "  27  output_formats              *                                            \n",
      "  28  pop_assign_file                                                          \n"
     ]
    }
   ],
   "source": [
    "## this will be our assembly object for steps 1-6\n",
    "data = ip.Assembly(\"c85d5f2h5\")\n",
    "\n",
    "## demux data location\n",
    "DEMUX = os.path.join(demux.dirs.fastqs, \"*gz\")\n",
    "\n",
    "## set parameters for this assembly and print them \n",
    "data.set_params(\"project_dir\", os.path.join(WORK, data.name))\n",
    "data.set_params(\"sorted_fastq_path\", DEMUX)\n",
    "data.set_params(\"barcodes_path\", BARCODES)\n",
    "data.set_params(\"filter_adapters\", 2)\n",
    "data.set_params(\"datatype\", \"pairgbs\")\n",
    "data.set_params(\"restriction_overhang\", (\"TGCAG\", \"TGCAG\"))\n",
    "data.set_params(\"max_Hs_consens\", (5, 5))\n",
    "data.set_params(\"trim_overhang\", (0, 5, 5, 0))\n",
    "data.get_params()"
   ]
  },
  {
   "cell_type": "code",
   "execution_count": 10,
   "metadata": {
    "collapsed": false
   },
   "outputs": [
    {
     "name": "stdout",
     "output_type": "stream",
     "text": [
      "\n",
      "  Assembly: c85d5f2h5\n",
      "  [####################] 100%  loading reads         | 0:00:01 | s1 | \n",
      "  [####################] 100%  processing reads      | 0:01:12 | s2 | \n"
     ]
    }
   ],
   "source": [
    "data.run(\"12\", force=True)"
   ]
  },
  {
   "cell_type": "code",
   "execution_count": 11,
   "metadata": {
    "collapsed": false,
    "scrolled": true
   },
   "outputs": [
    {
     "name": "stdout",
     "output_type": "stream",
     "text": [
      "            reads_raw  trim_adapter_bp_read1  trim_adapter_bp_read2  \\\n",
      "L20090356      210432                  95926                 101524   \n",
      "L2DZ0984       236276                  99895                 107534   \n",
      "L2DZ0988       251031                 115927                 122157   \n",
      "L2DZ0989       218117                  96324                 102621   \n",
      "L2DZ0990       229001                 101439                 108863   \n",
      "L2DZ1006       273899                 120394                 130348   \n",
      "L2DZ1007       605837                 249392                 262101   \n",
      "L2DZ1011       338422                 187917                 201909   \n",
      "L2DZ1016       180016                  86163                  92733   \n",
      "L2DZ1019       178359                  98059                 105969   \n",
      "L2DZ1027       244863                 119740                 131395   \n",
      "L2DZ1060       874698                 426618                 460594   \n",
      "L2DZ1070       251629                 123686                 134965   \n",
      "L2DZ1180       255598                 121461                 132353   \n",
      "L2DZ1204       161805                  70799                  76699   \n",
      "L2DZ1243       365060                 183561                 199832   \n",
      "L2DZ1266       179139                  80919                  88163   \n",
      "L2DZ1268       153988                  75968                  81338   \n",
      "L2DZ1282_1     252918                 131962                 142474   \n",
      "LHW10069       200568                  98926                 104364   \n",
      "LHW10071       198077                  90884                  98424   \n",
      "LHW10074       434154                 197419                 212711   \n",
      "LHW10346       387948                 197416                 207816   \n",
      "LJ-118         224611                  99874                 107378   \n",
      "d19long1       184615                  94851                 102397   \n",
      "d30181         270951                 144573                 155782   \n",
      "d30695         317195                 130327                 142974   \n",
      "d31733         309074                 151959                 163612   \n",
      "d33291          58596                  27051                  29870   \n",
      "d34041          71829                  51787                  54259   \n",
      "d35178         166321                 115706                 123879   \n",
      "d35320          82297                  41190                  44965   \n",
      "d35371          39178                  26190                  27918   \n",
      "d35422         192027                 140529                 147205   \n",
      "d39103         190063                  81001                  87439   \n",
      "d39104         200959                 144923                 151043   \n",
      "d39114         143834                  64834                  71205   \n",
      "d39187          60867                  27633                  29729   \n",
      "d39253         383082                 155790                 171597   \n",
      "d39404         167867                  58758                  64899   \n",
      "d39531         214060                  85617                  94432   \n",
      "d39968         241734                 113516                 121726   \n",
      "d40328         108758                  55776                  61042   \n",
      "d41058         153527                 107349                 112106   \n",
      "d41237         121392                  88179                  92415   \n",
      "d41389         164129                 104021                 111826   \n",
      "d41732         164746                 109676                 115980   \n",
      "decor21        333257                 207813                 218826   \n",
      "\n",
      "            trim_quality_bp_read1  trim_quality_bp_read2  \\\n",
      "L20090356                 2658213                2623404   \n",
      "L2DZ0984                  3108899                3105508   \n",
      "L2DZ0988                  2846624                2627402   \n",
      "L2DZ0989                  2665803                2680837   \n",
      "L2DZ0990                  2700180                2572656   \n",
      "L2DZ1006                  3476107                3488836   \n",
      "L2DZ1007                  6697201                6816337   \n",
      "L2DZ1011                  3517969                3483081   \n",
      "L2DZ1016                  1958052                2060198   \n",
      "L2DZ1019                  1816352                1770240   \n",
      "L2DZ1027                  2300356                2272616   \n",
      "L2DZ1060                 10423078               10589105   \n",
      "L2DZ1070                  2678134                2682114   \n",
      "L2DZ1180                  2573562                2615255   \n",
      "L2DZ1204                  1333649                1316508   \n",
      "L2DZ1243                  3966755                3740550   \n",
      "L2DZ1266                  1554179                1570090   \n",
      "L2DZ1268                  1451239                1271628   \n",
      "L2DZ1282_1                1876526                1795619   \n",
      "LHW10069                  2350335                2249465   \n",
      "LHW10071                  2652992                2350994   \n",
      "LHW10074                  6638285                6082463   \n",
      "LHW10346                  3571362                3473431   \n",
      "LJ-118                    2413416                2472916   \n",
      "d19long1                  1792170                1408709   \n",
      "d30181                    2767669                2561863   \n",
      "d30695                    3904973                3556162   \n",
      "d31733                    2497829                2630243   \n",
      "d33291                     697916                 702949   \n",
      "d34041                     949884                 908284   \n",
      "d35178                    1859299                1752556   \n",
      "d35320                     634917                 658221   \n",
      "d35371                     490578                 438220   \n",
      "d35422                    2173683                1897058   \n",
      "d39103                    2134019                2124967   \n",
      "d39104                    1763036                1535891   \n",
      "d39114                    1139604                1136317   \n",
      "d39187                     577472                 586362   \n",
      "d39253                    3701384                3166966   \n",
      "d39404                    1261128                1271789   \n",
      "d39531                    1562681                1542074   \n",
      "d39968                    2416339                2471532   \n",
      "d40328                    1007966                 967052   \n",
      "d41058                    1625867                1498131   \n",
      "d41237                    1370819                1238889   \n",
      "d41389                    1897196                1588784   \n",
      "d41732                    2271846                2035883   \n",
      "decor21                   3592863                3470040   \n",
      "\n",
      "            reads_filtered_by_Ns  reads_filtered_by_minlen  \\\n",
      "L20090356                     69                     49143   \n",
      "L2DZ0984                      78                     55399   \n",
      "L2DZ0988                      87                     55684   \n",
      "L2DZ0989                      73                     47873   \n",
      "L2DZ0990                      81                     49474   \n",
      "L2DZ1006                     117                     62262   \n",
      "L2DZ1007                     244                    121420   \n",
      "L2DZ1011                     107                    100432   \n",
      "L2DZ1016                      65                     44707   \n",
      "L2DZ1019                      55                     48248   \n",
      "L2DZ1027                      85                     56417   \n",
      "L2DZ1060                     304                    239963   \n",
      "L2DZ1070                      77                     58046   \n",
      "L2DZ1180                     100                     62774   \n",
      "L2DZ1204                      69                     35842   \n",
      "L2DZ1243                     122                     89427   \n",
      "L2DZ1266                      91                     39312   \n",
      "L2DZ1268                      45                     39528   \n",
      "L2DZ1282_1                   120                     59582   \n",
      "LHW10069                      70                     44556   \n",
      "LHW10071                      58                     41731   \n",
      "LHW10074                     133                    111415   \n",
      "LHW10346                     152                     98928   \n",
      "LJ-118                        74                     51098   \n",
      "d19long1                      95                     45173   \n",
      "d30181                       111                     65774   \n",
      "d30695                       119                     61709   \n",
      "d31733                       130                     64954   \n",
      "d33291                        19                     13585   \n",
      "d34041                        28                     26611   \n",
      "d35178                        49                     54259   \n",
      "d35320                        34                     17491   \n",
      "d35371                         9                     12595   \n",
      "d35422                        43                     81139   \n",
      "d39103                        58                     39257   \n",
      "d39104                        66                     81621   \n",
      "d39114                        59                     27284   \n",
      "d39187                        30                     11515   \n",
      "d39253                       155                     71017   \n",
      "d39404                        88                     28529   \n",
      "d39531                       112                     37956   \n",
      "d39968                       103                     49563   \n",
      "d40328                        55                     25746   \n",
      "d41058                        52                     58573   \n",
      "d41237                        44                     39544   \n",
      "d41389                        43                     48299   \n",
      "d41732                        41                     53153   \n",
      "decor21                       99                     93070   \n",
      "\n",
      "            reads_passed_filter  \n",
      "L20090356                161220  \n",
      "L2DZ0984                 180799  \n",
      "L2DZ0988                 195260  \n",
      "L2DZ0989                 170171  \n",
      "L2DZ0990                 179446  \n",
      "L2DZ1006                 211520  \n",
      "L2DZ1007                 484173  \n",
      "L2DZ1011                 237883  \n",
      "L2DZ1016                 135244  \n",
      "L2DZ1019                 130056  \n",
      "L2DZ1027                 188361  \n",
      "L2DZ1060                 634431  \n",
      "L2DZ1070                 193506  \n",
      "L2DZ1180                 192724  \n",
      "L2DZ1204                 125894  \n",
      "L2DZ1243                 275511  \n",
      "L2DZ1266                 139736  \n",
      "L2DZ1268                 114415  \n",
      "L2DZ1282_1               193216  \n",
      "LHW10069                 155942  \n",
      "LHW10071                 156288  \n",
      "LHW10074                 322606  \n",
      "LHW10346                 288868  \n",
      "LJ-118                   173439  \n",
      "d19long1                 139347  \n",
      "d30181                   205066  \n",
      "d30695                   255367  \n",
      "d31733                   243990  \n",
      "d33291                    44992  \n",
      "d34041                    45190  \n",
      "d35178                   112013  \n",
      "d35320                    64772  \n",
      "d35371                    26574  \n",
      "d35422                   110845  \n",
      "d39103                   150748  \n",
      "d39104                   119272  \n",
      "d39114                   116491  \n",
      "d39187                    49322  \n",
      "d39253                   311910  \n",
      "d39404                   139250  \n",
      "d39531                   175992  \n",
      "d39968                   192068  \n",
      "d40328                    82957  \n",
      "d41058                    94902  \n",
      "d41237                    81804  \n",
      "d41389                   115787  \n",
      "d41732                   111552  \n",
      "decor21                  240088  \n"
     ]
    }
   ],
   "source": [
    "print data.stats_dfs.s2"
   ]
  },
  {
   "cell_type": "code",
   "execution_count": 12,
   "metadata": {
    "collapsed": false,
    "scrolled": true
   },
   "outputs": [
    {
     "name": "stdout",
     "output_type": "stream",
     "text": [
      "\n",
      "  Assembly: c85d5f2h5\n",
      "  [####################] 100%  dereplicating         | 0:00:00 | s3 | \n",
      "  [####################] 100%  clustering            | 0:01:58 | s3 | \n",
      "  [####################] 100%  building clusters     | 0:00:14 | s3 | \n",
      "  [####################] 100%  chunking              | 0:00:01 | s3 | \n",
      "  [####################] 100%  aligning              | 0:06:22 | s3 | \n",
      "  [####################] 100%  concatenating         | 0:00:12 | s3 | \n"
     ]
    }
   ],
   "source": [
    "data.run(\"3\")"
   ]
  },
  {
   "cell_type": "code",
   "execution_count": 6,
   "metadata": {
    "collapsed": false
   },
   "outputs": [
    {
     "name": "stdout",
     "output_type": "stream",
     "text": [
      "  loading Assembly: c85d5f2h5\n",
      "  from saved path: /fastscratch/de243/WB-PED/c85d5f2h5/c85d5f2h5.json\n"
     ]
    }
   ],
   "source": [
    "data = ip.load_json(\"/fastscratch/de243/WB-PED/c85d5f2h5/c85d5f2h5.json\")"
   ]
  },
  {
   "cell_type": "code",
   "execution_count": 7,
   "metadata": {
    "collapsed": false
   },
   "outputs": [
    {
     "name": "stdout",
     "output_type": "stream",
     "text": [
      "\n",
      "  Assembly: c85d5f2h5\n",
      "  [####################] 100%  inferring [H, E]      | 0:07:00 | s4 | \n",
      "  [####################] 100%  consensus calling     | 0:01:47 | s5 | \n",
      "  [####################] 100%  concat/shuffle input  | 0:00:02 | s6 | \n",
      "  [####################] 100%  clustering across     | 0:00:21 | s6 | \n",
      "  [####################] 100%  building clusters     | 0:00:02 | s6 | \n",
      "  [####################] 100%  aligning clusters     | 0:00:14 | s6 | \n",
      "  [####################] 100%  database indels       | 0:00:20 | s6 | \n",
      "  [####################] 100%  indexing clusters     | 0:00:18 | s6 | \n",
      "  [####################] 100%  building database     | 0:01:11 | s6 | \n"
     ]
    }
   ],
   "source": [
    "data.run(\"456\", force=True)"
   ]
  },
  {
   "cell_type": "code",
   "execution_count": 15,
   "metadata": {
    "collapsed": false,
    "scrolled": true
   },
   "outputs": [
    {
     "name": "stdout",
     "output_type": "stream",
     "text": [
      "\n",
      "  Assembly: min4_c85d5f2h5\n",
      "  [####################] 100%  filtering loci        | 0:00:04 | s7 | \n",
      "  [####################] 100%  building loci/stats   | 0:00:02 | s7 | \n",
      "  [####################] 100%  building vcf file     | 0:00:06 | s7 | \n",
      "  [####################] 100%  writing vcf file      | 0:00:00 | s7 | \n",
      "  [####################] 100%  writing outfiles      | 0:00:02 | s7 | \n",
      "  Outfiles written to: /fastscratch/de243/WB-PED/c85d5f2h5/min4_c85d5f2h5_outfiles\n",
      "\n",
      "  Assembly: min10_c85d5f2h5\n",
      "  [####################] 100%  filtering loci        | 0:00:04 | s7 | \n",
      "  [####################] 100%  building loci/stats   | 0:00:02 | s7 | \n",
      "  [####################] 100%  building vcf file     | 0:00:04 | s7 | \n",
      "  [####################] 100%  writing vcf file      | 0:00:00 | s7 | \n",
      "  [####################] 100%  writing outfiles      | 0:00:01 | s7 | \n",
      "  Outfiles written to: /fastscratch/de243/WB-PED/c85d5f2h5/min10_c85d5f2h5_outfiles\n"
     ]
    }
   ],
   "source": [
    "## create named branches for final assemblies\n",
    "min4 = data.branch(\"min4_c85d5f2h5\")\n",
    "min4.set_params(\"min_samples_locus\", 4)\n",
    "\n",
    "min10 = data.branch(\"min10_c85d5f2h5\")\n",
    "min10.set_params(\"min_samples_locus\", 10)\n",
    "\n",
    "## assemble outfiles\n",
    "min4.run(\"7\", force=True)\n",
    "min10.run(\"7\", force=True)"
   ]
  },
  {
   "cell_type": "code",
   "execution_count": 16,
   "metadata": {
    "collapsed": false,
    "scrolled": false
   },
   "outputs": [
    {
     "name": "stdout",
     "output_type": "stream",
     "text": [
      "\r\n",
      "\r\n",
      "## The number of loci caught by each filter.\r\n",
      "## ipyrad API location: [assembly].statsfiles.s7_filters\r\n",
      "\r\n",
      "                            total_filters  applied_order  retained_loci\r\n",
      "total_prefiltered_loci              18895              0          18895\r\n",
      "filtered_by_rm_duplicates             819            819          18076\r\n",
      "filtered_by_max_indels                546            469          17607\r\n",
      "filtered_by_max_snps                  957            649          16958\r\n",
      "filtered_by_max_shared_het             12              4          16954\r\n",
      "filtered_by_min_sample              11161          10822           6132\r\n",
      "filtered_by_max_alleles              4737           2266           3866\r\n",
      "total_filtered_loci                  3866              0           3866\r\n",
      "\r\n",
      "\r\n",
      "## The number of loci recovered for each Sample.\r\n",
      "## ipyrad API location: [assembly].stats_dfs.s7_samples\r\n",
      "\r\n",
      "            sample_coverage\r\n",
      "L20090356               845\r\n",
      "L2DZ0984                871\r\n",
      "L2DZ0988               1069\r\n",
      "L2DZ0989               1088\r\n",
      "L2DZ0990               1076\r\n",
      "L2DZ1006               1029\r\n",
      "L2DZ1007               1306\r\n",
      "L2DZ1011               1398\r\n",
      "L2DZ1016                799\r\n",
      "L2DZ1019                684\r\n",
      "L2DZ1027                785\r\n",
      "L2DZ1060               1442\r\n",
      "L2DZ1070                847\r\n",
      "L2DZ1180               1070\r\n",
      "L2DZ1204                885\r\n",
      "L2DZ1243               1105\r\n",
      "L2DZ1266                759\r\n",
      "L2DZ1268                712\r\n",
      "L2DZ1282_1              753\r\n",
      "LHW10069               1118\r\n",
      "LHW10071                982\r\n",
      "LHW10074               1274\r\n",
      "LHW10346               1005\r\n",
      "LJ-118                 1020\r\n",
      "d19long1                533\r\n",
      "d30181                  780\r\n",
      "d30695                  844\r\n",
      "d31733                  648\r\n",
      "d33291                  381\r\n",
      "d34041                  373\r\n",
      "d35178                  463\r\n",
      "d35320                  427\r\n",
      "d35371                  333\r\n",
      "d35422                  474\r\n",
      "d39103                  662\r\n",
      "d39104                  544\r\n",
      "d39114                  493\r\n",
      "d39187                  430\r\n",
      "d39253                  968\r\n",
      "d39404                  574\r\n",
      "d39531                  568\r\n",
      "d39968                  675\r\n",
      "d40328                  500\r\n",
      "d41058                  442\r\n",
      "d41237                  352\r\n",
      "d41389                  495\r\n",
      "d41732                  541\r\n",
      "decor21                 793\r\n",
      "\r\n",
      "\r\n",
      "## The number of loci for which N taxa have data.\r\n",
      "## ipyrad API location: [assembly].stats_dfs.s7_loci\r\n",
      "\r\n",
      "    locus_coverage  sum_coverage\r\n",
      "1                0             0\r\n",
      "2                0             0\r\n",
      "3                0             0\r\n",
      "4             1226          1226\r\n",
      "5              639          1865\r\n",
      "6              398          2263\r\n",
      "7              265          2528\r\n",
      "8              162          2690\r\n",
      "9              144          2834\r\n",
      "10             107          2941\r\n",
      "11              66          3007\r\n",
      "12              57          3064\r\n",
      "13              73          3137\r\n",
      "14              42          3179\r\n",
      "15              58          3237\r\n",
      "16              51          3288\r\n",
      "17              34          3322\r\n",
      "18              45          3367\r\n",
      "19              42          3409\r\n",
      "20              35          3444\r\n",
      "21              30          3474\r\n",
      "22              49          3523\r\n",
      "23              48          3571\r\n",
      "24              55          3626\r\n",
      "25              11          3637\r\n",
      "26               7          3644\r\n",
      "27               6          3650\r\n",
      "28               3          3653\r\n",
      "29               8          3661\r\n",
      "30               3          3664\r\n",
      "31               6          3670\r\n",
      "32               3          3673\r\n",
      "33               3          3676\r\n",
      "34               7          3683\r\n",
      "35               7          3690\r\n",
      "36               4          3694\r\n",
      "37               9          3703\r\n",
      "38               2          3705\r\n",
      "39               8          3713\r\n",
      "40              17          3730\r\n",
      "41              10          3740\r\n",
      "42              11          3751\r\n",
      "43              15          3766\r\n",
      "44              17          3783\r\n",
      "45              18          3801\r\n",
      "46              19          3820\r\n",
      "47              31          3851\r\n",
      "48              15          3866\r\n",
      "\r\n",
      "\r\n",
      "## The distribution of SNPs (var and pis) across loci.\r\n",
      "## var = all variable sites (pis + autapomorphies)\r\n",
      "## pis = parsimony informative site (minor allele in >1 sample)\r\n",
      "## ipyrad API location: [assembly].stats_dfs.s7_snps\r\n",
      "\r\n",
      "    var  sum_var   pis  sum_pis\r\n",
      "0   267        0  1065        0\r\n",
      "1   332      332   681      681\r\n",
      "2   308      948   476     1633\r\n",
      "3   309     1875   372     2749\r\n",
      "4   259     2911   308     3981\r\n",
      "5   259     4206   209     5026\r\n",
      "6   217     5508   181     6112\r\n",
      "7   269     7391   159     7225\r\n",
      "8   227     9207   114     8137\r\n",
      "9   184    10863    90     8947\r\n",
      "10  157    12433    61     9557\r\n",
      "11  149    14072    48    10085\r\n",
      "12  130    15632    29    10433\r\n",
      "13  139    17439    20    10693\r\n",
      "14  117    19077    22    11001\r\n",
      "15  104    20637    10    11151\r\n",
      "16   83    21965     7    11263\r\n",
      "17   69    23138     6    11365\r\n",
      "18   62    24254     4    11437\r\n",
      "19   67    25527     0    11437\r\n",
      "20   64    26807     2    11477\r\n",
      "21   15    27122     0    11477\r\n",
      "22   10    27342     1    11499\r\n",
      "23    7    27503     1    11522\r\n",
      "24    6    27647     0    11522\r\n",
      "25    5    27772     0    11522\r\n",
      "26    7    27954     0    11522\r\n",
      "27    7    28143     0    11522\r\n",
      "28    5    28283     0    11522\r\n",
      "29    8    28515     0    11522\r\n",
      "30    5    28665     0    11522\r\n",
      "31    5    28820     0    11522\r\n",
      "32    2    28884     0    11522\r\n",
      "33    8    29148     0    11522\r\n",
      "34    0    29148     0    11522\r\n",
      "35    3    29253     0    11522\r\n",
      "36    0    29253     0    11522\r\n",
      "37    1    29290     0    11522"
     ]
    }
   ],
   "source": [
    "!cat $min4.stats_files.s7"
   ]
  },
  {
   "cell_type": "code",
   "execution_count": 17,
   "metadata": {
    "collapsed": false
   },
   "outputs": [
    {
     "name": "stdout",
     "output_type": "stream",
     "text": [
      "L20090356      TTGTTTATTATAACTATATACAGTGGATTGTCAAATAATCAAGTGAGCAATTGATGCAGTCT\n",
      "L2DZ0984       TTGTTTATTATAACTATATACAGTGGATTGTCAAATAATCAAGTGAGCAATTGATGCAGTCA\n",
      "L2DZ0989       TTGTTTATTATAACTATATACCGTGGATTGTCAAATAATCAAGTGAGCAATTGATGCAGTCA\n",
      "LHW10071       TTGTTTATTATAACTATATACAGTGGATTGTCAAATAATCAAGTGAGCAATTGATGCAGTCA\n",
      "//                                  -                                       -|0|\n",
      "L20090356      TGGACGGCCTGGTCAAGGCCTACGGGGCCCGGCGCGT\n",
      "L2DZ0984       TGGANGGNCTNGNNAAGGCCTACGGGGCNCNRCGCGT\n",
      "L2DZ0990       TGGAGGGTCTCGCGAAGGCCTACGGGGCACGGCGCGT\n",
      "L2DZ1016       TGGACGGCCTGGCCAAGGCCTACGGGGCCCGGCGCGT\n",
      "L2DZ1243       TGGACGGCCTCGCGAAGGCCTACGGGGCACGGCGGGT\n",
      "//                 -  -  * -*              *  -  -  |1|\n",
      "L20090356      ATTTTGTTTCTCATAGTTAGTTGCGATTTATTTATTATAATTGTTTCGTCACATAAGTATTGAGT\n",
      "L2DZ0988       ATTTTGTTTCTCATAGTTAGTTGCGAT-------TTATAATTGTTTCTTCACATAAGTATTGAGT\n",
      "L2DZ0989       ATTTTGTTTCTCATAGTTAGTTGCGATTTATTTATTATAATTGTTTCGTCACATAAGTATTGAGT\n",
      "L2DZ0990       ATTTTNNTTCTCATAGTTAGTTGNGAT-TATTTATTATAATTGTTTCGTCNCATAAGNATTGAG-\n",
      "L2DZ1060       ATTTTGTTTCTCATAGTTAGTTGCGATTTATTTATTAAAATTGTTTTGTCACATAAGTATTGAGT\n",
      "L2DZ1282_1     ATTTTACTTCTCATAGTTAGTTGTGAT-TATTTATTATAATTGTTTCGTCACATAAGTATTGAG-\n",
      "LHW10074       ATTTTGCTTCTCATAGTTAGTTGTGAT-TATTTATTATAATTGTTTCGTCACATAAGTATTGAG-\n",
      "LHW10346       ATTTTGTTTCTCATAGTTAGTTGCGATTTATTTATTAAAATTGTTTTGTCACATAAGTATTGAGT\n",
      "LJ-118         ATTTTGTTTCTCATAGTTAGTTGCGATTTATTTATTATAATTGTTTCGTCACATAAGTATTGAGT\n",
      "//                  -*                *             *        *-                 \n",
      "L20090356      ATGTGTTTTTCTGCATCAGCACGTGTTAAGAATAAACCAGTTGATTCAATTACTACTTCAACGCC\n",
      "L2DZ0990       ATGTGTTTTTCAGCATCAGCACGTGTTAANAATAAACCTGTAGATTCGATAACTACTTCAACACC\n",
      "L2DZ1060       ATGTGTTTCTCTGCATCAGCACGGGTTAAGAATAAACCTGTTGATTCGATTACTACTTCAACACC\n",
      "L2DZ1268       ATGTGNTTCTCTGCATCAGCACGGGTTAAGAATAAACCTGTTGATTCGATTACTACTTCAACACC\n",
      "//                     *  -           *              -  -     -  -           -  \n",
      "L20090356      GCCTGGACAACTACCGGCGCGCCTTGCGCCA\n",
      "L2DZ0984       GCCTGGACAACTACCGNCGCGCCTTGCNNCN\n",
      "L2DZ0988       GCCTGGACAACTACCGACGCGCCTTGCGCCA\n",
      "L2DZ1019       GCCTGGACAACNACCGNCGCGCCTTGCGCCA\n",
      "L2DZ1060       GCCTGGACAACTACCRGCGCGYCTTGCGCCA\n",
      "//                            --    -         |28|\n",
      "L20090356      AAAAATGATGTGTCCACGCGTCTGCATTATTTCTGACCCTTATTGTTGCCAGATANTTGTGCTTC\n",
      "L2DZ1007       AAAAATGATGTGTCCACGCATCTGCATTATTTCTGACCCTTACCCTTGCCAGATATTTGTGCTTC\n",
      "L2DZ1060       AAAAATGATGTGTCCACGCGTCTGCATTATTTCTGACCCTTATCGTTGCCAGATATTTGTGCTTC\n",
      "L2DZ1282_1     AAAAATGATTTGTCCACGCGTCTGCATTATTTCTGACCCTTATCCTTGCCAGATATTTGTGCTTC\n",
      "LHW10346       AAAAATGATGTGTCCACGCGTCTGCATTATTTCTGACCCTTATCGTTGCCAGATATTTGTGCTTC\n",
      "d39253         AAAAATGACGTGTCCACGCGTCTGCATTATTTCTGACCCTTGTCCTTGCCAGATATTTGTGCTTC\n",
      "d39404         AAAAATGATGTGTCCACGCGTCTGCATTATTTCTGACCCTTGTCCTTGCCAGATATTTGTGCTTC\n",
      "//                     --         -                     *--*                    \n",
      "L20090356      TAGGATTACCATACTTGAAAACAAACCATTGATGGTATTACTCCATACTTATTAATCTGTTCATC\n",
      "L2DZ0988       TAGGATTACCATACTTGAAAACAAACCATTGATGGTATTACTCCATACTTRTTAATMTGTTYATC\n",
      "L2DZ0989       TAGGATTACCATACTTGAAAACAAACCATTGATGGTATTACTCCATACTTATTAATCTGTTCATC\n",
      "L2DZ1006       TAGGATTACCATACTTGAAAACAAACCATTGATGGTATTACTCTATACTTATTAATCTGTTCATC\n",
      "L2DZ1019       TAGGATTACCATACTTGAAAACAAACCATTGATGGTATTACTCCATACTTATTAATCTGTTCATC\n",
      "L2DZ1027       TAGGATTACCATACTTGAAAACAAACCATTGATGGTATTACTCTATACTTATTAATCTGTTCATC\n",
      "L2DZ1060       TAGGATTACCATACTTGAAAACAAACCATTGATGGTATTACTCNATACTTATTAATCTGTTCATC\n",
      "L2DZ1070       TAGGATTACCATACTTGAAAACAAACCATTGATGGTATTACTCTATACTTATTAATCTGTTCATC\n",
      "L2DZ1243       TAGGATTACCATACTTGAAAACAAACCATTGATGGTATTACTCCATACTTATTAATCTGTTCATC\n",
      "L2DZ1282_1     TAGGATTACCATACTTGAAAACAAACCATTGATGGTATTACTCCATACTTATTAATCTGTTCATC\n",
      "LHW10069       TAGGATTACCATACTTGAAAACAAACCATTGATGGTATTACTCCATACTTATTAATCTGTTCATC\n",
      "LHW10071       TAGGATTACCATACTTGAAAACAAACCATTGATGGTATTACTCCATACTTATTAATCTGTTCATC\n",
      "LHW10074       TAGGATTACCATACTTGAAAACAAACCATTGATGGTATTACTCCATACTTATTAATCTGTTCATC\n",
      "LHW10346       TAGGATTACCATACTTGAAAACAAACCATTGATGGTATTACTCCATACTTATTAATCTGTTCATC\n",
      "LJ-118         TAGGATTACCATACTTGAAAACAAACCATTGATGGTAKTACTCCATACTTRTTAATCTGTTCATC\n",
      "//                                                  -     *      *     -    -   \n",
      "L20090356      CATTGAGAGTTGCACTCCACCATGTGTTAGTAGAAAATGAAATAATTGTGATTGATACATTTTTT\n",
      "L2DZ0988       CATTGAGAGTTGCACTCCACCATGTGTTAGTAGAAAATGAAATAATTGTGATTGATACATTTTTT\n",
      "L2DZ1007       CATTGAGAGTTGCACTCCACCATGTGTTAGTAGAAAATGAAATAATTGTGATTGCTACATTTTTT\n",
      "L2DZ1011       CATTGAGAGTTGCACTCCACCATGTGTTAGTAGAAAATGAAATAATTGTGATTRATACATTTTTT\n",
      "L2DZ1060       CATTGAGAGTTGCACTCCACCACGTGTTAGTAGAAAATGAAATAATTGTGATTGAGACATTTTTT\n",
      "L2DZ1180       CATTGAGAGTTGCACTCCACCATGTGTTAGTAGAAAATGAAATAATTGTGATTGCTACATTTTTT\n",
      "L2DZ1204       CATTGAGAGTTGCACTCCACCATGTGTTAGTAGAAAATGAAATAATTGTGATTGCTACATTTTTT\n",
      "L2DZ1266       CATTGAGAGTTGCACTCCACCATGTGTTAGTAGAAAATGAAATAATTGTGATTGCTACATTTTTT\n",
      "L2DZ1268       CATTGAGAGTTGCACTCCACCATGTGTTAGTAGAAAATGAAATAATTGTGATTGCTACATTTTTT\n",
      "LHW10069       CATTGAGAGTTGCACTCCACCATGTGTTRGTAGAAAATGAAATAATTGTGATTGATACATTTTTT\n",
      "LHW10074       CATTGAGAGTTGCACTCCACCATGTGTTAGTAGAAAATGAAATAATTGTGATTGATACATTTTTT\n",
      "LHW10346       CATTGAGAGTTGCACTCCACCACGTGTTAGTAGAAAATGAAATAATTGTGATTGATACATTTTTT\n",
      "//                                   *     -                        -*-         \n",
      "L20090356      TTGGCCAAATACTTCTTAGCGTCCGAGATCAATTTGACCAGAAGACCCTGATCTTTGCCCTCGTT\n",
      "L2DZ1007       TTGGTCAAATATTTCTTAGCTCCCAAGATCAATTTGACCAGAAGACCCTGATCTTTGTCCTCGTT\n",
      "L2DZ1204       TTGGTCAAATATTTCTTAGCGCCCAAGATCAATTTGACCAGAAGAGCCTGATCTTTGTCCTCGTT\n",
      "LHW10346       TTGGCCAAATATTTCTTAGCGTCCAAGATCAATTTGATCAGAAGACCCTGATCTTTGCCCTCGTT\n",
      "LJ-118         TTGGCCAAATACTTCTTAGCGTCCGAGATCAATTTGACCAGAAGACCCTGATCTTTGCCCTCGTT\n",
      "//                 *      *        -*  *            -       -           *       \n",
      "L20090356      GGGCCGACGTGATGGCGCTGAACCAGTCG\n",
      "L2DZ0988       GGGCCGACGTGATGGCGCTGAACCAGTCG\n",
      "L2DZ1060       GGGCCGACGTGATGGCGCTGAACCAGTCG\n",
      "LHW10071       GGGCCGACGTGATGGCGCTGAACCAGTCG\n",
      "d35422         GGGCCGACGTGATGGCGCTGAACCAGTCG\n",
      "d41389         GGGCCGACGTGATGGCGCTGAACCAGTCG\n",
      "//                                          |66|\n",
      "L20090356      AGTTAGTACATTCTATTGTTTCTTTCATTTTAGAGTGCTATCATCT\n",
      "L2DZ0984       AGTTAGTACATTCTATTGTTTCTTTCATTTTAGAGTGCTATTATCT\n",
      "L2DZ0988       AGTTAGCACATTCTATTGTTTCTTTCRTTTTAGAGTGCCATTATCT\n",
      "L2DZ0989       AGTTAGTACATTCTATTGTTTCTTTCATTTTAGAGTGCTATCATCT\n",
      "L2DZ1011       AGTTAGCACATTCTATTGTTTCTTTCATTTTAGAGTGCCATTATCT\n",
      "L2DZ1060       AGTTAGCACATTCTATTGTTTCTTTCATTTTAGAGTGCCATTATCT\n",
      "L2DZ1266       AGTTAGCACATTCTATTGTTTCTTTTATTTTAGAGTGCCATTATCT\n",
      "L2DZ1282_1     AGTTAGTACGTTCTATTGTTTCTTTCATTTTAGAGTGCTATCATCT\n",
      "LHW10069       AGTTAGCACATTCTATTGTTTCTTTCGTTTTAGAGTGCCATTATCT\n",
      "LHW10071       AGTTAGTACATTCTATTGTTTCTTTCATTTTAGAGTGCTATCATCT\n",
      "LHW10074       AGTTAGCACATTCTATTGTTTCTTTCGTTTTAGAGTGCCATTATCT\n",
      "LHW10346       AGTTAGCACATTCTATTGTTTCTTTCATTTTAGAGTGCCATTATC-\n",
      "LJ-118         AGTTRGTACATTCTATTGTTTCTTTCATTTTAGAGTGCTATTATCT\n",
      "//                 - *  -               -*           *  *    |68|\n",
      "L20090356      GCACGTCCGAAGTCCACGGCCGTCGCGAAGCGGTCCGCACTTCGGAGCGCCATGCCCT\n",
      "L2DZ0988       GCACGTCCGAAGTCCACGGCCGTCGCGAAGCGGTCCGCACTTCGGAGCGCCATGCCCT\n",
      "L2DZ1060       GCACGTCCGAAGTCCACGGCCGTCGCGAAGCGGTCCGCGCTGCGRAGCGCCATGCCCT\n",
      "L2DZ1243       GCACGTCCGAAGTCGACGGCCGTCGCGAAGCGGTCCGCGCTGCGGAGTGCCATGCCTT\n"
     ]
    },
    {
     "name": "stderr",
     "output_type": "stream",
     "text": [
      "cut: write error: Broken pipe\n"
     ]
    }
   ],
   "source": [
    "%%bash\n",
    "cut -c 1-80 /fastscratch/de243/WB-PED/c85d5f2h5/min4_c85d5f2h5_outfiles/min4_c85d5f2h5.loci | head -n 100"
   ]
  },
  {
   "cell_type": "markdown",
   "metadata": {},
   "source": [
    "## Analysis methods"
   ]
  },
  {
   "cell_type": "code",
   "execution_count": null,
   "metadata": {
    "collapsed": false
   },
   "outputs": [],
   "source": [
    "%%bash \n",
    "#-s $min4.outfiles.\n",
    "\n",
    "tetrad -s /fastscratch/de243/WB-PED/c85d5f2h5/min4_c85d5f2h5_outfiles/min4_c85d5f2h5.snps.phy \\\n",
    "       -l /fastscratch/de243/WB-PED/c85d5f2h5/min4_c85d5f2h5_outfiles/min4_c85d5f2h5.snps.map \\\n",
    "       -b 100 -n min4_c85d5f2h5 -c 32 --MPI -f\n"
   ]
  },
  {
   "cell_type": "code",
   "execution_count": 30,
   "metadata": {
    "collapsed": false
   },
   "outputs": [
    {
     "name": "stdout",
     "output_type": "stream",
     "text": [
      "  loading Assembly: min4_c85d5f2h5\n",
      "  from saved path: /fastscratch/de243/WB-PED/c85d5f2h5/min4_c85d5f2h5.json\n"
     ]
    },
    {
     "data": {
      "text/plain": [
       "'/fastscratch/de243/WB-PED/c85d5f2h5/min4_c85d5f2h5_outfiles/min4_c85d5f2h5.phy'"
      ]
     },
     "execution_count": 30,
     "metadata": {},
     "output_type": "execute_result"
    }
   ],
   "source": [
    "min4 = ip.load_json(\"/fastscratch/de243/WB-PED/c85d5f2h5/min4_c85d5f2h5.json\")\n",
    "min4.outfiles.loci[:-5]+'.phy'"
   ]
  },
  {
   "cell_type": "code",
   "execution_count": 89,
   "metadata": {
    "collapsed": false
   },
   "outputs": [],
   "source": [
    "## make raxml dir\n",
    "raxdir = os.path.join(os.curdir, \"analysis_raxml\")\n",
    "raxdir = os.path.realpath(raxdir)\n",
    "if not os.path.exists(raxdir):\n",
    "    os.mkdir(raxdir)\n",
    "    \n",
    "## get outgroup string\n",
    "OUT = \",\".join([i for i in min4.samples.keys() if i[0] == \"d\"])\n",
    "\n",
    "## run raxml in the background\n",
    "cmd = [\"/home2/de243/miniconda2/bin/raxmlHPC-PTHREADS\", \n",
    "        \"-f\", \"a\", \n",
    "        \"-m\", \"GTRGAMMA\", \n",
    "        \"-N\", \"100\", \n",
    "        \"-T\", \"8\", \n",
    "        \"-x\", \"12345\", \n",
    "        \"-p\", \"54321\",\n",
    "        \"-o\", OUT, \n",
    "        \"-w\", raxdir, \n",
    "        \"-n\", \"min4_tree\",\n",
    "        \"-s\", min4.outfiles.loci[:-5]+'.phy']\n",
    "\n",
    "## start process running in background\n",
    "proc = sps.Popen(cmd, stderr=sps.PIPE, stdout=sps.PIPE)"
   ]
  },
  {
   "cell_type": "code",
   "execution_count": 107,
   "metadata": {
    "collapsed": false
   },
   "outputs": [
    {
     "name": "stdout",
     "output_type": "stream",
     "text": [
      "still running: \n",
      "Bootstrap[2]: Time 38.238277 seconds, bootstrap likelihood -661693.484348, best rearrangement setting 12\n"
     ]
    }
   ],
   "source": [
    "## ask if it's still running in background\n",
    "if proc.poll():\n",
    "    print sps.returncode\n",
    "else:\n",
    "    tail = ! tail $raxdir/*info*\n",
    "    print \"still running: \\n\", tail[-1]"
   ]
  }
 ],
 "metadata": {
  "anaconda-cloud": {},
  "kernelspec": {
   "display_name": "Python [conda root]",
   "language": "python",
   "name": "conda-root-py"
  },
  "language_info": {
   "codemirror_mode": {
    "name": "ipython",
    "version": 2
   },
   "file_extension": ".py",
   "mimetype": "text/x-python",
   "name": "python",
   "nbconvert_exporter": "python",
   "pygments_lexer": "ipython2",
   "version": "2.7.12"
  }
 },
 "nbformat": 4,
 "nbformat_minor": 0
}
