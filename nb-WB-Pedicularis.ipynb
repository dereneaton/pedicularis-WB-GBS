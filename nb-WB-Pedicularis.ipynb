{
 "cells": [
  {
   "cell_type": "markdown",
   "metadata": {},
   "source": [
    "# Assembly and analysis of *Pedicularis* PE-GBS data set\n",
    "\n",
    "A library for 48 samples was prepared following the protocol described in Escudero et al. 2013 with the PstI restriction enzyme, followed by PCR amplification of primer ligated fragments. The library prep lacked a size selection step, which we discuss in the methods below.  The library was sequenced on one lane of an Illumina HiSeq 2000 yielding xxx reads."
   ]
  },
  {
   "cell_type": "markdown",
   "metadata": {},
   "source": [
    "### This notebook\n",
    "This notebook provides a fully reproducible workflow to assemble and analyze the Yu-Eaton-Ree (2012) *Pedicularis* GBS data set. This notebook and its results files are stored in the following github repo [see git repo here](https://github.com/dereneaton/pedicularis-WB-GBS). Starting from the raw data files, we denovo assemble the data in *ipyrad* to demultiplex,  filter, and cluster reads within Samples, before clustering conensus reads between samples to identify homology, and finally filtering and formating to create output files. Analysis of the resulting files is shown in separate notebooks, again available in the [git repo](https://github.com/dereneaton/pedicularis-WB-GBS)."
   ]
  },
  {
   "cell_type": "code",
   "execution_count": 1,
   "metadata": {
    "collapsed": false
   },
   "outputs": [
    {
     "name": "stdout",
     "output_type": "stream",
     "text": [
      "https://github.com/dereneaton/pedicularis-WB-GBS.git\r\n"
     ]
    }
   ],
   "source": [
    "## show that this dir is a git repo (has .git file mapping to the address shown)\n",
    "## this allows me to push updates to this notebook directly to github, \n",
    "## to easily share its conents with others.\n",
    "! git config --get remote.origin.url"
   ]
  },
  {
   "cell_type": "markdown",
   "metadata": {},
   "source": [
    "### Import ipyrad and other common modules"
   ]
  },
  {
   "cell_type": "code",
   "execution_count": 2,
   "metadata": {
    "collapsed": false
   },
   "outputs": [
    {
     "name": "stdout",
     "output_type": "stream",
     "text": [
      "ipyrad v.0.4.4\n",
      "ipyparallel v.5.0.1\n",
      "numpy v.1.11.0\n"
     ]
    }
   ],
   "source": [
    "## all necessary software is installed alongside ipyrad, \n",
    "## and can be installed by uncommenting the command below\n",
    "# conda install -c ipyrad ipyrad -y\n",
    "\n",
    "## import basic modules and ipyrad and print version\n",
    "import os\n",
    "import socket\n",
    "import glob\n",
    "import subprocess as sps\n",
    "import numpy as np\n",
    "import ipyparallel as ipp\n",
    "import ipyrad as ip\n",
    "\n",
    "print \"ipyrad v.{}\".format(ip.__version__)\n",
    "print \"ipyparallel v.{}\".format(ipp.__version__)\n",
    "print \"numpy v.{}\".format(np.__version__)"
   ]
  },
  {
   "cell_type": "markdown",
   "metadata": {},
   "source": [
    "### The cluster\n",
    "This notebook is connected to 32 cores on 4 nodes of the Louise HPC cluster at Yale. SSH Tunneling was set up following [this tutorial](http://ipyrad.readthedocs.io/HPC_Tunnel.html) to launch an *ipcluster* instance. Below I use the ipyparallel Python module to show that we are connected to all cores. "
   ]
  },
  {
   "cell_type": "code",
   "execution_count": 4,
   "metadata": {
    "collapsed": false
   },
   "outputs": [
    {
     "name": "stdout",
     "output_type": "stream",
     "text": [
      "host compute node: [8 cores] on compute-24-14.local\n",
      "host compute node: [16 cores] on compute-22-10.local\n",
      "host compute node: [8 cores] on compute-20-15.local\n"
     ]
    }
   ],
   "source": [
    "## open a view to the client\n",
    "ipyclient = ipp.Client()\n",
    "\n",
    "## confirm we are connected to 4 8-core nodes\n",
    "hosts = ipyclient[:].apply_sync(socket.gethostname)\n",
    "for hostname in set(hosts):\n",
    "    print(\"host compute node: [{} cores] on {}\"\\\n",
    "          .format(hosts.count(hostname), hostname))"
   ]
  },
  {
   "cell_type": "markdown",
   "metadata": {},
   "source": [
    "### Set up a working directory\n",
    "This notebook is run from a local directory on the HPC cluster, while the scratch dir will be used as a working directory in which all big seq files will be stored. We will transfer a few files to the local dir in the end to save them for downstream analyses and to upload to github. "
   ]
  },
  {
   "cell_type": "code",
   "execution_count": 5,
   "metadata": {
    "collapsed": false
   },
   "outputs": [
    {
     "name": "stdout",
     "output_type": "stream",
     "text": [
      "working directory (WORK) = /fastscratch/de243/WB-PED\n",
      "current directory (NBDIR) = /home2/de243/pedicularis-WB-GBS\n"
     ]
    }
   ],
   "source": [
    "## create a new working directory in HPC scratch dir\n",
    "WORK = \"/fastscratch/de243/WB-PED\"\n",
    "if not os.path.exists(WORK):\n",
    "    os.mkdir(WORK)\n",
    "\n",
    "## the current dir (./) in which this notebook resides\n",
    "NBDIR = os.path.realpath(os.curdir)\n",
    "\n",
    "## print it\n",
    "print \"working directory (WORK) = {}\".format(WORK)\n",
    "print \"current directory (NBDIR) = {}\".format(NBDIR)"
   ]
  },
  {
   "cell_type": "markdown",
   "metadata": {},
   "source": [
    "### The raw data\n",
    "The raw R1 and R2 data are each split into 59 gzipped files approximately 300MB in size. The barcodes file maps sample names to barcodes that are contained inline in the R1 sequences, and are 4-8bp in length. The barcodes are printed a little further below. "
   ]
  },
  {
   "cell_type": "code",
   "execution_count": 6,
   "metadata": {
    "collapsed": false
   },
   "outputs": [],
   "source": [
    "## Locations of the raw data stored temporarily on Yale's Louise HPC cluster\n",
    "## Data are also stored more permanently on local computer tinus at Yale\n",
    "RAWREADS = \"/fastscratch/de243/TMP_RAWS/*.fastq.gz\"\n",
    "BARCODES = \"/fastscratch/de243/TMP_RAWS/WB-PED_barcodes.txt\""
   ]
  },
  {
   "cell_type": "markdown",
   "metadata": {},
   "source": [
    "### Fastqc quality check\n",
    "\n",
    "I ran the program *fastQC* on the raw data files to do a quality check, the results of which are available here [fastqc_dir](https://github.com/dereneaton/pedicularis-WB-GBS/tree/master/tmp_fastqc). Overall, quality scores were not terrible, but also not great, our biggest problem was very high adapter contamination. I will filter this out using the program *cutadapt* implemented in step2 of *ipyrad*, and discussed further below."
   ]
  },
  {
   "cell_type": "code",
   "execution_count": 104,
   "metadata": {
    "collapsed": false
   },
   "outputs": [
    {
     "name": "stdout",
     "output_type": "stream",
     "text": [
      " 118/118 tasks finished after  153 s\n",
      "done\n"
     ]
    }
   ],
   "source": [
    "## uncomment this to install fastqc with conda\n",
    "#conda install -c bioconda fastqc -q \n",
    "\n",
    "## create a tmp directory for fastqc outfiles (./tmp_fastqc)\n",
    "QUALDIR = os.path.join(NBDIR, \"tmp_fastqc\")\n",
    "if not os.path.exists(QUALDIR):\n",
    "    os.mkdir(QUALDIR)\n",
    "    \n",
    "## run fastqc on all raw data files and write outputs to fastqc tmpdir.\n",
    "## This is parallelized by load-balancing with ipyclient\n",
    "lbview = ipyclient.load_balanced_view()\n",
    "for rawfile in glob.glob(RAWREADS):\n",
    "    cmd = ['fastqc', rawfile, '--outdir', QUALDIR, '-t', '1', '-q']\n",
    "    lbview.apply_async(sps.check_output, cmd)\n",
    "    \n",
    "## block until all finished and print progress\n",
    "ipyclient.wait_interactive()"
   ]
  },
  {
   "cell_type": "markdown",
   "metadata": {},
   "source": [
    "### Create demultiplexed files for each Sample in *ipyrad*\n",
    "We set the location to the data and barcodes info for each object, and set the max barcode mismatch parameter to zero (strict), allowing no mismatches. "
   ]
  },
  {
   "cell_type": "code",
   "execution_count": 7,
   "metadata": {
    "collapsed": false
   },
   "outputs": [
    {
     "name": "stdout",
     "output_type": "stream",
     "text": [
      "  New Assembly: WB-PED_demux\n"
     ]
    }
   ],
   "source": [
    "## create an object to demultiplex each lane\n",
    "demux = ip.Assembly(\"WB-PED_demux\")\n",
    "\n",
    "## set basic derep parameters for the two objects\n",
    "demux.set_params(\"project_dir\", os.path.join(WORK, \"demux_reads\"))\n",
    "demux.set_params(\"raw_fastq_path\", RAWREADS)\n",
    "demux.set_params(\"barcodes_path\", BARCODES)\n",
    "demux.set_params(\"max_barcode_mismatch\", 0)\n",
    "demux.set_params(\"datatype\", \"pairgbs\")\n",
    "demux.set_params(\"restriction_overhang\", (\"TGCAG\", \"TGCAG\"))\n",
    "\n",
    "## print params\n",
    "## demux.get_params()"
   ]
  },
  {
   "cell_type": "code",
   "execution_count": 7,
   "metadata": {
    "collapsed": false
   },
   "outputs": [
    {
     "name": "stdout",
     "output_type": "stream",
     "text": [
      "\n",
      "  Assembly: WB-PED_demux\n",
      "  [####################] 100%  chunking large files  | 0:00:00 | s1 | \n",
      "  [####################] 100%  sorting reads         | 0:18:40 | s1 | \n",
      "  [####################] 100%  writing/compressing   | 0:30:34 | s1 | \n"
     ]
    }
   ],
   "source": [
    "demux.run(\"1\")"
   ]
  },
  {
   "cell_type": "markdown",
   "metadata": {},
   "source": [
    "### Look at demux results \n",
    "Showing just a few lines of the results below, you can see that a *ton* of reads did not match to a barcode due to Ns in the barcode region of reads for files numbered 041-050. We should allow for a mismatch in the barcode sequence to recover many of these. So we reran step 1 allowing for one bp difference. "
   ]
  },
  {
   "cell_type": "code",
   "execution_count": 26,
   "metadata": {
    "collapsed": false,
    "scrolled": false
   },
   "outputs": [
    {
     "name": "stdout",
     "output_type": "stream",
     "text": [
      "total reads recovered 182369514\n",
      "\n",
      "raw_file                               total_reads    cut_found  bar_matched\n",
      "lane2_NoIndex_L002_R1_040.fastq            4000000      3998844      3288695\n",
      "lane2_NoIndex_L002_R2_040.fastq            4000000      3998844      3288695\n",
      "lane2_NoIndex_L002_R1_041.fastq            4000000      3999819       978178\n",
      "lane2_NoIndex_L002_R2_041.fastq            4000000      3999819       978178\n",
      "lane2_NoIndex_L002_R1_042.fastq            4000000      3999912       538103\n",
      "lane2_NoIndex_L002_R2_042.fastq            4000000      3999912       538103\n",
      "lane2_NoIndex_L002_R1_043.fastq            4000000      4000000            0\n",
      "lane2_NoIndex_L002_R2_043.fastq            4000000      4000000            0\n",
      "lane2_NoIndex_L002_R1_044.fastq            4000000      4000000            0\n",
      "lane2_NoIndex_L002_R2_044.fastq            4000000      4000000            0\n",
      "lane2_NoIndex_L002_R1_045.fastq            4000000      4000000            0\n",
      "lane2_NoIndex_L002_R2_045.fastq            4000000      4000000            0\n",
      "lane2_NoIndex_L002_R1_046.fastq            4000000      4000000            0\n",
      "lane2_NoIndex_L002_R2_046.fastq            4000000      4000000            0\n",
      "lane2_NoIndex_L002_R1_047.fastq            4000000      4000000            0\n",
      "lane2_NoIndex_L002_R2_047.fastq            4000000      4000000            0\n",
      "lane2_NoIndex_L002_R1_048.fastq            4000000      4000000            0\n",
      "lane2_NoIndex_L002_R2_048.fastq            4000000      4000000            0\n",
      "lane2_NoIndex_L002_R1_049.fastq            4000000      4000000            0\n",
      "lane2_NoIndex_L002_R2_049.fastq            4000000      4000000            0\n",
      "lane2_NoIndex_L002_R1_050.fastq            4000000      3999399      2039300\n",
      "lane2_NoIndex_L002_R2_050.fastq            4000000      3999399      2039300\n",
      "lane2_NoIndex_L002_R1_051.fastq            4000000      3998782      3754015\n",
      "lane2_NoIndex_L002_R2_051.fastq            4000000      3998782      3754015\n",
      "lane2_NoIndex_L002_R1_052.fastq            4000000      3998858      3749135\n",
      "lane2_NoIndex_L002_R2_052.fastq            4000000      3998858      3749135\n",
      "lane2_NoIndex_L002_R1_053.fastq            4000000      3998922      3738752\n",
      "lane2_NoIndex_L002_R2_053.fastq            4000000      3998922      3738752\n",
      "lane2_NoIndex_L002_R1_054.fastq            4000000      3998831      3730847\n",
      "lane2_NoIndex_L002_R2_054.fastq            4000000      3998831      3730847\n",
      "lane2_NoIndex_L002_R1_055.fastq            4000000      3998765      3686866\n",
      "lane2_NoIndex_L002_R2_055.fastq            4000000      3998765      3686866\n",
      "lane2_NoIndex_L002_R1_056.fastq            4000000      3998782      3682624\n",
      "lane2_NoIndex_L002_R2_056.fastq            4000000      3998782      3682624\n",
      "lane2_NoIndex_L002_R1_057.fastq            4000000      3998800      3640227\n",
      "lane2_NoIndex_L002_R2_057.fastq            4000000      3998800      3640227\n",
      "lane2_NoIndex_L002_R1_058.fastq            4000000      3998770      3644126\n",
      "lane2_NoIndex_L002_R2_058.fastq            4000000      3998770      3644126\n",
      "lane2_NoIndex_L002_R1_059.fastq            4000000      3998811      3265886\n",
      "lane2_NoIndex_L002_R2_059.fastq            4000000      3998811      3265886\n"
     ]
    }
   ],
   "source": [
    "## print total\n",
    "print \"total reads recovered: {}\\n\".format(demux.stats.reads_raw.sum())\n",
    "\n",
    "## print header, and then selected results across raw files\n",
    "! head -n 1 $demux.stats_files.s1\n",
    "! cat $demux.stats_files.s1 | grep 0[4-5][0-9].fastq"
   ]
  },
  {
   "cell_type": "code",
   "execution_count": null,
   "metadata": {
    "collapsed": false,
    "scrolled": true
   },
   "outputs": [
    {
     "name": "stdout",
     "output_type": "stream",
     "text": [
      "\n",
      "  Assembly: WB-PED_demux\n",
      "  [####################] 100%  chunking large files  | 0:00:00 | s1 | \n",
      "  [                    ]   0%  sorting reads         | 0:00:50 | s1 | "
     ]
    }
   ],
   "source": [
    "## run with one bp mismatch\n",
    "demux.set_params(\"max_barcode_mismatch\", 1)\n",
    "demux.run(\"1\", force=True)"
   ]
  },
  {
   "cell_type": "code",
   "execution_count": 10,
   "metadata": {
    "collapsed": false
   },
   "outputs": [
    {
     "name": "stdout",
     "output_type": "stream",
     "text": [
      "total reads recovered: 221196301\n",
      "\n",
      "raw_file                               total_reads    cut_found  bar_matched\n",
      "lane2_NoIndex_L002_R1_040.fastq            4000000      3998844      3722871\n",
      "lane2_NoIndex_L002_R2_040.fastq            4000000      3998844      3722871\n",
      "lane2_NoIndex_L002_R1_041.fastq            4000000      3999819      3790942\n",
      "lane2_NoIndex_L002_R2_041.fastq            4000000      3999819      3790942\n",
      "lane2_NoIndex_L002_R1_042.fastq            4000000      3999912      3761225\n",
      "lane2_NoIndex_L002_R2_042.fastq            4000000      3999912      3761225\n",
      "lane2_NoIndex_L002_R1_043.fastq            4000000      4000000      3744178\n",
      "lane2_NoIndex_L002_R2_043.fastq            4000000      4000000      3744178\n",
      "lane2_NoIndex_L002_R1_044.fastq            4000000      4000000      3661280\n",
      "lane2_NoIndex_L002_R2_044.fastq            4000000      4000000      3661280\n",
      "lane2_NoIndex_L002_R1_045.fastq            4000000      4000000      3593439\n",
      "lane2_NoIndex_L002_R2_045.fastq            4000000      4000000      3593439\n",
      "lane2_NoIndex_L002_R1_046.fastq            4000000      4000000      3717015\n",
      "lane2_NoIndex_L002_R2_046.fastq            4000000      4000000      3717015\n",
      "lane2_NoIndex_L002_R1_047.fastq            4000000      4000000      3607287\n",
      "lane2_NoIndex_L002_R2_047.fastq            4000000      4000000      3607287\n",
      "lane2_NoIndex_L002_R1_048.fastq            4000000      4000000      3623573\n",
      "lane2_NoIndex_L002_R2_048.fastq            4000000      4000000      3623573\n",
      "lane2_NoIndex_L002_R1_049.fastq            4000000      4000000      3563002\n",
      "lane2_NoIndex_L002_R2_049.fastq            4000000      4000000      3563002\n",
      "lane2_NoIndex_L002_R1_050.fastq            4000000      3999399      3651403\n",
      "lane2_NoIndex_L002_R2_050.fastq            4000000      3999399      3651403\n",
      "lane2_NoIndex_L002_R1_051.fastq            4000000      3998782      3814341\n",
      "lane2_NoIndex_L002_R2_051.fastq            4000000      3998782      3814341\n",
      "lane2_NoIndex_L002_R1_052.fastq            4000000      3998858      3810195\n",
      "lane2_NoIndex_L002_R2_052.fastq            4000000      3998858      3810195\n",
      "lane2_NoIndex_L002_R1_053.fastq            4000000      3998922      3803281\n",
      "lane2_NoIndex_L002_R2_053.fastq            4000000      3998922      3803281\n",
      "lane2_NoIndex_L002_R1_054.fastq            4000000      3998831      3798334\n",
      "lane2_NoIndex_L002_R2_054.fastq            4000000      3998831      3798334\n",
      "lane2_NoIndex_L002_R1_055.fastq            4000000      3998765      3767662\n",
      "lane2_NoIndex_L002_R2_055.fastq            4000000      3998765      3767662\n",
      "lane2_NoIndex_L002_R1_056.fastq            4000000      3998782      3779830\n",
      "lane2_NoIndex_L002_R2_056.fastq            4000000      3998782      3779830\n",
      "lane2_NoIndex_L002_R1_057.fastq            4000000      3998800      3719182\n",
      "lane2_NoIndex_L002_R2_057.fastq            4000000      3998800      3719182\n",
      "lane2_NoIndex_L002_R1_058.fastq            4000000      3998770      3729803\n",
      "lane2_NoIndex_L002_R2_058.fastq            4000000      3998770      3729803\n",
      "lane2_NoIndex_L002_R1_059.fastq            4000000      3998811      3719652\n",
      "lane2_NoIndex_L002_R2_059.fastq            4000000      3998811      3719652\n"
     ]
    }
   ],
   "source": [
    "## print total\n",
    "print \"total reads recovered: {}\\n\".format(demux.stats.reads_raw.sum())\n",
    "\n",
    "## print header, and then selected results across raw files\n",
    "! head -n 1 $demux.stats_files.s1\n",
    "! cat $demux.stats_files.s1 | grep 0[4-5][0-9].fastq"
   ]
  },
  {
   "cell_type": "markdown",
   "metadata": {},
   "source": [
    "### copy the results txt file back to the local dir (git repo)\n",
    "I then pushed it to the repo [(view the full results here)](https://github.com/dereneaton/pedicularis-WB-GBS/blob/master/s1_demultiplex_stats.txt)"
   ]
  },
  {
   "cell_type": "code",
   "execution_count": 11,
   "metadata": {
    "collapsed": true
   },
   "outputs": [],
   "source": [
    "## the result of this demux look better, so I copied the step1\n",
    "## stats file to the local dir and pushed it to the git repo.\n",
    "! cp $demux.stats_files.s1 $NBDIR"
   ]
  },
  {
   "cell_type": "markdown",
   "metadata": {},
   "source": [
    "### Start an assembly of the data set\n",
    "I usually prefer to start my analyses from data that are already de-multiplexed, since the demux fastq files are typically what is available to others after a study is published and that data are made available online. So here we will create an Assembly object and read in the demultiplexed data. Then we will run step 2 to filter the data and take a close look at the results. "
   ]
  },
  {
   "cell_type": "code",
   "execution_count": 12,
   "metadata": {
    "collapsed": false,
    "scrolled": false
   },
   "outputs": [
    {
     "name": "stdout",
     "output_type": "stream",
     "text": [
      "  New Assembly: c85d5f2h5\n",
      "  0   assembly_name               c85d5f2h5                                    \n",
      "  1   project_dir                 /fastscratch/de243/WB-PED/c85d5f2h5          \n",
      "  2   raw_fastq_path                                                           \n",
      "  3   barcodes_path               /fastscratch/de243/TMP_RAWS/WB-PED_barcodes.txt\n",
      "  4   sorted_fastq_path           /fastscratch/de243/WB-PED/demux_reads/WB-PED_demux_fastqs/*gz\n",
      "  5   assembly_method             denovo                                       \n",
      "  6   reference_sequence                                                       \n",
      "  7   datatype                    pairgbs                                      \n",
      "  8   restriction_overhang        ('TGCAG', 'TGCAG')                           \n",
      "  9   max_low_qual_bases          5                                            \n",
      "  10  phred_Qscore_offset         33                                           \n",
      "  11  mindepth_statistical        6                                            \n",
      "  12  mindepth_majrule            6                                            \n",
      "  13  maxdepth                    10000                                        \n",
      "  14  clust_threshold             0.85                                         \n",
      "  15  max_barcode_mismatch        0                                            \n",
      "  16  filter_adapters             2                                            \n",
      "  17  filter_min_trim_len         35                                           \n",
      "  18  max_alleles_consens         2                                            \n",
      "  19  max_Ns_consens              (5, 5)                                       \n",
      "  20  max_Hs_consens              (5, 5)                                       \n",
      "  21  min_samples_locus           4                                            \n",
      "  22  max_SNPs_locus              (20, 20)                                     \n",
      "  23  max_Indels_locus            (8, 8)                                       \n",
      "  24  max_shared_Hs_locus         0.5                                          \n",
      "  25  edit_cutsites               (0, 0)                                       \n",
      "  26  trim_overhang               (0, 5, 5, 0)                                 \n",
      "  27  output_formats              *                                            \n",
      "  28  pop_assign_file                                                          \n"
     ]
    }
   ],
   "source": [
    "## this will be our assembly object for steps 1-6\n",
    "data = ip.Assembly(\"c85d5f2h5\")\n",
    "\n",
    "## (optional) set a more fine-tuned threading for our cluster\n",
    "data._ipcluster[\"threads\"] = 4\n",
    "\n",
    "## demux data location\n",
    "DEMUX = os.path.join(demux.dirs.fastqs, \"*gz\")\n",
    "\n",
    "## set parameters for this assembly and print them \n",
    "data.set_params(\"project_dir\", os.path.join(WORK, data.name))\n",
    "data.set_params(\"sorted_fastq_path\", DEMUX)\n",
    "data.set_params(\"barcodes_path\", BARCODES)\n",
    "data.set_params(\"filter_adapters\", 2)\n",
    "data.set_params(\"datatype\", \"pairgbs\")\n",
    "data.set_params(\"restriction_overhang\", (\"TGCAG\", \"TGCAG\"))\n",
    "data.set_params(\"max_Hs_consens\", (5, 5))\n",
    "data.set_params(\"trim_overhang\", (0, 5, 5, 0))\n",
    "data.get_params()"
   ]
  },
  {
   "cell_type": "code",
   "execution_count": 13,
   "metadata": {
    "collapsed": false,
    "scrolled": true
   },
   "outputs": [
    {
     "name": "stdout",
     "output_type": "stream",
     "text": [
      "\n",
      "  Assembly: c85d5f2h5\n",
      "  [####################] 100%  loading reads         | 0:00:56 | s1 | \n",
      "  [####################] 100%  processing reads      | 0:23:05 | s2 | \n"
     ]
    }
   ],
   "source": [
    "## run steps 1-6\n",
    "data.run(\"12\")"
   ]
  },
  {
   "cell_type": "markdown",
   "metadata": {},
   "source": [
    "### Filtering stats\n",
    "I pushed the full step 2 stats file to github [(see it here)](https://github.com/dereneaton/pedicularis-WB-GBS/blob/master/s2_rawedit_stats.txt). As you can tell from this little snippet, tons of reads were trimmed of adapters, and trimmed for quality scores."
   ]
  },
  {
   "cell_type": "code",
   "execution_count": 17,
   "metadata": {
    "collapsed": false,
    "scrolled": true
   },
   "outputs": [
    {
     "name": "stdout",
     "output_type": "stream",
     "text": [
      "           reads_raw  trim_adapter_bp_read1  trim_adapter_bp_read2  \\\n",
      "L20090356    4143404                1836178                1983663   \n",
      "L2DZ0984     4646226                1890089                2095516   \n",
      "L2DZ0988     4948408                2195090                2371398   \n",
      "L2DZ0989     4209024                1803353                1950326   \n",
      "L2DZ0990     4621835                1962933                2150203   \n",
      "\n",
      "           trim_quality_bp_read1  trim_quality_bp_read2  reads_filtered_by_Ns  \\\n",
      "L20090356               63255677               59275618                  1484   \n",
      "L2DZ0984                74989294               69346878                  1654   \n",
      "L2DZ0988                71173489               62383199                  1935   \n",
      "L2DZ0989                62485246               60599462                  1577   \n",
      "L2DZ0990                72114365               66128652                  1712   \n",
      "\n",
      "           reads_filtered_by_minlen  reads_passed_filter  \n",
      "L20090356                   1052632              3089288  \n",
      "L2DZ0984                    1202751              3441821  \n",
      "L2DZ0988                    1213140              3733333  \n",
      "L2DZ0989                    1024033              3183414  \n",
      "L2DZ0990                    1159538              3460585  \n"
     ]
    }
   ],
   "source": [
    "## print just the first few samples\n",
    "print data.stats_dfs.s2.head()"
   ]
  },
  {
   "cell_type": "markdown",
   "metadata": {},
   "source": [
    "### Run remaining steps of Assembly"
   ]
  },
  {
   "cell_type": "code",
   "execution_count": null,
   "metadata": {
    "collapsed": false,
    "scrolled": true
   },
   "outputs": [
    {
     "name": "stdout",
     "output_type": "stream",
     "text": [
      "\n",
      "  Assembly: c85d5f2h5\n",
      "  [                    ]   0%  dereplicating         | 0:00:19 | s3 | "
     ]
    }
   ],
   "source": [
    "data.run(\"3456\")"
   ]
  },
  {
   "cell_type": "markdown",
   "metadata": {},
   "source": [
    "### Create final output files\n",
    "We will do this for several values of `min_samples_locus`, and provide unique names for each resulting assembly. "
   ]
  },
  {
   "cell_type": "code",
   "execution_count": 15,
   "metadata": {
    "collapsed": false,
    "scrolled": true
   },
   "outputs": [
    {
     "name": "stdout",
     "output_type": "stream",
     "text": [
      "\n",
      "  Assembly: min4_c85d5f2h5\n",
      "  [####################] 100%  filtering loci        | 0:00:04 | s7 | \n",
      "  [####################] 100%  building loci/stats   | 0:00:02 | s7 | \n",
      "  [####################] 100%  building vcf file     | 0:00:06 | s7 | \n",
      "  [####################] 100%  writing vcf file      | 0:00:00 | s7 | \n",
      "  [####################] 100%  writing outfiles      | 0:00:02 | s7 | \n",
      "  Outfiles written to: /fastscratch/de243/WB-PED/c85d5f2h5/min4_c85d5f2h5_outfiles\n",
      "\n",
      "  Assembly: min10_c85d5f2h5\n",
      "  [####################] 100%  filtering loci        | 0:00:04 | s7 | \n",
      "  [####################] 100%  building loci/stats   | 0:00:02 | s7 | \n",
      "  [####################] 100%  building vcf file     | 0:00:04 | s7 | \n",
      "  [####################] 100%  writing vcf file      | 0:00:00 | s7 | \n",
      "  [####################] 100%  writing outfiles      | 0:00:01 | s7 | \n",
      "  Outfiles written to: /fastscratch/de243/WB-PED/c85d5f2h5/min10_c85d5f2h5_outfiles\n"
     ]
    }
   ],
   "source": [
    "## create named branches for final assemblies\n",
    "min4 = data.branch(\"min4_c85d5f2h5\")\n",
    "min4.set_params(\"min_samples_locus\", 4)\n",
    "\n",
    "min10 = data.branch(\"min10_c85d5f2h5\")\n",
    "min10.set_params(\"min_samples_locus\", 10)\n",
    "\n",
    "## assemble outfiles\n",
    "min4.run(\"7\", force=True)\n",
    "min10.run(\"7\", force=True)"
   ]
  },
  {
   "cell_type": "markdown",
   "metadata": {},
   "source": [
    "### Print final stats for the min4 assembly"
   ]
  },
  {
   "cell_type": "code",
   "execution_count": 16,
   "metadata": {
    "collapsed": false,
    "scrolled": false
   },
   "outputs": [
    {
     "name": "stdout",
     "output_type": "stream",
     "text": [
      "\r\n",
      "\r\n",
      "## The number of loci caught by each filter.\r\n",
      "## ipyrad API location: [assembly].statsfiles.s7_filters\r\n",
      "\r\n",
      "                            total_filters  applied_order  retained_loci\r\n",
      "total_prefiltered_loci              18895              0          18895\r\n",
      "filtered_by_rm_duplicates             819            819          18076\r\n",
      "filtered_by_max_indels                546            469          17607\r\n",
      "filtered_by_max_snps                  957            649          16958\r\n",
      "filtered_by_max_shared_het             12              4          16954\r\n",
      "filtered_by_min_sample              11161          10822           6132\r\n",
      "filtered_by_max_alleles              4737           2266           3866\r\n",
      "total_filtered_loci                  3866              0           3866\r\n",
      "\r\n",
      "\r\n",
      "## The number of loci recovered for each Sample.\r\n",
      "## ipyrad API location: [assembly].stats_dfs.s7_samples\r\n",
      "\r\n",
      "            sample_coverage\r\n",
      "L20090356               845\r\n",
      "L2DZ0984                871\r\n",
      "L2DZ0988               1069\r\n",
      "L2DZ0989               1088\r\n",
      "L2DZ0990               1076\r\n",
      "L2DZ1006               1029\r\n",
      "L2DZ1007               1306\r\n",
      "L2DZ1011               1398\r\n",
      "L2DZ1016                799\r\n",
      "L2DZ1019                684\r\n",
      "L2DZ1027                785\r\n",
      "L2DZ1060               1442\r\n",
      "L2DZ1070                847\r\n",
      "L2DZ1180               1070\r\n",
      "L2DZ1204                885\r\n",
      "L2DZ1243               1105\r\n",
      "L2DZ1266                759\r\n",
      "L2DZ1268                712\r\n",
      "L2DZ1282_1              753\r\n",
      "LHW10069               1118\r\n",
      "LHW10071                982\r\n",
      "LHW10074               1274\r\n",
      "LHW10346               1005\r\n",
      "LJ-118                 1020\r\n",
      "d19long1                533\r\n",
      "d30181                  780\r\n",
      "d30695                  844\r\n",
      "d31733                  648\r\n",
      "d33291                  381\r\n",
      "d34041                  373\r\n",
      "d35178                  463\r\n",
      "d35320                  427\r\n",
      "d35371                  333\r\n",
      "d35422                  474\r\n",
      "d39103                  662\r\n",
      "d39104                  544\r\n",
      "d39114                  493\r\n",
      "d39187                  430\r\n",
      "d39253                  968\r\n",
      "d39404                  574\r\n",
      "d39531                  568\r\n",
      "d39968                  675\r\n",
      "d40328                  500\r\n",
      "d41058                  442\r\n",
      "d41237                  352\r\n",
      "d41389                  495\r\n",
      "d41732                  541\r\n",
      "decor21                 793\r\n",
      "\r\n",
      "\r\n",
      "## The number of loci for which N taxa have data.\r\n",
      "## ipyrad API location: [assembly].stats_dfs.s7_loci\r\n",
      "\r\n",
      "    locus_coverage  sum_coverage\r\n",
      "1                0             0\r\n",
      "2                0             0\r\n",
      "3                0             0\r\n",
      "4             1226          1226\r\n",
      "5              639          1865\r\n",
      "6              398          2263\r\n",
      "7              265          2528\r\n",
      "8              162          2690\r\n",
      "9              144          2834\r\n",
      "10             107          2941\r\n",
      "11              66          3007\r\n",
      "12              57          3064\r\n",
      "13              73          3137\r\n",
      "14              42          3179\r\n",
      "15              58          3237\r\n",
      "16              51          3288\r\n",
      "17              34          3322\r\n",
      "18              45          3367\r\n",
      "19              42          3409\r\n",
      "20              35          3444\r\n",
      "21              30          3474\r\n",
      "22              49          3523\r\n",
      "23              48          3571\r\n",
      "24              55          3626\r\n",
      "25              11          3637\r\n",
      "26               7          3644\r\n",
      "27               6          3650\r\n",
      "28               3          3653\r\n",
      "29               8          3661\r\n",
      "30               3          3664\r\n",
      "31               6          3670\r\n",
      "32               3          3673\r\n",
      "33               3          3676\r\n",
      "34               7          3683\r\n",
      "35               7          3690\r\n",
      "36               4          3694\r\n",
      "37               9          3703\r\n",
      "38               2          3705\r\n",
      "39               8          3713\r\n",
      "40              17          3730\r\n",
      "41              10          3740\r\n",
      "42              11          3751\r\n",
      "43              15          3766\r\n",
      "44              17          3783\r\n",
      "45              18          3801\r\n",
      "46              19          3820\r\n",
      "47              31          3851\r\n",
      "48              15          3866\r\n",
      "\r\n",
      "\r\n",
      "## The distribution of SNPs (var and pis) across loci.\r\n",
      "## var = all variable sites (pis + autapomorphies)\r\n",
      "## pis = parsimony informative site (minor allele in >1 sample)\r\n",
      "## ipyrad API location: [assembly].stats_dfs.s7_snps\r\n",
      "\r\n",
      "    var  sum_var   pis  sum_pis\r\n",
      "0   267        0  1065        0\r\n",
      "1   332      332   681      681\r\n",
      "2   308      948   476     1633\r\n",
      "3   309     1875   372     2749\r\n",
      "4   259     2911   308     3981\r\n",
      "5   259     4206   209     5026\r\n",
      "6   217     5508   181     6112\r\n",
      "7   269     7391   159     7225\r\n",
      "8   227     9207   114     8137\r\n",
      "9   184    10863    90     8947\r\n",
      "10  157    12433    61     9557\r\n",
      "11  149    14072    48    10085\r\n",
      "12  130    15632    29    10433\r\n",
      "13  139    17439    20    10693\r\n",
      "14  117    19077    22    11001\r\n",
      "15  104    20637    10    11151\r\n",
      "16   83    21965     7    11263\r\n",
      "17   69    23138     6    11365\r\n",
      "18   62    24254     4    11437\r\n",
      "19   67    25527     0    11437\r\n",
      "20   64    26807     2    11477\r\n",
      "21   15    27122     0    11477\r\n",
      "22   10    27342     1    11499\r\n",
      "23    7    27503     1    11522\r\n",
      "24    6    27647     0    11522\r\n",
      "25    5    27772     0    11522\r\n",
      "26    7    27954     0    11522\r\n",
      "27    7    28143     0    11522\r\n",
      "28    5    28283     0    11522\r\n",
      "29    8    28515     0    11522\r\n",
      "30    5    28665     0    11522\r\n",
      "31    5    28820     0    11522\r\n",
      "32    2    28884     0    11522\r\n",
      "33    8    29148     0    11522\r\n",
      "34    0    29148     0    11522\r\n",
      "35    3    29253     0    11522\r\n",
      "36    0    29253     0    11522\r\n",
      "37    1    29290     0    11522"
     ]
    }
   ],
   "source": [
    "!cat $min4.stats_files.s7"
   ]
  },
  {
   "cell_type": "markdown",
   "metadata": {},
   "source": [
    "### A quick view of the first few loci"
   ]
  },
  {
   "cell_type": "code",
   "execution_count": 17,
   "metadata": {
    "collapsed": false
   },
   "outputs": [
    {
     "name": "stdout",
     "output_type": "stream",
     "text": [
      "L20090356      TTGTTTATTATAACTATATACAGTGGATTGTCAAATAATCAAGTGAGCAATTGATGCAGTCT\n",
      "L2DZ0984       TTGTTTATTATAACTATATACAGTGGATTGTCAAATAATCAAGTGAGCAATTGATGCAGTCA\n",
      "L2DZ0989       TTGTTTATTATAACTATATACCGTGGATTGTCAAATAATCAAGTGAGCAATTGATGCAGTCA\n",
      "LHW10071       TTGTTTATTATAACTATATACAGTGGATTGTCAAATAATCAAGTGAGCAATTGATGCAGTCA\n",
      "//                                  -                                       -|0|\n",
      "L20090356      TGGACGGCCTGGTCAAGGCCTACGGGGCCCGGCGCGT\n",
      "L2DZ0984       TGGANGGNCTNGNNAAGGCCTACGGGGCNCNRCGCGT\n",
      "L2DZ0990       TGGAGGGTCTCGCGAAGGCCTACGGGGCACGGCGCGT\n",
      "L2DZ1016       TGGACGGCCTGGCCAAGGCCTACGGGGCCCGGCGCGT\n",
      "L2DZ1243       TGGACGGCCTCGCGAAGGCCTACGGGGCACGGCGGGT\n",
      "//                 -  -  * -*              *  -  -  |1|\n",
      "L20090356      ATTTTGTTTCTCATAGTTAGTTGCGATTTATTTATTATAATTGTTTCGTCACATAAGTATTGAGT\n",
      "L2DZ0988       ATTTTGTTTCTCATAGTTAGTTGCGAT-------TTATAATTGTTTCTTCACATAAGTATTGAGT\n",
      "L2DZ0989       ATTTTGTTTCTCATAGTTAGTTGCGATTTATTTATTATAATTGTTTCGTCACATAAGTATTGAGT\n",
      "L2DZ0990       ATTTTNNTTCTCATAGTTAGTTGNGAT-TATTTATTATAATTGTTTCGTCNCATAAGNATTGAG-\n",
      "L2DZ1060       ATTTTGTTTCTCATAGTTAGTTGCGATTTATTTATTAAAATTGTTTTGTCACATAAGTATTGAGT\n",
      "L2DZ1282_1     ATTTTACTTCTCATAGTTAGTTGTGAT-TATTTATTATAATTGTTTCGTCACATAAGTATTGAG-\n",
      "LHW10074       ATTTTGCTTCTCATAGTTAGTTGTGAT-TATTTATTATAATTGTTTCGTCACATAAGTATTGAG-\n",
      "LHW10346       ATTTTGTTTCTCATAGTTAGTTGCGATTTATTTATTAAAATTGTTTTGTCACATAAGTATTGAGT\n",
      "LJ-118         ATTTTGTTTCTCATAGTTAGTTGCGATTTATTTATTATAATTGTTTCGTCACATAAGTATTGAGT\n",
      "//                  -*                *             *        *-                 \n",
      "L20090356      ATGTGTTTTTCTGCATCAGCACGTGTTAAGAATAAACCAGTTGATTCAATTACTACTTCAACGCC\n",
      "L2DZ0990       ATGTGTTTTTCAGCATCAGCACGTGTTAANAATAAACCTGTAGATTCGATAACTACTTCAACACC\n",
      "L2DZ1060       ATGTGTTTCTCTGCATCAGCACGGGTTAAGAATAAACCTGTTGATTCGATTACTACTTCAACACC\n",
      "L2DZ1268       ATGTGNTTCTCTGCATCAGCACGGGTTAAGAATAAACCTGTTGATTCGATTACTACTTCAACACC\n",
      "//                     *  -           *              -  -     -  -           -  \n",
      "L20090356      GCCTGGACAACTACCGGCGCGCCTTGCGCCA\n",
      "L2DZ0984       GCCTGGACAACTACCGNCGCGCCTTGCNNCN\n",
      "L2DZ0988       GCCTGGACAACTACCGACGCGCCTTGCGCCA\n",
      "L2DZ1019       GCCTGGACAACNACCGNCGCGCCTTGCGCCA\n",
      "L2DZ1060       GCCTGGACAACTACCRGCGCGYCTTGCGCCA\n",
      "//                            --    -         |28|\n",
      "L20090356      AAAAATGATGTGTCCACGCGTCTGCATTATTTCTGACCCTTATTGTTGCCAGATANTTGTGCTTC\n",
      "L2DZ1007       AAAAATGATGTGTCCACGCATCTGCATTATTTCTGACCCTTACCCTTGCCAGATATTTGTGCTTC\n",
      "L2DZ1060       AAAAATGATGTGTCCACGCGTCTGCATTATTTCTGACCCTTATCGTTGCCAGATATTTGTGCTTC\n",
      "L2DZ1282_1     AAAAATGATTTGTCCACGCGTCTGCATTATTTCTGACCCTTATCCTTGCCAGATATTTGTGCTTC\n",
      "LHW10346       AAAAATGATGTGTCCACGCGTCTGCATTATTTCTGACCCTTATCGTTGCCAGATATTTGTGCTTC\n",
      "d39253         AAAAATGACGTGTCCACGCGTCTGCATTATTTCTGACCCTTGTCCTTGCCAGATATTTGTGCTTC\n",
      "d39404         AAAAATGATGTGTCCACGCGTCTGCATTATTTCTGACCCTTGTCCTTGCCAGATATTTGTGCTTC\n",
      "//                     --         -                     *--*                    \n",
      "L20090356      TAGGATTACCATACTTGAAAACAAACCATTGATGGTATTACTCCATACTTATTAATCTGTTCATC\n",
      "L2DZ0988       TAGGATTACCATACTTGAAAACAAACCATTGATGGTATTACTCCATACTTRTTAATMTGTTYATC\n",
      "L2DZ0989       TAGGATTACCATACTTGAAAACAAACCATTGATGGTATTACTCCATACTTATTAATCTGTTCATC\n",
      "L2DZ1006       TAGGATTACCATACTTGAAAACAAACCATTGATGGTATTACTCTATACTTATTAATCTGTTCATC\n",
      "L2DZ1019       TAGGATTACCATACTTGAAAACAAACCATTGATGGTATTACTCCATACTTATTAATCTGTTCATC\n",
      "L2DZ1027       TAGGATTACCATACTTGAAAACAAACCATTGATGGTATTACTCTATACTTATTAATCTGTTCATC\n",
      "L2DZ1060       TAGGATTACCATACTTGAAAACAAACCATTGATGGTATTACTCNATACTTATTAATCTGTTCATC\n",
      "L2DZ1070       TAGGATTACCATACTTGAAAACAAACCATTGATGGTATTACTCTATACTTATTAATCTGTTCATC\n",
      "L2DZ1243       TAGGATTACCATACTTGAAAACAAACCATTGATGGTATTACTCCATACTTATTAATCTGTTCATC\n",
      "L2DZ1282_1     TAGGATTACCATACTTGAAAACAAACCATTGATGGTATTACTCCATACTTATTAATCTGTTCATC\n",
      "LHW10069       TAGGATTACCATACTTGAAAACAAACCATTGATGGTATTACTCCATACTTATTAATCTGTTCATC\n",
      "LHW10071       TAGGATTACCATACTTGAAAACAAACCATTGATGGTATTACTCCATACTTATTAATCTGTTCATC\n",
      "LHW10074       TAGGATTACCATACTTGAAAACAAACCATTGATGGTATTACTCCATACTTATTAATCTGTTCATC\n",
      "LHW10346       TAGGATTACCATACTTGAAAACAAACCATTGATGGTATTACTCCATACTTATTAATCTGTTCATC\n",
      "LJ-118         TAGGATTACCATACTTGAAAACAAACCATTGATGGTAKTACTCCATACTTRTTAATCTGTTCATC\n",
      "//                                                  -     *      *     -    -   \n",
      "L20090356      CATTGAGAGTTGCACTCCACCATGTGTTAGTAGAAAATGAAATAATTGTGATTGATACATTTTTT\n",
      "L2DZ0988       CATTGAGAGTTGCACTCCACCATGTGTTAGTAGAAAATGAAATAATTGTGATTGATACATTTTTT\n",
      "L2DZ1007       CATTGAGAGTTGCACTCCACCATGTGTTAGTAGAAAATGAAATAATTGTGATTGCTACATTTTTT\n",
      "L2DZ1011       CATTGAGAGTTGCACTCCACCATGTGTTAGTAGAAAATGAAATAATTGTGATTRATACATTTTTT\n",
      "L2DZ1060       CATTGAGAGTTGCACTCCACCACGTGTTAGTAGAAAATGAAATAATTGTGATTGAGACATTTTTT\n",
      "L2DZ1180       CATTGAGAGTTGCACTCCACCATGTGTTAGTAGAAAATGAAATAATTGTGATTGCTACATTTTTT\n",
      "L2DZ1204       CATTGAGAGTTGCACTCCACCATGTGTTAGTAGAAAATGAAATAATTGTGATTGCTACATTTTTT\n",
      "L2DZ1266       CATTGAGAGTTGCACTCCACCATGTGTTAGTAGAAAATGAAATAATTGTGATTGCTACATTTTTT\n",
      "L2DZ1268       CATTGAGAGTTGCACTCCACCATGTGTTAGTAGAAAATGAAATAATTGTGATTGCTACATTTTTT\n",
      "LHW10069       CATTGAGAGTTGCACTCCACCATGTGTTRGTAGAAAATGAAATAATTGTGATTGATACATTTTTT\n",
      "LHW10074       CATTGAGAGTTGCACTCCACCATGTGTTAGTAGAAAATGAAATAATTGTGATTGATACATTTTTT\n",
      "LHW10346       CATTGAGAGTTGCACTCCACCACGTGTTAGTAGAAAATGAAATAATTGTGATTGATACATTTTTT\n",
      "//                                   *     -                        -*-         \n",
      "L20090356      TTGGCCAAATACTTCTTAGCGTCCGAGATCAATTTGACCAGAAGACCCTGATCTTTGCCCTCGTT\n",
      "L2DZ1007       TTGGTCAAATATTTCTTAGCTCCCAAGATCAATTTGACCAGAAGACCCTGATCTTTGTCCTCGTT\n",
      "L2DZ1204       TTGGTCAAATATTTCTTAGCGCCCAAGATCAATTTGACCAGAAGAGCCTGATCTTTGTCCTCGTT\n",
      "LHW10346       TTGGCCAAATATTTCTTAGCGTCCAAGATCAATTTGATCAGAAGACCCTGATCTTTGCCCTCGTT\n",
      "LJ-118         TTGGCCAAATACTTCTTAGCGTCCGAGATCAATTTGACCAGAAGACCCTGATCTTTGCCCTCGTT\n",
      "//                 *      *        -*  *            -       -           *       \n",
      "L20090356      GGGCCGACGTGATGGCGCTGAACCAGTCG\n",
      "L2DZ0988       GGGCCGACGTGATGGCGCTGAACCAGTCG\n",
      "L2DZ1060       GGGCCGACGTGATGGCGCTGAACCAGTCG\n",
      "LHW10071       GGGCCGACGTGATGGCGCTGAACCAGTCG\n",
      "d35422         GGGCCGACGTGATGGCGCTGAACCAGTCG\n",
      "d41389         GGGCCGACGTGATGGCGCTGAACCAGTCG\n",
      "//                                          |66|\n",
      "L20090356      AGTTAGTACATTCTATTGTTTCTTTCATTTTAGAGTGCTATCATCT\n",
      "L2DZ0984       AGTTAGTACATTCTATTGTTTCTTTCATTTTAGAGTGCTATTATCT\n",
      "L2DZ0988       AGTTAGCACATTCTATTGTTTCTTTCRTTTTAGAGTGCCATTATCT\n",
      "L2DZ0989       AGTTAGTACATTCTATTGTTTCTTTCATTTTAGAGTGCTATCATCT\n",
      "L2DZ1011       AGTTAGCACATTCTATTGTTTCTTTCATTTTAGAGTGCCATTATCT\n",
      "L2DZ1060       AGTTAGCACATTCTATTGTTTCTTTCATTTTAGAGTGCCATTATCT\n",
      "L2DZ1266       AGTTAGCACATTCTATTGTTTCTTTTATTTTAGAGTGCCATTATCT\n",
      "L2DZ1282_1     AGTTAGTACGTTCTATTGTTTCTTTCATTTTAGAGTGCTATCATCT\n",
      "LHW10069       AGTTAGCACATTCTATTGTTTCTTTCGTTTTAGAGTGCCATTATCT\n",
      "LHW10071       AGTTAGTACATTCTATTGTTTCTTTCATTTTAGAGTGCTATCATCT\n",
      "LHW10074       AGTTAGCACATTCTATTGTTTCTTTCGTTTTAGAGTGCCATTATCT\n",
      "LHW10346       AGTTAGCACATTCTATTGTTTCTTTCATTTTAGAGTGCCATTATC-\n",
      "LJ-118         AGTTRGTACATTCTATTGTTTCTTTCATTTTAGAGTGCTATTATCT\n",
      "//                 - *  -               -*           *  *    |68|\n",
      "L20090356      GCACGTCCGAAGTCCACGGCCGTCGCGAAGCGGTCCGCACTTCGGAGCGCCATGCCCT\n",
      "L2DZ0988       GCACGTCCGAAGTCCACGGCCGTCGCGAAGCGGTCCGCACTTCGGAGCGCCATGCCCT\n",
      "L2DZ1060       GCACGTCCGAAGTCCACGGCCGTCGCGAAGCGGTCCGCGCTGCGRAGCGCCATGCCCT\n",
      "L2DZ1243       GCACGTCCGAAGTCGACGGCCGTCGCGAAGCGGTCCGCGCTGCGGAGTGCCATGCCTT\n"
     ]
    },
    {
     "name": "stderr",
     "output_type": "stream",
     "text": [
      "cut: write error: Broken pipe\n"
     ]
    }
   ],
   "source": [
    "%%bash\n",
    "head -n 100 $min4.outfiles.loci | cut -c 1-80"
   ]
  },
  {
   "cell_type": "markdown",
   "metadata": {},
   "source": [
    "## Analysis methods"
   ]
  },
  {
   "cell_type": "code",
   "execution_count": 30,
   "metadata": {
    "collapsed": false
   },
   "outputs": [
    {
     "name": "stdout",
     "output_type": "stream",
     "text": [
      "  loading Assembly: min4_c85d5f2h5\n",
      "  from saved path: /fastscratch/de243/WB-PED/c85d5f2h5/min4_c85d5f2h5.json\n"
     ]
    },
    {
     "data": {
      "text/plain": [
       "'/fastscratch/de243/WB-PED/c85d5f2h5/min4_c85d5f2h5_outfiles/min4_c85d5f2h5.phy'"
      ]
     },
     "execution_count": 30,
     "metadata": {},
     "output_type": "execute_result"
    }
   ],
   "source": [
    "## reload, b/c I disconnected and came back.\n",
    "min4 = ip.load_json(\"/fastscratch/de243/WB-PED/c85d5f2h5/min4_c85d5f2h5.json\")\n",
    "min4.outfiles.loci[:-5]+'.phy'"
   ]
  },
  {
   "cell_type": "code",
   "execution_count": 89,
   "metadata": {
    "collapsed": false
   },
   "outputs": [],
   "source": [
    "## make raxml dir\n",
    "raxdir = os.path.join(os.curdir, \"analysis_raxml\")\n",
    "raxdir = os.path.realpath(raxdir)\n",
    "if not os.path.exists(raxdir):\n",
    "    os.mkdir(raxdir)\n",
    "    \n",
    "## get outgroup string\n",
    "OUT = \",\".join([i for i in min4.samples.keys() if i[0] == \"d\"])\n",
    "\n",
    "## run raxml in the background\n",
    "cmd = [\"/home2/de243/miniconda2/bin/raxmlHPC-PTHREADS\", \n",
    "        \"-f\", \"a\", \n",
    "        \"-m\", \"GTRGAMMA\", \n",
    "        \"-N\", \"100\", \n",
    "        \"-T\", \"8\", \n",
    "        \"-x\", \"12345\", \n",
    "        \"-p\", \"54321\",\n",
    "        \"-o\", OUT, \n",
    "        \"-w\", raxdir, \n",
    "        \"-n\", \"min4_tree\",\n",
    "        \"-s\", min4.outfiles.loci[:-5]+'.phy']\n",
    "\n",
    "## start process running in background\n",
    "proc = sps.Popen(cmd, stderr=sps.PIPE, stdout=sps.PIPE)"
   ]
  },
  {
   "cell_type": "code",
   "execution_count": 107,
   "metadata": {
    "collapsed": false
   },
   "outputs": [
    {
     "name": "stdout",
     "output_type": "stream",
     "text": [
      "still running: \n",
      "Bootstrap[2]: Time 38.238277 seconds, bootstrap likelihood -661693.484348, best rearrangement setting 12\n"
     ]
    }
   ],
   "source": [
    "## ask if it's still running in background\n",
    "if proc.poll():\n",
    "    print sps.returncode\n",
    "else:\n",
    "    tail = ! tail $raxdir/*info*\n",
    "    print \"still running: \\n\", tail[-1]"
   ]
  },
  {
   "cell_type": "markdown",
   "metadata": {},
   "source": [
    "### Plot the tree in R"
   ]
  },
  {
   "cell_type": "code",
   "execution_count": 15,
   "metadata": {
    "collapsed": false
   },
   "outputs": [
    {
     "ename": "ImportError",
     "evalue": "No module named rpy2.ipython",
     "output_type": "error",
     "traceback": [
      "\u001b[1;31m---------------------------------------------------------------------------\u001b[0m",
      "\u001b[1;31mImportError\u001b[0m                               Traceback (most recent call last)",
      "\u001b[1;32m<ipython-input-15-691c6d73b073>\u001b[0m in \u001b[0;36m<module>\u001b[1;34m()\u001b[0m\n\u001b[1;32m----> 1\u001b[1;33m \u001b[0mget_ipython\u001b[0m\u001b[1;33m(\u001b[0m\u001b[1;33m)\u001b[0m\u001b[1;33m.\u001b[0m\u001b[0mmagic\u001b[0m\u001b[1;33m(\u001b[0m\u001b[1;34mu'load_ext rpy2.ipython'\u001b[0m\u001b[1;33m)\u001b[0m\u001b[1;33m\u001b[0m\u001b[0m\n\u001b[0m",
      "\u001b[1;32m/home2/de243/miniconda2/lib/python2.7/site-packages/IPython/core/interactiveshell.pyc\u001b[0m in \u001b[0;36mmagic\u001b[1;34m(self, arg_s)\u001b[0m\n\u001b[0;32m   2334\u001b[0m         \u001b[0mmagic_name\u001b[0m\u001b[1;33m,\u001b[0m \u001b[0m_\u001b[0m\u001b[1;33m,\u001b[0m \u001b[0mmagic_arg_s\u001b[0m \u001b[1;33m=\u001b[0m \u001b[0marg_s\u001b[0m\u001b[1;33m.\u001b[0m\u001b[0mpartition\u001b[0m\u001b[1;33m(\u001b[0m\u001b[1;34m' '\u001b[0m\u001b[1;33m)\u001b[0m\u001b[1;33m\u001b[0m\u001b[0m\n\u001b[0;32m   2335\u001b[0m         \u001b[0mmagic_name\u001b[0m \u001b[1;33m=\u001b[0m \u001b[0mmagic_name\u001b[0m\u001b[1;33m.\u001b[0m\u001b[0mlstrip\u001b[0m\u001b[1;33m(\u001b[0m\u001b[0mprefilter\u001b[0m\u001b[1;33m.\u001b[0m\u001b[0mESC_MAGIC\u001b[0m\u001b[1;33m)\u001b[0m\u001b[1;33m\u001b[0m\u001b[0m\n\u001b[1;32m-> 2336\u001b[1;33m         \u001b[1;32mreturn\u001b[0m \u001b[0mself\u001b[0m\u001b[1;33m.\u001b[0m\u001b[0mrun_line_magic\u001b[0m\u001b[1;33m(\u001b[0m\u001b[0mmagic_name\u001b[0m\u001b[1;33m,\u001b[0m \u001b[0mmagic_arg_s\u001b[0m\u001b[1;33m)\u001b[0m\u001b[1;33m\u001b[0m\u001b[0m\n\u001b[0m\u001b[0;32m   2337\u001b[0m \u001b[1;33m\u001b[0m\u001b[0m\n\u001b[0;32m   2338\u001b[0m     \u001b[1;31m#-------------------------------------------------------------------------\u001b[0m\u001b[1;33m\u001b[0m\u001b[1;33m\u001b[0m\u001b[0m\n",
      "\u001b[1;32m/home2/de243/miniconda2/lib/python2.7/site-packages/IPython/core/interactiveshell.pyc\u001b[0m in \u001b[0;36mrun_line_magic\u001b[1;34m(self, magic_name, line)\u001b[0m\n\u001b[0;32m   2255\u001b[0m                 \u001b[0mkwargs\u001b[0m\u001b[1;33m[\u001b[0m\u001b[1;34m'local_ns'\u001b[0m\u001b[1;33m]\u001b[0m \u001b[1;33m=\u001b[0m \u001b[0msys\u001b[0m\u001b[1;33m.\u001b[0m\u001b[0m_getframe\u001b[0m\u001b[1;33m(\u001b[0m\u001b[0mstack_depth\u001b[0m\u001b[1;33m)\u001b[0m\u001b[1;33m.\u001b[0m\u001b[0mf_locals\u001b[0m\u001b[1;33m\u001b[0m\u001b[0m\n\u001b[0;32m   2256\u001b[0m             \u001b[1;32mwith\u001b[0m \u001b[0mself\u001b[0m\u001b[1;33m.\u001b[0m\u001b[0mbuiltin_trap\u001b[0m\u001b[1;33m:\u001b[0m\u001b[1;33m\u001b[0m\u001b[0m\n\u001b[1;32m-> 2257\u001b[1;33m                 \u001b[0mresult\u001b[0m \u001b[1;33m=\u001b[0m \u001b[0mfn\u001b[0m\u001b[1;33m(\u001b[0m\u001b[1;33m*\u001b[0m\u001b[0margs\u001b[0m\u001b[1;33m,\u001b[0m\u001b[1;33m**\u001b[0m\u001b[0mkwargs\u001b[0m\u001b[1;33m)\u001b[0m\u001b[1;33m\u001b[0m\u001b[0m\n\u001b[0m\u001b[0;32m   2258\u001b[0m             \u001b[1;32mreturn\u001b[0m \u001b[0mresult\u001b[0m\u001b[1;33m\u001b[0m\u001b[0m\n\u001b[0;32m   2259\u001b[0m \u001b[1;33m\u001b[0m\u001b[0m\n",
      "\u001b[1;32m<decorator-gen-64>\u001b[0m in \u001b[0;36mload_ext\u001b[1;34m(self, module_str)\u001b[0m\n",
      "\u001b[1;32m/home2/de243/miniconda2/lib/python2.7/site-packages/IPython/core/magic.pyc\u001b[0m in \u001b[0;36m<lambda>\u001b[1;34m(f, *a, **k)\u001b[0m\n\u001b[0;32m    191\u001b[0m     \u001b[1;31m# but it's overkill for just that one bit of state.\u001b[0m\u001b[1;33m\u001b[0m\u001b[1;33m\u001b[0m\u001b[0m\n\u001b[0;32m    192\u001b[0m     \u001b[1;32mdef\u001b[0m \u001b[0mmagic_deco\u001b[0m\u001b[1;33m(\u001b[0m\u001b[0marg\u001b[0m\u001b[1;33m)\u001b[0m\u001b[1;33m:\u001b[0m\u001b[1;33m\u001b[0m\u001b[0m\n\u001b[1;32m--> 193\u001b[1;33m         \u001b[0mcall\u001b[0m \u001b[1;33m=\u001b[0m \u001b[1;32mlambda\u001b[0m \u001b[0mf\u001b[0m\u001b[1;33m,\u001b[0m \u001b[1;33m*\u001b[0m\u001b[0ma\u001b[0m\u001b[1;33m,\u001b[0m \u001b[1;33m**\u001b[0m\u001b[0mk\u001b[0m\u001b[1;33m:\u001b[0m \u001b[0mf\u001b[0m\u001b[1;33m(\u001b[0m\u001b[1;33m*\u001b[0m\u001b[0ma\u001b[0m\u001b[1;33m,\u001b[0m \u001b[1;33m**\u001b[0m\u001b[0mk\u001b[0m\u001b[1;33m)\u001b[0m\u001b[1;33m\u001b[0m\u001b[0m\n\u001b[0m\u001b[0;32m    194\u001b[0m \u001b[1;33m\u001b[0m\u001b[0m\n\u001b[0;32m    195\u001b[0m         \u001b[1;32mif\u001b[0m \u001b[0mcallable\u001b[0m\u001b[1;33m(\u001b[0m\u001b[0marg\u001b[0m\u001b[1;33m)\u001b[0m\u001b[1;33m:\u001b[0m\u001b[1;33m\u001b[0m\u001b[0m\n",
      "\u001b[1;32m/home2/de243/miniconda2/lib/python2.7/site-packages/IPython/core/magics/extension.pyc\u001b[0m in \u001b[0;36mload_ext\u001b[1;34m(self, module_str)\u001b[0m\n\u001b[0;32m     64\u001b[0m         \u001b[1;32mif\u001b[0m \u001b[1;32mnot\u001b[0m \u001b[0mmodule_str\u001b[0m\u001b[1;33m:\u001b[0m\u001b[1;33m\u001b[0m\u001b[0m\n\u001b[0;32m     65\u001b[0m             \u001b[1;32mraise\u001b[0m \u001b[0mUsageError\u001b[0m\u001b[1;33m(\u001b[0m\u001b[1;34m'Missing module name.'\u001b[0m\u001b[1;33m)\u001b[0m\u001b[1;33m\u001b[0m\u001b[0m\n\u001b[1;32m---> 66\u001b[1;33m         \u001b[0mres\u001b[0m \u001b[1;33m=\u001b[0m \u001b[0mself\u001b[0m\u001b[1;33m.\u001b[0m\u001b[0mshell\u001b[0m\u001b[1;33m.\u001b[0m\u001b[0mextension_manager\u001b[0m\u001b[1;33m.\u001b[0m\u001b[0mload_extension\u001b[0m\u001b[1;33m(\u001b[0m\u001b[0mmodule_str\u001b[0m\u001b[1;33m)\u001b[0m\u001b[1;33m\u001b[0m\u001b[0m\n\u001b[0m\u001b[0;32m     67\u001b[0m \u001b[1;33m\u001b[0m\u001b[0m\n\u001b[0;32m     68\u001b[0m         \u001b[1;32mif\u001b[0m \u001b[0mres\u001b[0m \u001b[1;33m==\u001b[0m \u001b[1;34m'already loaded'\u001b[0m\u001b[1;33m:\u001b[0m\u001b[1;33m\u001b[0m\u001b[0m\n",
      "\u001b[1;32m/home2/de243/miniconda2/lib/python2.7/site-packages/IPython/core/extensions.pyc\u001b[0m in \u001b[0;36mload_extension\u001b[1;34m(self, module_str)\u001b[0m\n\u001b[0;32m     87\u001b[0m             \u001b[1;32mif\u001b[0m \u001b[0mmodule_str\u001b[0m \u001b[1;32mnot\u001b[0m \u001b[1;32min\u001b[0m \u001b[0msys\u001b[0m\u001b[1;33m.\u001b[0m\u001b[0mmodules\u001b[0m\u001b[1;33m:\u001b[0m\u001b[1;33m\u001b[0m\u001b[0m\n\u001b[0;32m     88\u001b[0m                 \u001b[1;32mwith\u001b[0m \u001b[0mprepended_to_syspath\u001b[0m\u001b[1;33m(\u001b[0m\u001b[0mself\u001b[0m\u001b[1;33m.\u001b[0m\u001b[0mipython_extension_dir\u001b[0m\u001b[1;33m)\u001b[0m\u001b[1;33m:\u001b[0m\u001b[1;33m\u001b[0m\u001b[0m\n\u001b[1;32m---> 89\u001b[1;33m                     \u001b[0m__import__\u001b[0m\u001b[1;33m(\u001b[0m\u001b[0mmodule_str\u001b[0m\u001b[1;33m)\u001b[0m\u001b[1;33m\u001b[0m\u001b[0m\n\u001b[0m\u001b[0;32m     90\u001b[0m             \u001b[0mmod\u001b[0m \u001b[1;33m=\u001b[0m \u001b[0msys\u001b[0m\u001b[1;33m.\u001b[0m\u001b[0mmodules\u001b[0m\u001b[1;33m[\u001b[0m\u001b[0mmodule_str\u001b[0m\u001b[1;33m]\u001b[0m\u001b[1;33m\u001b[0m\u001b[0m\n\u001b[0;32m     91\u001b[0m             \u001b[1;32mif\u001b[0m \u001b[0mself\u001b[0m\u001b[1;33m.\u001b[0m\u001b[0m_call_load_ipython_extension\u001b[0m\u001b[1;33m(\u001b[0m\u001b[0mmod\u001b[0m\u001b[1;33m)\u001b[0m\u001b[1;33m:\u001b[0m\u001b[1;33m\u001b[0m\u001b[0m\n",
      "\u001b[1;31mImportError\u001b[0m: No module named rpy2.ipython"
     ]
    }
   ],
   "source": [
    "%load_ext rpy2.ipython"
   ]
  },
  {
   "cell_type": "code",
   "execution_count": null,
   "metadata": {
    "collapsed": true
   },
   "outputs": [],
   "source": []
  }
 ],
 "metadata": {
  "anaconda-cloud": {},
  "kernelspec": {
   "display_name": "Python [conda root]",
   "language": "python",
   "name": "conda-root-py"
  },
  "language_info": {
   "codemirror_mode": {
    "name": "ipython",
    "version": 2
   },
   "file_extension": ".py",
   "mimetype": "text/x-python",
   "name": "python",
   "nbconvert_exporter": "python",
   "pygments_lexer": "ipython2",
   "version": "2.7.12"
  }
 },
 "nbformat": 4,
 "nbformat_minor": 0
}
