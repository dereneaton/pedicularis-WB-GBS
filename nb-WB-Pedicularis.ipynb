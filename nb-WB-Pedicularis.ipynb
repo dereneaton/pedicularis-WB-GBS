{
 "cells": [
  {
   "cell_type": "markdown",
   "metadata": {},
   "source": [
    "# Assembly and analysis of *Pedicularis* PE-GBS data set\n",
    "\n",
    "A library for 48 samples was prepared following the protocol described in Escudero et al. 2013 with the PstI restriction enzyme, followed by PCR amplification of primer ligated fragments. The library prep lacked a size selection step, which we discuss in the methods below.  The library was sequenced on one lane of an Illumina HiSeq 2000 yielding xxx reads."
   ]
  },
  {
   "cell_type": "markdown",
   "metadata": {},
   "source": [
    "### This notebook\n",
    "This notebook provides a fully reproducible workflow to assemble and analyze the Yu-Eaton-Ree 2012 Pedicularis GBS data set, and to save the results into a github repo with this notebook [see git repo here](https://github.com/dereneaton/pedicularis-WB-GBS). Starting from the raw data files, we denovo assemble the data in *ipyrad*, which involves demultiplexing and filtering reads, and then clustering within and between samples to identify homology, followed by final filtering and formating to create output files. Analysis of the resulting files is shown in separate notebooks, again available in the [git repo](https://github.com/dereneaton/pedicularis-WB-GBS)."
   ]
  },
  {
   "cell_type": "code",
   "execution_count": 5,
   "metadata": {
    "collapsed": false
   },
   "outputs": [
    {
     "name": "stdout",
     "output_type": "stream",
     "text": [
      "/home2/de243/pedicularis-WB-GBS\n",
      "/fastscratch/de243/\n",
      "https://github.com/dereneaton/pedicularis-WB-GBS.git\n"
     ]
    }
   ],
   "source": [
    "## show my local dir (where this notebook is located)\n",
    "! pwd\n",
    "\n",
    "## show the scratch dir (where data will be written)\n",
    "! echo /fastscratch/de243/\n",
    "\n",
    "## show that this dir has a git repo (.git file mapping to the address shown)\n",
    "## this allows me to push updates to this notebook directly to github, \n",
    "## and to easily share the notebook with collaborators and as a final document.\n",
    "! git config --get remote.origin.url"
   ]
  },
  {
   "cell_type": "markdown",
   "metadata": {},
   "source": [
    "### Import ipyrad and other common modules"
   ]
  },
  {
   "cell_type": "code",
   "execution_count": 54,
   "metadata": {
    "collapsed": false
   },
   "outputs": [
    {
     "name": "stdout",
     "output_type": "stream",
     "text": [
      "ipyrad v.0.4.3\n",
      "ipyparallel v.5.0.1\n",
      "numpy v.1.11.0\n"
     ]
    }
   ],
   "source": [
    "## all necessary software can be installed by uncommenting the command below\n",
    "# conda install -c ipyrad ipyrad -y\n",
    "\n",
    "## import basic modules and ipyrad and print version\n",
    "import os\n",
    "import socket\n",
    "import glob\n",
    "import subprocess as sps\n",
    "import numpy as np\n",
    "import ipyparallel as ipp\n",
    "import ipyrad as ip\n",
    "\n",
    "print \"ipyrad v.{}\".format(ip.__version__)\n",
    "print \"ipyparallel v.{}\".format(ipp.__version__)\n",
    "print \"numpy v.{}\".format(np.__version__)"
   ]
  },
  {
   "cell_type": "markdown",
   "metadata": {},
   "source": [
    "### The cluster\n",
    "This notebook was run connected to 32 cores on 4 nodes of the Louise HPC cluster at Yale. SSH Tunneling was set up following this [tutorial](http://ipyrad.readthedocs.io/HPC_Tunnel.html) to launch an *ipcluster* instance, which we use below to connect ipyrad to the cluster. Here I will create a view to the connected engines using the ipyparallel module, and confirm we are connected to all cores. "
   ]
  },
  {
   "cell_type": "code",
   "execution_count": 52,
   "metadata": {
    "collapsed": false
   },
   "outputs": [
    {
     "name": "stdout",
     "output_type": "stream",
     "text": [
      "  host compute node: [8 cores] on compute-24-14.local\n",
      "  host compute node: [16 cores] on compute-22-10.local\n",
      "  host compute node: [8 cores] on compute-20-15.local\n"
     ]
    }
   ],
   "source": [
    "## open a view to the client\n",
    "ipyclient = ipp.Client()\n",
    "\n",
    "## confirm we are connected to 4 8-core nodes\n",
    "hosts = ipyclient[:].apply_sync(socket.gethostname)\n",
    "for hostname in set(hosts):\n",
    "    print(\"host compute node: [{} cores] on {}\"\\\n",
    "          .format(hosts.count(hostname), hostname))"
   ]
  },
  {
   "cell_type": "markdown",
   "metadata": {},
   "source": [
    "### Set up a working directory"
   ]
  },
  {
   "cell_type": "code",
   "execution_count": 16,
   "metadata": {
    "collapsed": false
   },
   "outputs": [
    {
     "name": "stdout",
     "output_type": "stream",
     "text": [
      "working directory = /fastscratch/de243/WB-PED\n"
     ]
    }
   ],
   "source": [
    "## create a new working directory in HPC scratch dir\n",
    "WORK = \"/fastscratch/de243/WB-PED\"\n",
    "if not os.path.exists(WORK):\n",
    "    os.mkdir(WORK)\n",
    "\n",
    "## print it\n",
    "print \"working directory = {}\".format(WORK)"
   ]
  },
  {
   "cell_type": "markdown",
   "metadata": {},
   "source": [
    "### The raw data\n",
    "The raw R1 and R2 data are each split into 59 gzipped files approximately 300MB in size. The barcodes file maps sample names to barcodes that are contained inline in the R1 sequences, and are 4-8bp in length. The barcodes are printed a little further below. "
   ]
  },
  {
   "cell_type": "code",
   "execution_count": 120,
   "metadata": {
    "collapsed": false
   },
   "outputs": [],
   "source": [
    "## Locations of the raw data stored temporarily on Yale's Louise HPC cluster\n",
    "## Data are also stored more permanently on local computer tinus at Yale\n",
    "RAWREADS = \"/fastscratch/de243/TMP_RAWS/*00[1-3].fastq.gz\"\n",
    "BARCODES = \"/fastscratch/de243/TMP_RAWS/WB-PED_barcodes.txt\""
   ]
  },
  {
   "cell_type": "markdown",
   "metadata": {},
   "source": [
    "### Fastqc quality check\n",
    "\n",
    "I ran the program *fastQC* on the raw data files to do a quality check, the results of which (will be / are) available here [fastqc_dir](https://github.com/dereneaton/pedicularis-WB-GBS/blob/master/fastqc). Overall, quality scores were not terrible, but also not great, however, our biggest problem was very high adapter contamination. We will filter this out using the program *cutadapt* implemented in step2 of *ipyrad*, and discussed further below."
   ]
  },
  {
   "cell_type": "code",
   "execution_count": 104,
   "metadata": {
    "collapsed": false
   },
   "outputs": [
    {
     "name": "stdout",
     "output_type": "stream",
     "text": [
      " 118/118 tasks finished after  153 s\n",
      "done\n"
     ]
    }
   ],
   "source": [
    "## uncomment this to install fastqc with conda\n",
    "#conda install -c bioconda fastqc -q \n",
    "\n",
    "## create a tmp directory for fastqc outfiles (./tmp_fastqc)\n",
    "QUALDIR = os.path.join(os.path.realpath(os.curdir), \"tmp_fastqc\")\n",
    "if not os.path.exists(QUALDIR):\n",
    "    os.mkdir(QUALDIR)\n",
    "    \n",
    "## run fastqc on all raw data files and write outputs to fastqc tmpdir.\n",
    "## This is parallelized by load-balancing with ipyclient\n",
    "lbview = ipyclient.load_balanced_view()\n",
    "for rawfile in glob.glob(RAWREADS):\n",
    "    cmd = ['fastqc', rawfile, '--outdir', QUALDIR, '-t', '1', '-q']\n",
    "    lbview.apply_async(sps.check_output, cmd)\n",
    "    \n",
    "## block until finished and print progress\n",
    "ipyclient.wait_interactive()\n",
    "\n",
    "## I then pushed the tmp_fastq dir to the git repo\n",
    "## and then deleted the tmpdir\n",
    "! rm -r $QUALDIR"
   ]
  },
  {
   "cell_type": "markdown",
   "metadata": {},
   "source": [
    "### Create demultiplexed files for each Sample in *ipyrad*\n",
    "We set the location to the data and barcodes info for each object, and set the max barcode mismatch parameter to zero (strict), allowing no mismatches. "
   ]
  },
  {
   "cell_type": "code",
   "execution_count": 121,
   "metadata": {
    "collapsed": false
   },
   "outputs": [
    {
     "name": "stdout",
     "output_type": "stream",
     "text": [
      "  New Assembly: WB-PED_demux\n"
     ]
    }
   ],
   "source": [
    "## create an object to demultiplex each lane\n",
    "demux = ip.Assembly(\"WB-PED_demux\")\n",
    "\n",
    "## set basic derep parameters for the two objects\n",
    "demux.set_params(\"project_dir\", os.path.join(WORK, \"demux_reads\"))\n",
    "demux.set_params(\"raw_fastq_path\", RAWREADS)\n",
    "demux.set_params(\"barcodes_path\", BARCODES)\n",
    "demux.set_params(\"max_barcode_mismatch\", 0)\n",
    "demux.set_params(\"datatype\", \"pairgbs\")\n",
    "demux.set_params(\"restriction_overhang\", (\"TGCAG\", \"TGCAG\"))"
   ]
  },
  {
   "cell_type": "code",
   "execution_count": 122,
   "metadata": {
    "collapsed": false
   },
   "outputs": [
    {
     "name": "stdout",
     "output_type": "stream",
     "text": [
      "\n",
      "  Assembly: WB-PED_demux\n",
      "    [force] overwriting fastq files previously *created by ipyrad* in:\n",
      "    /fastscratch/de243/WB-PED/demux_reads/WB-PED_demux_fastqs\n",
      "    This does not affect your *original/raw data files*\n",
      "  [####################] 100%  chunking large files  | 0:02:01 | s1 | \n",
      "  [####################] 100%  sorting reads         | 0:00:44 | s1 | \n",
      "  [####################] 100%  writing/compressing   | 0:02:01 | s1 | \n"
     ]
    }
   ],
   "source": [
    "demux.run(\"1\", force=True)"
   ]
  },
  {
   "cell_type": "markdown",
   "metadata": {},
   "source": [
    "### Some quick summary stats, we'll look more in depth later"
   ]
  },
  {
   "cell_type": "code",
   "execution_count": 129,
   "metadata": {
    "collapsed": false
   },
   "outputs": [
    {
     "name": "stdout",
     "output_type": "stream",
     "text": [
      "raw_file                               total_reads    cut_found  bar_matched\r\n",
      "lane2_NoIndex_L002_R1_001.fastq            4000000      3998858      3761574\r\n",
      "lane2_NoIndex_L002_R2_001.fastq            4000000      3998858      3761574\r\n",
      "lane2_NoIndex_L002_R1_002.fastq            4000000      3998854      3745260\r\n",
      "lane2_NoIndex_L002_R2_002.fastq            4000000      3998854      3745260\r\n",
      "lane2_NoIndex_L002_R1_003.fastq            4000000      3998872      3739970\r\n",
      "lane2_NoIndex_L002_R2_003.fastq            4000000      3998872      3739970\r\n",
      "\r\n",
      "sample_name                            total_reads\r\n",
      "L20090356                                   210432\r\n",
      "L2DZ0984                                    236276\r\n",
      "L2DZ0988                                    251031\r\n",
      "L2DZ0989                                    218117\r\n",
      "L2DZ0990                                    229001\r\n",
      "L2DZ1006                                    273899\r\n",
      "L2DZ1007                                    605837\r\n",
      "L2DZ1011                                    338422\r\n",
      "L2DZ1016                                    180016\r\n",
      "L2DZ1019                                    178359\r\n",
      "L2DZ1027                                    244863\r\n",
      "L2DZ1060                                    874698\r\n",
      "L2DZ1070                                    251629\r\n",
      "L2DZ1180                                    255598\r\n",
      "L2DZ1204                                    161805\r\n",
      "L2DZ1243                                    365060\r\n",
      "L2DZ1266                                    179139\r\n",
      "L2DZ1268                                    153988\r\n",
      "L2DZ1282_1                                  252918\r\n",
      "LHW10069                                    200568\r\n",
      "LHW10071                                    198077\r\n",
      "LHW10074                                    434154\r\n",
      "LHW10346                                    387948\r\n",
      "LJ-118                                      224611\r\n",
      "d19long1                                    184615\r\n",
      "d30181                                      270951\r\n",
      "d30695                                      317195\r\n",
      "d31733                                      309074\r\n",
      "d33291                                       58596\r\n",
      "d34041                                       71829\r\n",
      "d35178                                      166321\r\n",
      "d35320                                       82297\r\n",
      "d35371                                       39178\r\n",
      "d35422                                      192027\r\n",
      "d39103                                      190063\r\n",
      "d39104                                      200959\r\n",
      "d39114                                      143834\r\n",
      "d39187                                       60867\r\n",
      "d39253                                      383082\r\n",
      "d39404                                      167867\r\n",
      "d39531                                      214060\r\n",
      "d39968                                      241734\r\n",
      "d40328                                      108758\r\n",
      "d41058                                      153527\r\n",
      "d41237                                      121392\r\n",
      "d41389                                      164129\r\n",
      "d41732                                      164746\r\n",
      "decor21                                     333257\r\n",
      "\r\n",
      "sample_name                               true_bar       obs_bar     N_records\r\n",
      "L20090356                                    ACAAA         ACAAA        210432\r\n",
      "L2DZ0984                                    TAGGAA        TAGGAA        236276\r\n",
      "L2DZ0988                                    TTCAGA        TTCAGA        251031\r\n",
      "L2DZ0989                                    CCAGCT        CCAGCT        218117\r\n",
      "L2DZ0990                                     GGTGT         GGTGT        229001\r\n",
      "L2DZ1006                                     GCTTA         GCTTA        273899\r\n",
      "L2DZ1007                                     CGCTT         CGCTT        605837\r\n",
      "L2DZ1011                                   GTCGATT       GTCGATT        338422\r\n",
      "L2DZ1016                                   GGACCTA       GGACCTA        180016\r\n",
      "L2DZ1019                                   GAACTTG       GAACTTG        178359\r\n",
      "L2DZ1027                                   GAATTCA       GAATTCA        244863\r\n",
      "L2DZ1060                                  CGCCTTAT      CGCCTTAT        874698\r\n",
      "L2DZ1070                                  CCGGATAT      CCGGATAT        251629\r\n",
      "L2DZ1180                                  TCTCAGTG      TCTCAGTG        255598\r\n",
      "L2DZ1204                                  TGGTACGT      TGGTACGT        161805\r\n",
      "L2DZ1243                                  TTCCTGGA      TTCCTGGA        365060\r\n",
      "L2DZ1266                                  TAGGCCAT      TAGGCCAT        179139\r\n",
      "L2DZ1268                                    GGTTGT        GGTTGT        153988\r\n",
      "L2DZ1282_1                                TAGCATGG      TAGCATGG        252918\r\n",
      "LHW10069                                     CTAGG         CTAGG        200568\r\n",
      "LHW10071                                     TCACG         TCACG        198077\r\n",
      "LHW10074                                     ACCGT         ACCGT        434154\r\n",
      "LHW10346                                    CCACAA        CCACAA        387948\r\n",
      "LJ-118                                      GCTCTA        GCTCTA        224611\r\n",
      "d19long1                                      TGCA          TGCA        184615\r\n",
      "d30181                                      ATGCCT        ATGCCT        270951\r\n",
      "d30695                                       TGCGA         TGCGA        317195\r\n",
      "d31733                                     AAAAGTT       AAAAGTT        309074\r\n",
      "d33291                                     AACGCCT       AACGCCT         58596\r\n",
      "d34041                                        CGAT          CGAT         71829\r\n",
      "d35178                                       GTATT         GTATT        166321\r\n",
      "d35320                                     AATATGG       AATATGG         82297\r\n",
      "d35371                                       AGCCG         AGCCG         39178\r\n",
      "d35422                                        CAGA          CAGA        192027\r\n",
      "d39103                                      CTTCCA        CTTCCA        190063\r\n",
      "d39104                                        GTAA          GTAA        200959\r\n",
      "d39114                                     CTTGCTT       CTTGCTT        143834\r\n",
      "d39187                                       TTCTG         TTCTG         60867\r\n",
      "d39253                                      AGTGGA        AGTGGA        383082\r\n",
      "d39404                                     TATTTTT       TATTTTT        167867\r\n",
      "d39531                                     ATGAAAG       ATGAAAG        214060\r\n",
      "d39968                                      GAGATA        GAGATA        241734\r\n",
      "d40328                                    ACGACTAG      ACGACTAG        108758\r\n",
      "d41058                                        ACTA          ACTA        153527\r\n",
      "d41237                                        AACT          AACT        121392\r\n",
      "d41389                                        GCGT          GCGT        164129\r\n",
      "d41732                                        CTCG          CTCG        164746\r\n",
      "decor21                                      CTGTA         CTGTA        333257\r\n",
      "no_match                                         _            _       753196\r\n"
     ]
    }
   ],
   "source": [
    "! cat $demux.stats_files.s1"
   ]
  },
  {
   "cell_type": "markdown",
   "metadata": {},
   "source": [
    "### Start an assembly of the data set\n",
    "I usually prefer to start my analyses from data that are already de-multiplexed, since the demux fastq files are typically what is available to others after a study is published and that data are made available online. So here we will create an Assembly object and read in the demultiplexed data. Then we will run step 2 to filter the data and take a close look at the results. "
   ]
  },
  {
   "cell_type": "code",
   "execution_count": 139,
   "metadata": {
    "collapsed": false
   },
   "outputs": [
    {
     "name": "stdout",
     "output_type": "stream",
     "text": [
      "  New Assembly: c85d5f2h5\n",
      "  0   assembly_name               c85d5f2h5                                    \n",
      "  1   project_dir                 /fastscratch/de243/WB-PED/c85d5f2h5          \n",
      "  2   raw_fastq_path                                                           \n",
      "  3   barcodes_path               /fastscratch/de243/TMP_RAWS/WB-PED_barcodes.txt\n",
      "  4   sorted_fastq_path           /fastscratch/de243/WB-PED/demux_reads/WB-PED_demux_fastqs/*gz\n",
      "  5   assembly_method             denovo                                       \n",
      "  6   reference_sequence                                                       \n",
      "  7   datatype                    pairgbs                                      \n",
      "  8   restriction_overhang        ('TGCAG', 'TGCAG')                           \n",
      "  9   max_low_qual_bases          5                                            \n",
      "  10  phred_Qscore_offset         33                                           \n",
      "  11  mindepth_statistical        6                                            \n",
      "  12  mindepth_majrule            6                                            \n",
      "  13  maxdepth                    10000                                        \n",
      "  14  clust_threshold             0.85                                         \n",
      "  15  max_barcode_mismatch        0                                            \n",
      "  16  filter_adapters             2                                            \n",
      "  17  filter_min_trim_len         35                                           \n",
      "  18  max_alleles_consens         2                                            \n",
      "  19  max_Ns_consens              (5, 5)                                       \n",
      "  20  max_Hs_consens              (5, 5)                                       \n",
      "  21  min_samples_locus           4                                            \n",
      "  22  max_SNPs_locus              (20, 20)                                     \n",
      "  23  max_Indels_locus            (8, 8)                                       \n",
      "  24  max_shared_Hs_locus         0.5                                          \n",
      "  25  edit_cutsites               (0, 0)                                       \n",
      "  26  trim_overhang               (0, 0, 0, 0)                                 \n",
      "  27  output_formats              *                                            \n",
      "  28  pop_assign_file                                                          \n"
     ]
    }
   ],
   "source": [
    "## this will be our assembly object for steps 1-6\n",
    "data = ip.Assembly(\"c85d5f2h5\")\n",
    "\n",
    "## demux data location\n",
    "DEMUX = os.path.join(demux.dirs.fastqs, \"*gz\")\n",
    "\n",
    "## set parameters for this assembly and print them \n",
    "data.set_params(\"project_dir\", os.path.join(WORK, data.name))\n",
    "data.set_params(\"sorted_fastq_path\", DEMUX)\n",
    "data.set_params(\"barcodes_path\", BARCODES)\n",
    "data.set_params(\"filter_adapters\", 2)\n",
    "data.set_params(\"datatype\", \"pairgbs\")\n",
    "data.set_params(\"restriction_overhang\", (\"TGCAG\", \"TGCAG\"))\n",
    "data.set_params(\"max_Hs_consens\", (5, 5))\n",
    "data.get_params()\n",
    "\n",
    "## the fastqc check found evidence of two adapters/primers\n",
    "## R1s have Illumina Paired End PCR Primer 2\n",
    "## R2s have Illumina Paired End PCR Primer 1\n",
    "primer2 = \"AGATCGGA\" #AGAGCGGTTCAGCAGGAATGCCGAGACCGATCTCGTAT\"\n",
    "primer1 = \"AGATCGGA\" #AGAGCGTCGTGTAGGGAAAGAGTGTAGATCTCGGTGG\"\n",
    "\n",
    "## By default ipyrad would search for the common prefix to the\n",
    "## two primers, but b/c they're super common in this data set\n",
    "## we'll set the full sequences explicitly\n",
    "data._hackersonly[\"p5_adapter\"] = primer2\n",
    "data._hackersonly[\"p3_adapter\"] = primer1"
   ]
  },
  {
   "cell_type": "code",
   "execution_count": 140,
   "metadata": {
    "collapsed": false
   },
   "outputs": [
    {
     "name": "stdout",
     "output_type": "stream",
     "text": [
      "\n",
      "  Assembly: c85d5f2h5\n",
      "  [####################] 100%  loading reads         | 0:00:01 | s1 | \n",
      "  [####################] 100%  processing reads      | 0:01:13 | s2 | \n"
     ]
    }
   ],
   "source": [
    "data.run(\"12\", force=True)"
   ]
  },
  {
   "cell_type": "code",
   "execution_count": 141,
   "metadata": {
    "collapsed": false
   },
   "outputs": [
    {
     "name": "stdout",
     "output_type": "stream",
     "text": [
      "            state  reads_raw  reads_passed_filter\n",
      "L20090356       2     210432               161428\n",
      "L2DZ0984        2     236276               181249\n",
      "L2DZ0988        2     251031               195450\n",
      "L2DZ0989        2     218117               170387\n",
      "L2DZ0990        2     229001               180509\n",
      "L2DZ1006        2     273899               213874\n",
      "L2DZ1007        2     605837               484602\n",
      "L2DZ1011        2     338422               238820\n",
      "L2DZ1016        2     180016               135545\n",
      "L2DZ1019        2     178359               130740\n",
      "L2DZ1027        2     244863               189679\n",
      "L2DZ1060        2     874698               635113\n",
      "L2DZ1070        2     251629               193653\n",
      "L2DZ1180        2     255598               193026\n",
      "L2DZ1204        2     161805               126138\n",
      "L2DZ1243        2     365060               275749\n",
      "L2DZ1266        2     179139               139922\n",
      "L2DZ1268        2     153988               114672\n",
      "L2DZ1282_1      2     252918               193437\n",
      "LHW10069        2     200568               156065\n",
      "LHW10071        2     198077               156908\n",
      "LHW10074        2     434154               322694\n",
      "LHW10346        2     387948               289454\n",
      "LJ-118          2     224611               175061\n",
      "d19long1        2     184615               139423\n",
      "d30181          2     270951               205346\n",
      "d30695          2     317195               255626\n",
      "d31733          2     309074               244396\n",
      "d33291          2      58596                45052\n",
      "d34041          2      71829                45482\n",
      "d35178          2     166321               113838\n",
      "d35320          2      82297                64837\n",
      "d35371          2      39178                26762\n",
      "d35422          2     192027               111208\n",
      "d39103          2     190063               150868\n",
      "d39104          2     200959               119536\n",
      "d39114          2     143834               116586\n",
      "d39187          2      60867                49453\n",
      "d39253          2     383082               312199\n",
      "d39404          2     167867               139401\n",
      "d39531          2     214060               176124\n",
      "d39968          2     241734               192699\n",
      "d40328          2     108758                83059\n",
      "d41058          2     153527                95228\n",
      "d41237          2     121392                82117\n",
      "d41389          2     164129               117066\n",
      "d41732          2     164746               112006\n",
      "decor21         2     333257               240428\n"
     ]
    }
   ],
   "source": [
    "print data.stats"
   ]
  },
  {
   "cell_type": "code",
   "execution_count": 137,
   "metadata": {
    "collapsed": false
   },
   "outputs": [
    {
     "name": "stdout",
     "output_type": "stream",
     "text": [
      "            state  reads_raw  reads_passed_filter\n",
      "L20090356       2     210432               185032\n",
      "L2DZ0984        2     236276               205672\n",
      "L2DZ0988        2     251031               225226\n",
      "L2DZ0989        2     218117               192268\n",
      "L2DZ0990        2     229001               204410\n",
      "L2DZ1006        2     273899               241373\n",
      "L2DZ1007        2     605837               540138\n",
      "L2DZ1011        2     338422               304366\n",
      "L2DZ1016        2     180016               160610\n",
      "L2DZ1019        2     178359               161434\n",
      "L2DZ1027        2     244863               222857\n",
      "L2DZ1060        2     874698               765719\n",
      "L2DZ1070        2     251629               224869\n",
      "L2DZ1180        2     255598               229999\n",
      "L2DZ1204        2     161805               148565\n",
      "L2DZ1243        2     365060               326697\n",
      "L2DZ1266        2     179139               163800\n",
      "L2DZ1268        2     153988               140695\n",
      "L2DZ1282_1      2     252918               234617\n",
      "LHW10069        2     200568               178270\n",
      "LHW10071        2     198077               174254\n",
      "LHW10074        2     434154               369423\n",
      "LHW10346        2     387948               354111\n",
      "LJ-118          2     224611               201512\n",
      "d19long1        2     184615               168689\n",
      "d30181          2     270951               244861\n",
      "d30695          2     317195               280340\n",
      "d31733          2     309074               284000\n",
      "d33291          2      58596                51561\n",
      "d34041          2      71829                63747\n",
      "d35178          2     166321               150247\n",
      "d35320          2      82297                76029\n",
      "d35371          2      39178                34719\n",
      "d35422          2     192027               172850\n",
      "d39103          2     190063               169187\n",
      "d39104          2     200959               186044\n",
      "d39114          2     143834               133041\n",
      "d39187          2      60867                55177\n",
      "d39253          2     383082               349464\n",
      "d39404          2     167867               155322\n",
      "d39531          2     214060               199511\n",
      "d39968          2     241734               218848\n",
      "d40328          2     108758                98860\n",
      "d41058          2     153527               139259\n",
      "d41237          2     121392               109820\n",
      "d41389          2     164129               148043\n",
      "d41732          2     164746               144418\n",
      "decor21         2     333257               299989\n"
     ]
    }
   ],
   "source": [
    "print data.stats"
   ]
  },
  {
   "cell_type": "code",
   "execution_count": 142,
   "metadata": {
    "collapsed": false
   },
   "outputs": [
    {
     "data": {
      "text/plain": [
       "{'L20090356': 'ACAAA',\n",
       " 'L2DZ0984': 'TAGGAA',\n",
       " 'L2DZ0988': 'TTCAGA',\n",
       " 'L2DZ0989': 'CCAGCT',\n",
       " 'L2DZ0990': 'GGTGT',\n",
       " 'L2DZ1006': 'GCTTA',\n",
       " 'L2DZ1007': 'CGCTT',\n",
       " 'L2DZ1011': 'GTCGATT',\n",
       " 'L2DZ1016': 'GGACCTA',\n",
       " 'L2DZ1019': 'GAACTTG',\n",
       " 'L2DZ1027': 'GAATTCA',\n",
       " 'L2DZ1060': 'CGCCTTAT',\n",
       " 'L2DZ1070': 'CCGGATAT',\n",
       " 'L2DZ1180': 'TCTCAGTG',\n",
       " 'L2DZ1204': 'TGGTACGT',\n",
       " 'L2DZ1243': 'TTCCTGGA',\n",
       " 'L2DZ1266': 'TAGGCCAT',\n",
       " 'L2DZ1268': 'GGTTGT',\n",
       " 'L2DZ1282_1': 'TAGCATGG',\n",
       " 'LHW10069': 'CTAGG',\n",
       " 'LHW10071': 'TCACG',\n",
       " 'LHW10074': 'ACCGT',\n",
       " 'LHW10346': 'CCACAA',\n",
       " 'LJ-118': 'GCTCTA',\n",
       " 'd19long1': 'TGCA',\n",
       " 'd30181': 'ATGCCT',\n",
       " 'd30695': 'TGCGA',\n",
       " 'd31733': 'AAAAGTT',\n",
       " 'd33291': 'AACGCCT',\n",
       " 'd34041': 'CGAT',\n",
       " 'd35178': 'GTATT',\n",
       " 'd35320': 'AATATGG',\n",
       " 'd35371': 'AGCCG',\n",
       " 'd35422': 'CAGA',\n",
       " 'd39103': 'CTTCCA',\n",
       " 'd39104': 'GTAA',\n",
       " 'd39114': 'CTTGCTT',\n",
       " 'd39187': 'TTCTG',\n",
       " 'd39253': 'AGTGGA',\n",
       " 'd39404': 'TATTTTT',\n",
       " 'd39531': 'ATGAAAG',\n",
       " 'd39968': 'GAGATA',\n",
       " 'd40328': 'ACGACTAG',\n",
       " 'd41058': 'ACTA',\n",
       " 'd41237': 'AACT',\n",
       " 'd41389': 'GCGT',\n",
       " 'd41732': 'CTCG',\n",
       " 'decor21': 'CTGTA'}"
      ]
     },
     "execution_count": 142,
     "metadata": {},
     "output_type": "execute_result"
    }
   ],
   "source": [
    "data.barcodes"
   ]
  }
 ],
 "metadata": {
  "anaconda-cloud": {},
  "kernelspec": {
   "display_name": "Python [conda root]",
   "language": "python",
   "name": "conda-root-py"
  },
  "language_info": {
   "codemirror_mode": {
    "name": "ipython",
    "version": 2
   },
   "file_extension": ".py",
   "mimetype": "text/x-python",
   "name": "python",
   "nbconvert_exporter": "python",
   "pygments_lexer": "ipython2",
   "version": "2.7.12"
  }
 },
 "nbformat": 4,
 "nbformat_minor": 0
}
